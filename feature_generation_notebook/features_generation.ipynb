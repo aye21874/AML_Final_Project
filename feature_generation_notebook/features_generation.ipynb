{
 "cells": [
  {
   "cell_type": "code",
   "execution_count": 2,
   "id": "4ee6bfbe",
   "metadata": {},
   "outputs": [],
   "source": [
    "import pandas as pd"
   ]
  },
  {
   "cell_type": "code",
   "execution_count": 3,
   "id": "597ec721",
   "metadata": {},
   "outputs": [],
   "source": [
    "transaction_data_path = \"/Users/sankalpapharande/Documents/2nd Semester/Applied ML/AML Project/transactions_train.csv\"\n",
    "transaction_data = pd.read_csv(transaction_data_path)\n",
    "transaction_data['t_dat'] = transaction_data['t_dat'].astype('datetime64[ns]')\n",
    "transaction_data = transaction_daH&M Dataset Analysis.ipynbta.sort_values(by=['t_dat'])"
   ]
  },
  {
   "cell_type": "markdown",
   "id": "5108691d",
   "metadata": {},
   "source": [
    "## Customer Features"
   ]
  },
  {
   "cell_type": "code",
   "execution_count": 7,
   "id": "2fc699f3",
   "metadata": {},
   "outputs": [],
   "source": [
    "aggregations = {\n",
    "    't_dat':[('latest_transaction_date','max'), ('visits','nunique'), ('oldest_transaction_date', 'min')],\n",
    "    'article_id':[('no_unique_items_bought','nunique'), ('total_items_bought','count'),('list_of_items_bought', list)],           \n",
    "    'price':[('total_monetary_value','sum'), ('max_spent_on_item','max')]\n",
    "}"
   ]
  },
  {
   "cell_type": "code",
   "execution_count": 8,
   "id": "67d4403b",
   "metadata": {},
   "outputs": [
    {
     "data": {
      "text/html": [
       "<div>\n",
       "<style scoped>\n",
       "    .dataframe tbody tr th:only-of-type {\n",
       "        vertical-align: middle;\n",
       "    }\n",
       "\n",
       "    .dataframe tbody tr th {\n",
       "        vertical-align: top;\n",
       "    }\n",
       "\n",
       "    .dataframe thead th {\n",
       "        text-align: right;\n",
       "    }\n",
       "</style>\n",
       "<table border=\"1\" class=\"dataframe\">\n",
       "  <thead>\n",
       "    <tr style=\"text-align: right;\">\n",
       "      <th></th>\n",
       "      <th>latest_transaction_date</th>\n",
       "      <th>visits</th>\n",
       "      <th>oldest_transaction_date</th>\n",
       "      <th>no_unique_items_bought</th>\n",
       "      <th>total_items_bought</th>\n",
       "      <th>list_of_items_bought</th>\n",
       "      <th>total_monetary_value</th>\n",
       "      <th>max_spent_on_item</th>\n",
       "      <th>recency</th>\n",
       "    </tr>\n",
       "    <tr>\n",
       "      <th>customer_id</th>\n",
       "      <th></th>\n",
       "      <th></th>\n",
       "      <th></th>\n",
       "      <th></th>\n",
       "      <th></th>\n",
       "      <th></th>\n",
       "      <th></th>\n",
       "      <th></th>\n",
       "      <th></th>\n",
       "    </tr>\n",
       "  </thead>\n",
       "  <tbody>\n",
       "    <tr>\n",
       "      <th>00000dbacae5abe5e23885899a1fa44253a17956c6d1c3d25f88aa139fdfc657</th>\n",
       "      <td>2020-09-05</td>\n",
       "      <td>10</td>\n",
       "      <td>2018-12-27</td>\n",
       "      <td>19</td>\n",
       "      <td>21</td>\n",
       "      <td>[625548001, 176209023, 627759010, 697138006, 5...</td>\n",
       "      <td>0.648983</td>\n",
       "      <td>0.054220</td>\n",
       "      <td>17</td>\n",
       "    </tr>\n",
       "    <tr>\n",
       "      <th>0000423b00ade91418cceaf3b26c6af3dd342b51fd051eec9c12fb36984420fa</th>\n",
       "      <td>2020-07-08</td>\n",
       "      <td>23</td>\n",
       "      <td>2018-09-21</td>\n",
       "      <td>64</td>\n",
       "      <td>86</td>\n",
       "      <td>[583558001, 639677008, 640244003, 521269001, 6...</td>\n",
       "      <td>2.601932</td>\n",
       "      <td>0.084729</td>\n",
       "      <td>76</td>\n",
       "    </tr>\n",
       "    <tr>\n",
       "      <th>000058a12d5b43e67d225668fa1f8d618c13dc232df0cad8ffe7ad4a1091e318</th>\n",
       "      <td>2020-09-15</td>\n",
       "      <td>7</td>\n",
       "      <td>2018-09-20</td>\n",
       "      <td>14</td>\n",
       "      <td>18</td>\n",
       "      <td>[663713001, 541518023, 663713001, 578020002, 3...</td>\n",
       "      <td>0.704780</td>\n",
       "      <td>0.067780</td>\n",
       "      <td>7</td>\n",
       "    </tr>\n",
       "    <tr>\n",
       "      <th>00005ca1c9ed5f5146b52ac8639a40ca9d57aeff4d1bd2c5feb1ca5dff07c43e</th>\n",
       "      <td>2019-06-09</td>\n",
       "      <td>1</td>\n",
       "      <td>2019-06-09</td>\n",
       "      <td>2</td>\n",
       "      <td>2</td>\n",
       "      <td>[732413001, 742079001]</td>\n",
       "      <td>0.060983</td>\n",
       "      <td>0.030492</td>\n",
       "      <td>471</td>\n",
       "    </tr>\n",
       "    <tr>\n",
       "      <th>00006413d8573cd20ed7128e53b7b13819fe5cfc2d801fe7fc0f26dd8d65a85a</th>\n",
       "      <td>2020-08-12</td>\n",
       "      <td>6</td>\n",
       "      <td>2018-10-12</td>\n",
       "      <td>12</td>\n",
       "      <td>13</td>\n",
       "      <td>[634249005, 677049001, 698286003, 707704003, 3...</td>\n",
       "      <td>0.469695</td>\n",
       "      <td>0.059305</td>\n",
       "      <td>41</td>\n",
       "    </tr>\n",
       "  </tbody>\n",
       "</table>\n",
       "</div>"
      ],
      "text/plain": [
       "                                                   latest_transaction_date  \\\n",
       "customer_id                                                                  \n",
       "00000dbacae5abe5e23885899a1fa44253a17956c6d1c3d...              2020-09-05   \n",
       "0000423b00ade91418cceaf3b26c6af3dd342b51fd051ee...              2020-07-08   \n",
       "000058a12d5b43e67d225668fa1f8d618c13dc232df0cad...              2020-09-15   \n",
       "00005ca1c9ed5f5146b52ac8639a40ca9d57aeff4d1bd2c...              2019-06-09   \n",
       "00006413d8573cd20ed7128e53b7b13819fe5cfc2d801fe...              2020-08-12   \n",
       "\n",
       "                                                    visits  \\\n",
       "customer_id                                                  \n",
       "00000dbacae5abe5e23885899a1fa44253a17956c6d1c3d...      10   \n",
       "0000423b00ade91418cceaf3b26c6af3dd342b51fd051ee...      23   \n",
       "000058a12d5b43e67d225668fa1f8d618c13dc232df0cad...       7   \n",
       "00005ca1c9ed5f5146b52ac8639a40ca9d57aeff4d1bd2c...       1   \n",
       "00006413d8573cd20ed7128e53b7b13819fe5cfc2d801fe...       6   \n",
       "\n",
       "                                                   oldest_transaction_date  \\\n",
       "customer_id                                                                  \n",
       "00000dbacae5abe5e23885899a1fa44253a17956c6d1c3d...              2018-12-27   \n",
       "0000423b00ade91418cceaf3b26c6af3dd342b51fd051ee...              2018-09-21   \n",
       "000058a12d5b43e67d225668fa1f8d618c13dc232df0cad...              2018-09-20   \n",
       "00005ca1c9ed5f5146b52ac8639a40ca9d57aeff4d1bd2c...              2019-06-09   \n",
       "00006413d8573cd20ed7128e53b7b13819fe5cfc2d801fe...              2018-10-12   \n",
       "\n",
       "                                                    no_unique_items_bought  \\\n",
       "customer_id                                                                  \n",
       "00000dbacae5abe5e23885899a1fa44253a17956c6d1c3d...                      19   \n",
       "0000423b00ade91418cceaf3b26c6af3dd342b51fd051ee...                      64   \n",
       "000058a12d5b43e67d225668fa1f8d618c13dc232df0cad...                      14   \n",
       "00005ca1c9ed5f5146b52ac8639a40ca9d57aeff4d1bd2c...                       2   \n",
       "00006413d8573cd20ed7128e53b7b13819fe5cfc2d801fe...                      12   \n",
       "\n",
       "                                                    total_items_bought  \\\n",
       "customer_id                                                              \n",
       "00000dbacae5abe5e23885899a1fa44253a17956c6d1c3d...                  21   \n",
       "0000423b00ade91418cceaf3b26c6af3dd342b51fd051ee...                  86   \n",
       "000058a12d5b43e67d225668fa1f8d618c13dc232df0cad...                  18   \n",
       "00005ca1c9ed5f5146b52ac8639a40ca9d57aeff4d1bd2c...                   2   \n",
       "00006413d8573cd20ed7128e53b7b13819fe5cfc2d801fe...                  13   \n",
       "\n",
       "                                                                                 list_of_items_bought  \\\n",
       "customer_id                                                                                             \n",
       "00000dbacae5abe5e23885899a1fa44253a17956c6d1c3d...  [625548001, 176209023, 627759010, 697138006, 5...   \n",
       "0000423b00ade91418cceaf3b26c6af3dd342b51fd051ee...  [583558001, 639677008, 640244003, 521269001, 6...   \n",
       "000058a12d5b43e67d225668fa1f8d618c13dc232df0cad...  [663713001, 541518023, 663713001, 578020002, 3...   \n",
       "00005ca1c9ed5f5146b52ac8639a40ca9d57aeff4d1bd2c...                             [732413001, 742079001]   \n",
       "00006413d8573cd20ed7128e53b7b13819fe5cfc2d801fe...  [634249005, 677049001, 698286003, 707704003, 3...   \n",
       "\n",
       "                                                    total_monetary_value  \\\n",
       "customer_id                                                                \n",
       "00000dbacae5abe5e23885899a1fa44253a17956c6d1c3d...              0.648983   \n",
       "0000423b00ade91418cceaf3b26c6af3dd342b51fd051ee...              2.601932   \n",
       "000058a12d5b43e67d225668fa1f8d618c13dc232df0cad...              0.704780   \n",
       "00005ca1c9ed5f5146b52ac8639a40ca9d57aeff4d1bd2c...              0.060983   \n",
       "00006413d8573cd20ed7128e53b7b13819fe5cfc2d801fe...              0.469695   \n",
       "\n",
       "                                                    max_spent_on_item  recency  \n",
       "customer_id                                                                     \n",
       "00000dbacae5abe5e23885899a1fa44253a17956c6d1c3d...           0.054220       17  \n",
       "0000423b00ade91418cceaf3b26c6af3dd342b51fd051ee...           0.084729       76  \n",
       "000058a12d5b43e67d225668fa1f8d618c13dc232df0cad...           0.067780        7  \n",
       "00005ca1c9ed5f5146b52ac8639a40ca9d57aeff4d1bd2c...           0.030492      471  \n",
       "00006413d8573cd20ed7128e53b7b13819fe5cfc2d801fe...           0.059305       41  "
      ]
     },
     "execution_count": 8,
     "metadata": {},
     "output_type": "execute_result"
    }
   ],
   "source": [
    "customer_features_temp = transaction_data.groupby(by='customer_id').agg(aggregations)\n",
    "customer_features_temp.columns = customer_features_temp.columns.get_level_values(1)\n",
    "recent_date = customer_features_temp['latest_transaction_date'].max()\n",
    "customer_features_temp['recency'] = customer_features_temp['latest_transaction_date'].apply(lambda x: (recent_date - x).days)\n",
    "customer_features_temp.head()"
   ]
  },
  {
   "cell_type": "code",
   "execution_count": 9,
   "id": "ae68d2ae",
   "metadata": {},
   "outputs": [
    {
     "data": {
      "text/html": [
       "<div>\n",
       "<style scoped>\n",
       "    .dataframe tbody tr th:only-of-type {\n",
       "        vertical-align: middle;\n",
       "    }\n",
       "\n",
       "    .dataframe tbody tr th {\n",
       "        vertical-align: top;\n",
       "    }\n",
       "\n",
       "    .dataframe thead th {\n",
       "        text-align: right;\n",
       "    }\n",
       "</style>\n",
       "<table border=\"1\" class=\"dataframe\">\n",
       "  <thead>\n",
       "    <tr style=\"text-align: right;\">\n",
       "      <th></th>\n",
       "      <th>customer_id</th>\n",
       "      <th>visits</th>\n",
       "      <th>no_unique_items_bought</th>\n",
       "      <th>total_items_bought</th>\n",
       "      <th>list_of_items_bought</th>\n",
       "      <th>total_monetary_value</th>\n",
       "      <th>max_spent_on_item</th>\n",
       "      <th>recency</th>\n",
       "      <th>latency</th>\n",
       "    </tr>\n",
       "  </thead>\n",
       "  <tbody>\n",
       "    <tr>\n",
       "      <th>0</th>\n",
       "      <td>00000dbacae5abe5e23885899a1fa44253a17956c6d1c3...</td>\n",
       "      <td>10</td>\n",
       "      <td>19</td>\n",
       "      <td>21</td>\n",
       "      <td>[625548001, 176209023, 627759010, 697138006, 5...</td>\n",
       "      <td>0.648983</td>\n",
       "      <td>0.054220</td>\n",
       "      <td>17</td>\n",
       "      <td>68.666667</td>\n",
       "    </tr>\n",
       "    <tr>\n",
       "      <th>1</th>\n",
       "      <td>0000423b00ade91418cceaf3b26c6af3dd342b51fd051e...</td>\n",
       "      <td>23</td>\n",
       "      <td>64</td>\n",
       "      <td>86</td>\n",
       "      <td>[583558001, 639677008, 640244003, 521269001, 6...</td>\n",
       "      <td>2.601932</td>\n",
       "      <td>0.084729</td>\n",
       "      <td>76</td>\n",
       "      <td>29.818182</td>\n",
       "    </tr>\n",
       "    <tr>\n",
       "      <th>2</th>\n",
       "      <td>000058a12d5b43e67d225668fa1f8d618c13dc232df0ca...</td>\n",
       "      <td>7</td>\n",
       "      <td>14</td>\n",
       "      <td>18</td>\n",
       "      <td>[663713001, 541518023, 663713001, 578020002, 3...</td>\n",
       "      <td>0.704780</td>\n",
       "      <td>0.067780</td>\n",
       "      <td>7</td>\n",
       "      <td>121.000000</td>\n",
       "    </tr>\n",
       "    <tr>\n",
       "      <th>3</th>\n",
       "      <td>00005ca1c9ed5f5146b52ac8639a40ca9d57aeff4d1bd2...</td>\n",
       "      <td>1</td>\n",
       "      <td>2</td>\n",
       "      <td>2</td>\n",
       "      <td>[732413001, 742079001]</td>\n",
       "      <td>0.060983</td>\n",
       "      <td>0.030492</td>\n",
       "      <td>471</td>\n",
       "      <td>0.000000</td>\n",
       "    </tr>\n",
       "    <tr>\n",
       "      <th>4</th>\n",
       "      <td>00006413d8573cd20ed7128e53b7b13819fe5cfc2d801f...</td>\n",
       "      <td>6</td>\n",
       "      <td>12</td>\n",
       "      <td>13</td>\n",
       "      <td>[634249005, 677049001, 698286003, 707704003, 3...</td>\n",
       "      <td>0.469695</td>\n",
       "      <td>0.059305</td>\n",
       "      <td>41</td>\n",
       "      <td>134.000000</td>\n",
       "    </tr>\n",
       "  </tbody>\n",
       "</table>\n",
       "</div>"
      ],
      "text/plain": [
       "                                         customer_id  visits  \\\n",
       "0  00000dbacae5abe5e23885899a1fa44253a17956c6d1c3...      10   \n",
       "1  0000423b00ade91418cceaf3b26c6af3dd342b51fd051e...      23   \n",
       "2  000058a12d5b43e67d225668fa1f8d618c13dc232df0ca...       7   \n",
       "3  00005ca1c9ed5f5146b52ac8639a40ca9d57aeff4d1bd2...       1   \n",
       "4  00006413d8573cd20ed7128e53b7b13819fe5cfc2d801f...       6   \n",
       "\n",
       "   no_unique_items_bought  total_items_bought  \\\n",
       "0                      19                  21   \n",
       "1                      64                  86   \n",
       "2                      14                  18   \n",
       "3                       2                   2   \n",
       "4                      12                  13   \n",
       "\n",
       "                                list_of_items_bought  total_monetary_value  \\\n",
       "0  [625548001, 176209023, 627759010, 697138006, 5...              0.648983   \n",
       "1  [583558001, 639677008, 640244003, 521269001, 6...              2.601932   \n",
       "2  [663713001, 541518023, 663713001, 578020002, 3...              0.704780   \n",
       "3                             [732413001, 742079001]              0.060983   \n",
       "4  [634249005, 677049001, 698286003, 707704003, 3...              0.469695   \n",
       "\n",
       "   max_spent_on_item  recency     latency  \n",
       "0           0.054220       17   68.666667  \n",
       "1           0.084729       76   29.818182  \n",
       "2           0.067780        7  121.000000  \n",
       "3           0.030492      471    0.000000  \n",
       "4           0.059305       41  134.000000  "
      ]
     },
     "execution_count": 9,
     "metadata": {},
     "output_type": "execute_result"
    }
   ],
   "source": [
    "customer_features = customer_features_temp.reset_index()\n",
    "customer_features['span'] = (customer_features['latest_transaction_date'] - customer_features['oldest_transaction_date'])\n",
    "customer_features['span'] = customer_features['span'].dt.days\n",
    "customer_features['latency'] = customer_features.apply(lambda x: 0 if x['visits'] <= 1 else x['span']/(x['visits']-1), axis=1)\n",
    "customer_features = customer_features.drop(columns=['latest_transaction_date', 'oldest_transaction_date', 'span'])\n",
    "customer_features.head()"
   ]
  },
  {
   "cell_type": "code",
   "execution_count": 10,
   "id": "40b393a9",
   "metadata": {},
   "outputs": [],
   "source": [
    "customer_features['avg_bought_per_visit'] = customer_features['total_items_bought']/customer_features['visits']"
   ]
  },
  {
   "cell_type": "code",
   "execution_count": 131,
   "id": "a2d70584",
   "metadata": {},
   "outputs": [],
   "source": [
    "# required_df = transaction_data.groupby(['customer_id','article_id'], as_index=False)['article_id'].count()\\\n",
    "#          .sort_values(by=['customer_id', 'article_id'])\\\n",
    "#          .drop_duplicates(subset='customer_id', keep='last')\n",
    "# required_df.columns = ['customer_id', 'most_frequently_bought_item_count']"
   ]
  },
  {
   "cell_type": "markdown",
   "id": "06db358f",
   "metadata": {},
   "source": [
    "## Items Information Related features\n",
    "1. ProductID/Item IDs of the recent transaction\n",
    "2.  ProductID/Item ID of the most frequently bought item"
   ]
  },
  {
   "cell_type": "markdown",
   "id": "20511d7a",
   "metadata": {},
   "source": [
    "### article_id and count of the most the recent transaction"
   ]
  },
  {
   "cell_type": "code",
   "execution_count": 11,
   "id": "8198ec91",
   "metadata": {},
   "outputs": [],
   "source": [
    "recent_transaction = transaction_data[['customer_id', 'article_id', 't_dat']].drop_duplicates()\\\n",
    "                        .sort_values(by=['t_dat'], ascending=False)\\\n",
    "                        .drop_duplicates(subset=['customer_id'], keep='first')"
   ]
  },
  {
   "cell_type": "code",
   "execution_count": 12,
   "id": "7b655e79",
   "metadata": {},
   "outputs": [],
   "source": [
    "recent_transactio_article_id = recent_transaction.drop(columns=['t_dat']).rename(columns={'article_id':'recent_transaction_article_id'})"
   ]
  },
  {
   "cell_type": "code",
   "execution_count": 13,
   "id": "78ec1782",
   "metadata": {},
   "outputs": [
    {
     "data": {
      "text/html": [
       "<div>\n",
       "<style scoped>\n",
       "    .dataframe tbody tr th:only-of-type {\n",
       "        vertical-align: middle;\n",
       "    }\n",
       "\n",
       "    .dataframe tbody tr th {\n",
       "        vertical-align: top;\n",
       "    }\n",
       "\n",
       "    .dataframe thead th {\n",
       "        text-align: right;\n",
       "    }\n",
       "</style>\n",
       "<table border=\"1\" class=\"dataframe\">\n",
       "  <thead>\n",
       "    <tr style=\"text-align: right;\">\n",
       "      <th></th>\n",
       "      <th>customer_id</th>\n",
       "      <th>recent_transaction_article_id</th>\n",
       "    </tr>\n",
       "  </thead>\n",
       "  <tbody>\n",
       "    <tr>\n",
       "      <th>31788323</th>\n",
       "      <td>fffef3b6b73545df065b521e19f64bf6fe93bfd450ab20...</td>\n",
       "      <td>898573003</td>\n",
       "    </tr>\n",
       "    <tr>\n",
       "      <th>31788270</th>\n",
       "      <td>ff57364873464edd79e4807350b1cc0902d14f24490e48...</td>\n",
       "      <td>706016003</td>\n",
       "    </tr>\n",
       "    <tr>\n",
       "      <th>31788266</th>\n",
       "      <td>ff54fe15368409b7d0d691cdeebe2d6a3fee5178105277...</td>\n",
       "      <td>886566001</td>\n",
       "    </tr>\n",
       "    <tr>\n",
       "      <th>31788275</th>\n",
       "      <td>ff5b8a8b26bf93a66290e9bd1b73393ac6a58968a78519...</td>\n",
       "      <td>913597001</td>\n",
       "    </tr>\n",
       "    <tr>\n",
       "      <th>31788291</th>\n",
       "      <td>ff94f31e864d9b655643ac4d2adab3611c7241adb5d34c...</td>\n",
       "      <td>901666001</td>\n",
       "    </tr>\n",
       "  </tbody>\n",
       "</table>\n",
       "</div>"
      ],
      "text/plain": [
       "                                                customer_id  \\\n",
       "31788323  fffef3b6b73545df065b521e19f64bf6fe93bfd450ab20...   \n",
       "31788270  ff57364873464edd79e4807350b1cc0902d14f24490e48...   \n",
       "31788266  ff54fe15368409b7d0d691cdeebe2d6a3fee5178105277...   \n",
       "31788275  ff5b8a8b26bf93a66290e9bd1b73393ac6a58968a78519...   \n",
       "31788291  ff94f31e864d9b655643ac4d2adab3611c7241adb5d34c...   \n",
       "\n",
       "          recent_transaction_article_id  \n",
       "31788323                      898573003  \n",
       "31788270                      706016003  \n",
       "31788266                      886566001  \n",
       "31788275                      913597001  \n",
       "31788291                      901666001  "
      ]
     },
     "execution_count": 13,
     "metadata": {},
     "output_type": "execute_result"
    }
   ],
   "source": [
    "recent_transactio_article_id.head()"
   ]
  },
  {
   "cell_type": "markdown",
   "id": "9f3321c8",
   "metadata": {},
   "source": [
    "### article_id and count of the most frequently bought item"
   ]
  },
  {
   "cell_type": "code",
   "execution_count": 14,
   "id": "755d12f6",
   "metadata": {},
   "outputs": [],
   "source": [
    "most_frequently_bought_item = transaction_data.groupby(['customer_id', 'article_id'])['t_dat']\\\n",
    "                                .agg(['count']).reset_index()\n",
    "most_frequently_bought_item = most_frequently_bought_item.set_index(['customer_id', 'article_id'])"
   ]
  },
  {
   "cell_type": "code",
   "execution_count": 15,
   "id": "9bdb21c4",
   "metadata": {},
   "outputs": [],
   "source": [
    "temp1 = transaction_data[['customer_id', 'article_id', 't_dat']].drop_duplicates()\n",
    "temp1 = temp1.set_index(['customer_id', 'article_id'])"
   ]
  },
  {
   "cell_type": "code",
   "execution_count": 16,
   "id": "4340872d",
   "metadata": {},
   "outputs": [],
   "source": [
    "frequently_bought_item_id = most_frequently_bought_item.join(temp1,  on=['customer_id', 'article_id'], how='inner')\n",
    "frequently_bought_item_id = frequently_bought_item_id.reset_index()\n",
    "req_df_1 = frequently_bought_item_id.sort_values(by=['t_dat'], ascending=False)\\\n",
    "            .drop_duplicates(subset=['customer_id','article_id'], keep='first')"
   ]
  },
  {
   "cell_type": "code",
   "execution_count": 17,
   "id": "a9aaf8b7",
   "metadata": {},
   "outputs": [
    {
     "data": {
      "text/html": [
       "<div>\n",
       "<style scoped>\n",
       "    .dataframe tbody tr th:only-of-type {\n",
       "        vertical-align: middle;\n",
       "    }\n",
       "\n",
       "    .dataframe tbody tr th {\n",
       "        vertical-align: top;\n",
       "    }\n",
       "\n",
       "    .dataframe thead th {\n",
       "        text-align: right;\n",
       "    }\n",
       "</style>\n",
       "<table border=\"1\" class=\"dataframe\">\n",
       "  <thead>\n",
       "    <tr style=\"text-align: right;\">\n",
       "      <th></th>\n",
       "      <th>customer_id</th>\n",
       "      <th>article_id</th>\n",
       "      <th>count</th>\n",
       "      <th>t_dat</th>\n",
       "    </tr>\n",
       "  </thead>\n",
       "  <tbody>\n",
       "    <tr>\n",
       "      <th>0</th>\n",
       "      <td>00000dbacae5abe5e23885899a1fa44253a17956c6d1c3...</td>\n",
       "      <td>797065001</td>\n",
       "      <td>2</td>\n",
       "      <td>2019-09-28</td>\n",
       "    </tr>\n",
       "    <tr>\n",
       "      <th>1</th>\n",
       "      <td>0000423b00ade91418cceaf3b26c6af3dd342b51fd051e...</td>\n",
       "      <td>811835004</td>\n",
       "      <td>4</td>\n",
       "      <td>2020-04-22</td>\n",
       "    </tr>\n",
       "    <tr>\n",
       "      <th>2</th>\n",
       "      <td>000058a12d5b43e67d225668fa1f8d618c13dc232df0ca...</td>\n",
       "      <td>750424014</td>\n",
       "      <td>2</td>\n",
       "      <td>2020-04-18</td>\n",
       "    </tr>\n",
       "    <tr>\n",
       "      <th>3</th>\n",
       "      <td>00005ca1c9ed5f5146b52ac8639a40ca9d57aeff4d1bd2...</td>\n",
       "      <td>742079001</td>\n",
       "      <td>1</td>\n",
       "      <td>2019-06-09</td>\n",
       "    </tr>\n",
       "    <tr>\n",
       "      <th>4</th>\n",
       "      <td>00006413d8573cd20ed7128e53b7b13819fe5cfc2d801f...</td>\n",
       "      <td>399061015</td>\n",
       "      <td>2</td>\n",
       "      <td>2019-10-09</td>\n",
       "    </tr>\n",
       "  </tbody>\n",
       "</table>\n",
       "</div>"
      ],
      "text/plain": [
       "                                         customer_id  article_id  count  \\\n",
       "0  00000dbacae5abe5e23885899a1fa44253a17956c6d1c3...   797065001      2   \n",
       "1  0000423b00ade91418cceaf3b26c6af3dd342b51fd051e...   811835004      4   \n",
       "2  000058a12d5b43e67d225668fa1f8d618c13dc232df0ca...   750424014      2   \n",
       "3  00005ca1c9ed5f5146b52ac8639a40ca9d57aeff4d1bd2...   742079001      1   \n",
       "4  00006413d8573cd20ed7128e53b7b13819fe5cfc2d801f...   399061015      2   \n",
       "\n",
       "       t_dat  \n",
       "0 2019-09-28  \n",
       "1 2020-04-22  \n",
       "2 2020-04-18  \n",
       "3 2019-06-09  \n",
       "4 2019-10-09  "
      ]
     },
     "execution_count": 17,
     "metadata": {},
     "output_type": "execute_result"
    }
   ],
   "source": [
    "frequently_bought_item_id_count = req_df_1.loc[req_df_1.groupby(['customer_id'])['count'].idxmax()].reset_index(drop=True)\n",
    "frequently_bought_item_id_count.head()"
   ]
  },
  {
   "cell_type": "markdown",
   "id": "e256ca87",
   "metadata": {},
   "source": [
    "## Time Features\n"
   ]
  },
  {
   "cell_type": "code",
   "execution_count": 40,
   "id": "b813fea5",
   "metadata": {},
   "outputs": [],
   "source": [
    "from datetime import datetime\n",
    "import calendar\n",
    "\n",
    "def to_date(dt):\n",
    "    return dt.day_name()\n",
    "\n",
    "def to_season(dt):\n",
    "    month = dt.month\n",
    "    if(month < 3):\n",
    "        return 'Winter'\n",
    "    elif(month < 6):\n",
    "        return 'Spring'\n",
    "    elif(month < 9):\n",
    "        return 'Summer'\n",
    "    elif(month < 12):\n",
    "        return 'Fall'\n",
    "    else:\n",
    "        return 'Winter'"
   ]
  },
  {
   "cell_type": "code",
   "execution_count": 44,
   "id": "82a00004",
   "metadata": {},
   "outputs": [],
   "source": [
    "time_feature_df = transaction_data"
   ]
  },
  {
   "cell_type": "code",
   "execution_count": 45,
   "id": "7eac1ffd",
   "metadata": {},
   "outputs": [],
   "source": [
    "time_feature_df['weekday'] = time_feature_df['t_dat'].apply(to_date)\n",
    "time_feature_df['Season'] = time_feature_df['t_dat'].apply(to_season)"
   ]
  },
  {
   "cell_type": "code",
   "execution_count": 49,
   "id": "99db6a4d",
   "metadata": {},
   "outputs": [],
   "source": [
    "frequent_time_features = time_feature_df.groupby(['customer_id']).agg(lambda x:x.value_counts().index[0])"
   ]
  },
  {
   "cell_type": "code",
   "execution_count": 52,
   "id": "160452f0",
   "metadata": {},
   "outputs": [
    {
     "data": {
      "text/html": [
       "<div>\n",
       "<style scoped>\n",
       "    .dataframe tbody tr th:only-of-type {\n",
       "        vertical-align: middle;\n",
       "    }\n",
       "\n",
       "    .dataframe tbody tr th {\n",
       "        vertical-align: top;\n",
       "    }\n",
       "\n",
       "    .dataframe thead th {\n",
       "        text-align: right;\n",
       "    }\n",
       "</style>\n",
       "<table border=\"1\" class=\"dataframe\">\n",
       "  <thead>\n",
       "    <tr style=\"text-align: right;\">\n",
       "      <th></th>\n",
       "      <th>t_dat</th>\n",
       "      <th>article_id</th>\n",
       "      <th>price</th>\n",
       "      <th>sales_channel_id</th>\n",
       "      <th>weekday</th>\n",
       "      <th>Season</th>\n",
       "    </tr>\n",
       "    <tr>\n",
       "      <th>customer_id</th>\n",
       "      <th></th>\n",
       "      <th></th>\n",
       "      <th></th>\n",
       "      <th></th>\n",
       "      <th></th>\n",
       "      <th></th>\n",
       "    </tr>\n",
       "  </thead>\n",
       "  <tbody>\n",
       "    <tr>\n",
       "      <th>00000dbacae5abe5e23885899a1fa44253a17956c6d1c3d25f88aa139fdfc657</th>\n",
       "      <td>2020-03-21</td>\n",
       "      <td>568601006</td>\n",
       "      <td>0.050831</td>\n",
       "      <td>2</td>\n",
       "      <td>Saturday</td>\n",
       "      <td>Spring</td>\n",
       "    </tr>\n",
       "    <tr>\n",
       "      <th>0000423b00ade91418cceaf3b26c6af3dd342b51fd051eec9c12fb36984420fa</th>\n",
       "      <td>2020-04-22</td>\n",
       "      <td>811835004</td>\n",
       "      <td>0.016932</td>\n",
       "      <td>2</td>\n",
       "      <td>Tuesday</td>\n",
       "      <td>Spring</td>\n",
       "    </tr>\n",
       "    <tr>\n",
       "      <th>000058a12d5b43e67d225668fa1f8d618c13dc232df0cad8ffe7ad4a1091e318</th>\n",
       "      <td>2020-04-18</td>\n",
       "      <td>663713001</td>\n",
       "      <td>0.025407</td>\n",
       "      <td>2</td>\n",
       "      <td>Saturday</td>\n",
       "      <td>Spring</td>\n",
       "    </tr>\n",
       "    <tr>\n",
       "      <th>00005ca1c9ed5f5146b52ac8639a40ca9d57aeff4d1bd2c5feb1ca5dff07c43e</th>\n",
       "      <td>2019-06-09</td>\n",
       "      <td>732413001</td>\n",
       "      <td>0.030492</td>\n",
       "      <td>2</td>\n",
       "      <td>Sunday</td>\n",
       "      <td>Summer</td>\n",
       "    </tr>\n",
       "    <tr>\n",
       "      <th>00006413d8573cd20ed7128e53b7b13819fe5cfc2d801fe7fc0f26dd8d65a85a</th>\n",
       "      <td>2020-08-12</td>\n",
       "      <td>399061015</td>\n",
       "      <td>0.027102</td>\n",
       "      <td>2</td>\n",
       "      <td>Wednesday</td>\n",
       "      <td>Summer</td>\n",
       "    </tr>\n",
       "  </tbody>\n",
       "</table>\n",
       "</div>"
      ],
      "text/plain": [
       "                                                        t_dat  article_id  \\\n",
       "customer_id                                                                 \n",
       "00000dbacae5abe5e23885899a1fa44253a17956c6d1c3d... 2020-03-21   568601006   \n",
       "0000423b00ade91418cceaf3b26c6af3dd342b51fd051ee... 2020-04-22   811835004   \n",
       "000058a12d5b43e67d225668fa1f8d618c13dc232df0cad... 2020-04-18   663713001   \n",
       "00005ca1c9ed5f5146b52ac8639a40ca9d57aeff4d1bd2c... 2019-06-09   732413001   \n",
       "00006413d8573cd20ed7128e53b7b13819fe5cfc2d801fe... 2020-08-12   399061015   \n",
       "\n",
       "                                                       price  \\\n",
       "customer_id                                                    \n",
       "00000dbacae5abe5e23885899a1fa44253a17956c6d1c3d...  0.050831   \n",
       "0000423b00ade91418cceaf3b26c6af3dd342b51fd051ee...  0.016932   \n",
       "000058a12d5b43e67d225668fa1f8d618c13dc232df0cad...  0.025407   \n",
       "00005ca1c9ed5f5146b52ac8639a40ca9d57aeff4d1bd2c...  0.030492   \n",
       "00006413d8573cd20ed7128e53b7b13819fe5cfc2d801fe...  0.027102   \n",
       "\n",
       "                                                    sales_channel_id  \\\n",
       "customer_id                                                            \n",
       "00000dbacae5abe5e23885899a1fa44253a17956c6d1c3d...                 2   \n",
       "0000423b00ade91418cceaf3b26c6af3dd342b51fd051ee...                 2   \n",
       "000058a12d5b43e67d225668fa1f8d618c13dc232df0cad...                 2   \n",
       "00005ca1c9ed5f5146b52ac8639a40ca9d57aeff4d1bd2c...                 2   \n",
       "00006413d8573cd20ed7128e53b7b13819fe5cfc2d801fe...                 2   \n",
       "\n",
       "                                                      weekday  Season  \n",
       "customer_id                                                            \n",
       "00000dbacae5abe5e23885899a1fa44253a17956c6d1c3d...   Saturday  Spring  \n",
       "0000423b00ade91418cceaf3b26c6af3dd342b51fd051ee...    Tuesday  Spring  \n",
       "000058a12d5b43e67d225668fa1f8d618c13dc232df0cad...   Saturday  Spring  \n",
       "00005ca1c9ed5f5146b52ac8639a40ca9d57aeff4d1bd2c...     Sunday  Summer  \n",
       "00006413d8573cd20ed7128e53b7b13819fe5cfc2d801fe...  Wednesday  Summer  "
      ]
     },
     "execution_count": 52,
     "metadata": {},
     "output_type": "execute_result"
    }
   ],
   "source": [
    "frequent_time_features.head()"
   ]
  },
  {
   "cell_type": "code",
   "execution_count": 53,
   "id": "f53f13fb",
   "metadata": {},
   "outputs": [],
   "source": [
    "time_features = frequent_time_features[['weekday', 'Season']]"
   ]
  },
  {
   "cell_type": "markdown",
   "id": "40d12209",
   "metadata": {},
   "source": [
    "## Combining All Features"
   ]
  },
  {
   "cell_type": "code",
   "execution_count": 54,
   "id": "af014c5b",
   "metadata": {},
   "outputs": [
    {
     "name": "stdout",
     "output_type": "stream",
     "text": [
      "(1362281, 10)\n",
      "(1362281, 2)\n",
      "(1362281, 4)\n",
      "(1362281, 2)\n"
     ]
    }
   ],
   "source": [
    "print(customer_features.shape)\n",
    "print(recent_transactio_article_id.shape)\n",
    "print(frequently_bought_item_id_count.shape)\n",
    "print(time_features.shape)"
   ]
  },
  {
   "cell_type": "code",
   "execution_count": 55,
   "id": "5f34cc8e",
   "metadata": {},
   "outputs": [
    {
     "data": {
      "text/plain": [
       "'/Users/sankalpapharande/Documents/2nd Semester/Applied ML/AML Project'"
      ]
     },
     "execution_count": 55,
     "metadata": {},
     "output_type": "execute_result"
    }
   ],
   "source": [
    "import os\n",
    "os.getcwd()"
   ]
  },
  {
   "cell_type": "code",
   "execution_count": 56,
   "id": "678c55c3",
   "metadata": {},
   "outputs": [],
   "source": [
    "customer_features.to_csv(\"/Users/sankalpapharande/Documents/2nd Semester/Applied ML/Preprocessing/customer_features.csv\", header=True)"
   ]
  },
  {
   "cell_type": "code",
   "execution_count": 57,
   "id": "050ef76b",
   "metadata": {},
   "outputs": [],
   "source": [
    "recent_transactio_article_id.to_csv(\"/Users/sankalpapharande/Documents/2nd Semester/Applied ML/Preprocessing/recent_transactio_article_id.csv\", header=True)"
   ]
  },
  {
   "cell_type": "code",
   "execution_count": 58,
   "id": "23a8b9b7",
   "metadata": {},
   "outputs": [],
   "source": [
    "frequently_bought_item_id_count.to_csv(\"/Users/sankalpapharande/Documents/2nd Semester/Applied ML/Preprocessing/frequently_bought_item_id_count.csv\", header=True)"
   ]
  },
  {
   "cell_type": "code",
   "execution_count": 59,
   "id": "e1f32360",
   "metadata": {},
   "outputs": [],
   "source": [
    "time_features.to_csv(\"/Users/sankalpapharande/Documents/2nd Semester/Applied ML/Preprocessing/time_features.csv\", header=True)"
   ]
  },
  {
   "cell_type": "markdown",
   "id": "1de10f48",
   "metadata": {},
   "source": [
    "## Glove Embeddings of Item Description"
   ]
  },
  {
   "cell_type": "code",
   "execution_count": 60,
   "id": "6a2e73fb",
   "metadata": {},
   "outputs": [],
   "source": [
    "article_data_path = \"/Users/sankalpapharande/Documents/2nd Semester/Applied ML/AML Project/articles.csv\"\n",
    "article_data = pd.read_csv(article_data_path)"
   ]
  },
  {
   "cell_type": "code",
   "execution_count": 62,
   "id": "fdb98258",
   "metadata": {},
   "outputs": [
    {
     "data": {
      "text/plain": [
       "(105542, 25)"
      ]
     },
     "execution_count": 62,
     "metadata": {},
     "output_type": "execute_result"
    }
   ],
   "source": [
    "article_data.shape"
   ]
  },
  {
   "cell_type": "code",
   "execution_count": 68,
   "id": "6f41433d",
   "metadata": {},
   "outputs": [],
   "source": [
    "text_columns = ['prod_name', 'product_type_name', 'product_group_name', 'graphical_appearance_name','colour_group_name',\n",
    "               'department_name', 'index_name', 'section_name', 'index_group_name','garment_group_name','detail_desc']"
   ]
  },
  {
   "cell_type": "code",
   "execution_count": 151,
   "id": "688873db",
   "metadata": {},
   "outputs": [],
   "source": [
    "processed_df = article_data\n",
    "for col in text_columns:\n",
    "    article_data[col] = article_data[col].astype(str)"
   ]
  },
  {
   "cell_type": "code",
   "execution_count": 152,
   "id": "86bde9c2",
   "metadata": {},
   "outputs": [],
   "source": [
    "processed_df['total_text'] = processed_df[text_columns].apply(lambda x: ' '.join(x), axis = 1)"
   ]
  },
  {
   "cell_type": "code",
   "execution_count": 153,
   "id": "a97dfe0b",
   "metadata": {},
   "outputs": [
    {
     "data": {
      "text/html": [
       "<div>\n",
       "<style scoped>\n",
       "    .dataframe tbody tr th:only-of-type {\n",
       "        vertical-align: middle;\n",
       "    }\n",
       "\n",
       "    .dataframe tbody tr th {\n",
       "        vertical-align: top;\n",
       "    }\n",
       "\n",
       "    .dataframe thead th {\n",
       "        text-align: right;\n",
       "    }\n",
       "</style>\n",
       "<table border=\"1\" class=\"dataframe\">\n",
       "  <thead>\n",
       "    <tr style=\"text-align: right;\">\n",
       "      <th></th>\n",
       "      <th>article_id</th>\n",
       "      <th>total_text</th>\n",
       "    </tr>\n",
       "  </thead>\n",
       "  <tbody>\n",
       "    <tr>\n",
       "      <th>0</th>\n",
       "      <td>108775015</td>\n",
       "      <td>Strap top Vest top Garment Upper body Solid Bl...</td>\n",
       "    </tr>\n",
       "    <tr>\n",
       "      <th>1</th>\n",
       "      <td>108775044</td>\n",
       "      <td>Strap top Vest top Garment Upper body Solid Wh...</td>\n",
       "    </tr>\n",
       "    <tr>\n",
       "      <th>2</th>\n",
       "      <td>108775051</td>\n",
       "      <td>Strap top (1) Vest top Garment Upper body Stri...</td>\n",
       "    </tr>\n",
       "    <tr>\n",
       "      <th>3</th>\n",
       "      <td>110065001</td>\n",
       "      <td>OP T-shirt (Idro) Bra Underwear Solid Black Cl...</td>\n",
       "    </tr>\n",
       "    <tr>\n",
       "      <th>4</th>\n",
       "      <td>110065002</td>\n",
       "      <td>OP T-shirt (Idro) Bra Underwear Solid White Cl...</td>\n",
       "    </tr>\n",
       "  </tbody>\n",
       "</table>\n",
       "</div>"
      ],
      "text/plain": [
       "   article_id                                         total_text\n",
       "0   108775015  Strap top Vest top Garment Upper body Solid Bl...\n",
       "1   108775044  Strap top Vest top Garment Upper body Solid Wh...\n",
       "2   108775051  Strap top (1) Vest top Garment Upper body Stri...\n",
       "3   110065001  OP T-shirt (Idro) Bra Underwear Solid Black Cl...\n",
       "4   110065002  OP T-shirt (Idro) Bra Underwear Solid White Cl..."
      ]
     },
     "execution_count": 153,
     "metadata": {},
     "output_type": "execute_result"
    }
   ],
   "source": [
    "processed_df = processed_df[[\"article_id\", \"total_text\"]]\n",
    "processed_df.head()"
   ]
  },
  {
   "cell_type": "code",
   "execution_count": 154,
   "id": "e3b25cf1",
   "metadata": {},
   "outputs": [],
   "source": [
    "def __get_numbers(str):\n",
    "    array = re.findall(r'[0-9]+', str)\n",
    "    return array"
   ]
  },
  {
   "cell_type": "code",
   "execution_count": 155,
   "id": "640124a2",
   "metadata": {},
   "outputs": [],
   "source": [
    "import inflect\n",
    "import re\n",
    "def __text_filter(s):\n",
    "    s = s.lower().split()\n",
    "\n",
    "    regex_repl = {\n",
    "        r'{{custom_tag_.*}}': \"\",\n",
    "        r'{{optout}}': \"\",\n",
    "        r\"{{voucher}}\": \"\",\n",
    "        r\"{{first_name}}\": \"\",\n",
    "        r\"{{.*}}\": \"\",\n",
    "        r\"\\bdon't\\b\": \"do not\",\n",
    "        r\"\\bdoesn't\\b\": \"does not\",\n",
    "        r\"\\bdidn't\\b\": \"did not\",\n",
    "        r\"\\bhasn't\\b\": \"has not\",\n",
    "        r\"\\bhaven't\\b\": \"have not\",\n",
    "        r\"\\bhadn't\\b\": \"had not\",\n",
    "        r\"\\bwon't\\b\": \"will not\",\n",
    "        r\"\\bwouldn't\\b\": \"would not\",\n",
    "        r\"\\bcan't\\b\": \"can not\",\n",
    "        r\"\\bcannot\\b\": \"can not\",\n",
    "        r\"\\bi'm\\b\": \"i am\"\n",
    "    }\n",
    "\n",
    "    xx = \"\"\n",
    "    for j in s:\n",
    "        xx += j + \" \"\n",
    "    s = xx\n",
    "    s = s.lower()\n",
    "    s = re.sub(r'\\d{1,3}\\.\\d{1,3}\\.\\d{1,3}\\.\\d{1,3}', ' _ip_ ', s)\n",
    "    s = re.sub(r'([\\'\\\"\\.\\(\\)\\!\\?\\-\\\\\\/\\,])', r' \\1 ', s)\n",
    "    s = re.sub(r'([\\;\\:\\|\"«\\n])', ' ', s)\n",
    "    s = s.replace('&', ' and ')\n",
    "    s = s.replace('+', ' plus ')\n",
    "    s = s.replace('%', ' percentage ')\n",
    "    s = s.replace('@', ' at ')\n",
    "\n",
    "    p = inflect.engine()\n",
    "    num_arr = __get_numbers(s)\n",
    "\n",
    "    num_to_words = [p.number_to_words(ele) for ele in num_arr]\n",
    "\n",
    "    length = len(num_arr)\n",
    "    for i in range(length):\n",
    "        s = re.sub(str(num_arr[i]), str(num_to_words[i]), s, 1)\n",
    "\n",
    "    for reg in regex_repl:\n",
    "        s = re.sub(reg, regex_repl[reg], s)\n",
    "\n",
    "    return s"
   ]
  },
  {
   "cell_type": "code",
   "execution_count": 156,
   "id": "bc382f15",
   "metadata": {},
   "outputs": [
    {
     "name": "stderr",
     "output_type": "stream",
     "text": [
      "/var/folders/7t/1f4pv0kx5nng3td8527pb8nr0000gn/T/ipykernel_36727/2517941721.py:1: SettingWithCopyWarning: \n",
      "A value is trying to be set on a copy of a slice from a DataFrame.\n",
      "Try using .loc[row_indexer,col_indexer] = value instead\n",
      "\n",
      "See the caveats in the documentation: https://pandas.pydata.org/pandas-docs/stable/user_guide/indexing.html#returning-a-view-versus-a-copy\n",
      "  processed_df['processed_description'] = processed_df['total_text'].apply(\n"
     ]
    }
   ],
   "source": [
    "processed_df['processed_description'] = processed_df['total_text'].apply(\n",
    "            lambda x:list(set(__text_filter(x).split())))"
   ]
  },
  {
   "cell_type": "code",
   "execution_count": 157,
   "id": "0ee42dd4",
   "metadata": {},
   "outputs": [
    {
     "data": {
      "text/html": [
       "<div>\n",
       "<style scoped>\n",
       "    .dataframe tbody tr th:only-of-type {\n",
       "        vertical-align: middle;\n",
       "    }\n",
       "\n",
       "    .dataframe tbody tr th {\n",
       "        vertical-align: top;\n",
       "    }\n",
       "\n",
       "    .dataframe thead th {\n",
       "        text-align: right;\n",
       "    }\n",
       "</style>\n",
       "<table border=\"1\" class=\"dataframe\">\n",
       "  <thead>\n",
       "    <tr style=\"text-align: right;\">\n",
       "      <th></th>\n",
       "      <th>article_id</th>\n",
       "      <th>total_text</th>\n",
       "      <th>processed_description</th>\n",
       "    </tr>\n",
       "  </thead>\n",
       "  <tbody>\n",
       "    <tr>\n",
       "      <th>0</th>\n",
       "      <td>108775015</td>\n",
       "      <td>Strap top Vest top Garment Upper body Solid Bl...</td>\n",
       "      <td>[basic, black, upper, body, top, narrow, vest,...</td>\n",
       "    </tr>\n",
       "    <tr>\n",
       "      <th>1</th>\n",
       "      <td>108775044</td>\n",
       "      <td>Strap top Vest top Garment Upper body Solid Wh...</td>\n",
       "      <td>[basic, upper, body, top, narrow, vest, with, ...</td>\n",
       "    </tr>\n",
       "    <tr>\n",
       "      <th>2</th>\n",
       "      <td>108775051</td>\n",
       "      <td>Strap top (1) Vest top Garment Upper body Stri...</td>\n",
       "      <td>[basic, upper, body, off, top, narrow, vest, w...</td>\n",
       "    </tr>\n",
       "    <tr>\n",
       "      <th>3</th>\n",
       "      <td>110065001</td>\n",
       "      <td>OP T-shirt (Idro) Bra Underwear Solid Black Cl...</td>\n",
       "      <td>[-, op, underwear, shape, black, adjustable, p...</td>\n",
       "    </tr>\n",
       "    <tr>\n",
       "      <th>4</th>\n",
       "      <td>110065002</td>\n",
       "      <td>OP T-shirt (Idro) Bra Underwear Solid White Cl...</td>\n",
       "      <td>[-, op, underwear, shape, adjustable, padded, ...</td>\n",
       "    </tr>\n",
       "  </tbody>\n",
       "</table>\n",
       "</div>"
      ],
      "text/plain": [
       "   article_id                                         total_text  \\\n",
       "0   108775015  Strap top Vest top Garment Upper body Solid Bl...   \n",
       "1   108775044  Strap top Vest top Garment Upper body Solid Wh...   \n",
       "2   108775051  Strap top (1) Vest top Garment Upper body Stri...   \n",
       "3   110065001  OP T-shirt (Idro) Bra Underwear Solid Black Cl...   \n",
       "4   110065002  OP T-shirt (Idro) Bra Underwear Solid White Cl...   \n",
       "\n",
       "                               processed_description  \n",
       "0  [basic, black, upper, body, top, narrow, vest,...  \n",
       "1  [basic, upper, body, top, narrow, vest, with, ...  \n",
       "2  [basic, upper, body, off, top, narrow, vest, w...  \n",
       "3  [-, op, underwear, shape, black, adjustable, p...  \n",
       "4  [-, op, underwear, shape, adjustable, padded, ...  "
      ]
     },
     "execution_count": 157,
     "metadata": {},
     "output_type": "execute_result"
    }
   ],
   "source": [
    "processed_df.head()"
   ]
  },
  {
   "cell_type": "code",
   "execution_count": 140,
   "id": "e6829367",
   "metadata": {},
   "outputs": [],
   "source": [
    "import pickle\n",
    "import numpy as np\n",
    "glove_embed = {}\n",
    "glove_path = \"/Users/sankalpapharande/Documents/2nd Semester/Applied ML/AML Project/glove.6B.100d.txt\"\n",
    "with open(glove_path, 'rb') as f:\n",
    "    for line in f:\n",
    "        values = line.split()\n",
    "        word = values[0].decode() \n",
    "        coefs = np.asarray(values[1:],dtype='float32')\n",
    "        glove_embed[word] = coefs"
   ]
  },
  {
   "cell_type": "code",
   "execution_count": 146,
   "id": "8a5f8f6b",
   "metadata": {},
   "outputs": [],
   "source": [
    "def __check_key_glove(key, missing):\n",
    "    try:\n",
    "        return glove_embed[key]\n",
    "    except KeyError:\n",
    "        missing.add(key)\n",
    "        return [0.0] * 100"
   ]
  },
  {
   "cell_type": "code",
   "execution_count": 158,
   "id": "8f9a10f1",
   "metadata": {},
   "outputs": [],
   "source": [
    "glove_cols = ['glove_vec' + str(i) for i in range(0, 100)]"
   ]
  },
  {
   "cell_type": "code",
   "execution_count": 159,
   "id": "5d2f2f04",
   "metadata": {},
   "outputs": [
    {
     "name": "stderr",
     "output_type": "stream",
     "text": [
      "/var/folders/7t/1f4pv0kx5nng3td8527pb8nr0000gn/T/ipykernel_36727/2976795876.py:2: SettingWithCopyWarning: \n",
      "A value is trying to be set on a copy of a slice from a DataFrame.\n",
      "Try using .loc[row_indexer,col_indexer] = value instead\n",
      "\n",
      "See the caveats in the documentation: https://pandas.pydata.org/pandas-docs/stable/user_guide/indexing.html#returning-a-view-versus-a-copy\n",
      "  processed_df['glove_vectors'] = processed_df['processed_description'].apply(\n",
      "/var/folders/7t/1f4pv0kx5nng3td8527pb8nr0000gn/T/ipykernel_36727/2976795876.py:7: PerformanceWarning: DataFrame is highly fragmented.  This is usually the result of calling `frame.insert` many times, which has poor performance.  Consider joining all columns at once using pd.concat(axis=1) instead. To get a de-fragmented frame, use `newframe = frame.copy()`\n",
      "  processed_df[glove_cols] = pd.DataFrame(processed_df['glove_vectors'].values.tolist(),\n",
      "/var/folders/7t/1f4pv0kx5nng3td8527pb8nr0000gn/T/ipykernel_36727/2976795876.py:7: PerformanceWarning: DataFrame is highly fragmented.  This is usually the result of calling `frame.insert` many times, which has poor performance.  Consider joining all columns at once using pd.concat(axis=1) instead. To get a de-fragmented frame, use `newframe = frame.copy()`\n",
      "  processed_df[glove_cols] = pd.DataFrame(processed_df['glove_vectors'].values.tolist(),\n"
     ]
    }
   ],
   "source": [
    "missing = set()\n",
    "processed_df['glove_vectors'] = processed_df['processed_description'].apply(\n",
    "    lambda x: np.mean([__check_key_glove(i, missing) for i in x], axis=0).tolist())\n",
    "processed_df = processed_df.dropna().reset_index(drop=True)\n",
    "\n",
    "\n",
    "processed_df[glove_cols] = pd.DataFrame(processed_df['glove_vectors'].values.tolist(),\n",
    "                                            index=processed_df.index)"
   ]
  },
  {
   "cell_type": "code",
   "execution_count": 160,
   "id": "8279205f",
   "metadata": {},
   "outputs": [
    {
     "name": "stdout",
     "output_type": "stream",
     "text": [
      "[[-0.25747910298799215, 0.25922152713725444, 0.13694610721186587, -0.25233183369824763, -0.042728573279945475, 0.13101831500075364, -0.14428915676513784, 0.24319010972976685, -0.13760647658062608, 0.2589836866643868, -0.01461572011344527, -0.23738442219205594, 0.3689913131100567, 0.2880926898827678, 0.19578284711429947, -0.07170833236733942, 0.1345261479237754, -0.09031242210614054, 0.024934946706420498, -0.39535198625373213, 0.0939156818448713, -0.10861342361098841, 0.14963815831824354, -0.12140388323582317, 0.3564305258424659, 0.0646544738035453, -0.09054700265589513, -0.654537729330753, 0.003860424223699068, -0.22343615756223076, 0.10969721033286892, 0.16605152621081, -0.05652905549657972, -0.2094235244746271, 0.0727893682686906, 0.1996846313735372, -0.08253481588326395, 0.3331710492309771, 0.12075826094338768, 0.16361052346856972, 0.02158775913382047, -0.3643606275712189, 0.22259390226712353, -0.2010824774440966, -0.42869398973293993, 0.04989868167199587, 0.06695600089273955, 0.22492247261106968, -0.015248422167803111, -0.23022747314289996, -0.22061618491026916, 0.15981468479884298, -0.10675558114522382, 0.6832756858907247, -0.15513110631390623, -1.4051108859283359, 0.14641342498362064, -0.04163057709995069, 1.2099698974113715, 0.4207679451884408, -0.00986537249072602, 0.40270299405643817, -0.09345542080700397, 0.34210042616254405, 0.20861341921906723, -0.00841884118945975, 0.3881951060734297, 0.011364864479554327, 0.02769015969610528, -0.15582986669859997, 0.013721055498248652, 0.0033778571891353317, 0.08188181712466758, 0.036992264813498446, 0.20634805082686639, 0.22562440278890886, -0.20752310654834696, 0.06749858829732004, -0.051932802938513066, -0.09676571714838869, 0.2622763145911066, 0.18415478734593643, -0.10671589621587803, -0.07870326328434442, -0.6146985727215284, -0.2582277408555934, -0.09817663462538469, 0.015333947970678932, -0.11263205189453929, 0.15998442000464388, -0.02716467911867719, -0.1030604743251675, 0.013882990810088813, -0.020605946743958874, -0.21500899779953456, 0.02664736775975478, -0.23206157923529022, -0.32362189906110106, 0.5769489587921846, 0.14406663287234933]]\n"
     ]
    }
   ],
   "source": [
    "print(list(processed_df[['glove_vectors']].head().iloc[0]))"
   ]
  },
  {
   "cell_type": "code",
   "execution_count": 165,
   "id": "be4fb506",
   "metadata": {},
   "outputs": [
    {
     "data": {
      "text/html": [
       "<div>\n",
       "<style scoped>\n",
       "    .dataframe tbody tr th:only-of-type {\n",
       "        vertical-align: middle;\n",
       "    }\n",
       "\n",
       "    .dataframe tbody tr th {\n",
       "        vertical-align: top;\n",
       "    }\n",
       "\n",
       "    .dataframe thead th {\n",
       "        text-align: right;\n",
       "    }\n",
       "</style>\n",
       "<table border=\"1\" class=\"dataframe\">\n",
       "  <thead>\n",
       "    <tr style=\"text-align: right;\">\n",
       "      <th></th>\n",
       "      <th>article_id</th>\n",
       "      <th>glove_vec0</th>\n",
       "      <th>glove_vec1</th>\n",
       "      <th>glove_vec2</th>\n",
       "      <th>glove_vec3</th>\n",
       "      <th>glove_vec4</th>\n",
       "      <th>glove_vec5</th>\n",
       "      <th>glove_vec6</th>\n",
       "      <th>glove_vec7</th>\n",
       "      <th>glove_vec8</th>\n",
       "      <th>...</th>\n",
       "      <th>glove_vec90</th>\n",
       "      <th>glove_vec91</th>\n",
       "      <th>glove_vec92</th>\n",
       "      <th>glove_vec93</th>\n",
       "      <th>glove_vec94</th>\n",
       "      <th>glove_vec95</th>\n",
       "      <th>glove_vec96</th>\n",
       "      <th>glove_vec97</th>\n",
       "      <th>glove_vec98</th>\n",
       "      <th>glove_vec99</th>\n",
       "    </tr>\n",
       "  </thead>\n",
       "  <tbody>\n",
       "    <tr>\n",
       "      <th>0</th>\n",
       "      <td>108775015</td>\n",
       "      <td>-0.257479</td>\n",
       "      <td>0.259222</td>\n",
       "      <td>0.136946</td>\n",
       "      <td>-0.252332</td>\n",
       "      <td>-0.042729</td>\n",
       "      <td>0.131018</td>\n",
       "      <td>-0.144289</td>\n",
       "      <td>0.243190</td>\n",
       "      <td>-0.137606</td>\n",
       "      <td>...</td>\n",
       "      <td>-0.027165</td>\n",
       "      <td>-0.103060</td>\n",
       "      <td>0.013883</td>\n",
       "      <td>-0.020606</td>\n",
       "      <td>-0.215009</td>\n",
       "      <td>0.026647</td>\n",
       "      <td>-0.232062</td>\n",
       "      <td>-0.323622</td>\n",
       "      <td>0.576949</td>\n",
       "      <td>0.144067</td>\n",
       "    </tr>\n",
       "    <tr>\n",
       "      <th>1</th>\n",
       "      <td>108775044</td>\n",
       "      <td>-0.263314</td>\n",
       "      <td>0.246323</td>\n",
       "      <td>0.143036</td>\n",
       "      <td>-0.237211</td>\n",
       "      <td>-0.055771</td>\n",
       "      <td>0.116141</td>\n",
       "      <td>-0.137286</td>\n",
       "      <td>0.251366</td>\n",
       "      <td>-0.134056</td>\n",
       "      <td>...</td>\n",
       "      <td>-0.040971</td>\n",
       "      <td>-0.110950</td>\n",
       "      <td>0.019565</td>\n",
       "      <td>-0.016827</td>\n",
       "      <td>-0.224636</td>\n",
       "      <td>0.025311</td>\n",
       "      <td>-0.231398</td>\n",
       "      <td>-0.318121</td>\n",
       "      <td>0.583604</td>\n",
       "      <td>0.140784</td>\n",
       "    </tr>\n",
       "    <tr>\n",
       "      <th>2</th>\n",
       "      <td>108775051</td>\n",
       "      <td>-0.240929</td>\n",
       "      <td>0.239273</td>\n",
       "      <td>0.203272</td>\n",
       "      <td>-0.333558</td>\n",
       "      <td>-0.046959</td>\n",
       "      <td>0.194002</td>\n",
       "      <td>-0.110387</td>\n",
       "      <td>0.294934</td>\n",
       "      <td>-0.147994</td>\n",
       "      <td>...</td>\n",
       "      <td>-0.101759</td>\n",
       "      <td>-0.036776</td>\n",
       "      <td>-0.033154</td>\n",
       "      <td>-0.059253</td>\n",
       "      <td>-0.293986</td>\n",
       "      <td>0.071189</td>\n",
       "      <td>-0.209148</td>\n",
       "      <td>-0.322547</td>\n",
       "      <td>0.592193</td>\n",
       "      <td>0.001066</td>\n",
       "    </tr>\n",
       "    <tr>\n",
       "      <th>3</th>\n",
       "      <td>110065001</td>\n",
       "      <td>-0.193816</td>\n",
       "      <td>0.283916</td>\n",
       "      <td>0.103505</td>\n",
       "      <td>-0.277805</td>\n",
       "      <td>-0.057416</td>\n",
       "      <td>0.158771</td>\n",
       "      <td>-0.079976</td>\n",
       "      <td>0.204655</td>\n",
       "      <td>-0.114611</td>\n",
       "      <td>...</td>\n",
       "      <td>-0.058738</td>\n",
       "      <td>-0.023422</td>\n",
       "      <td>0.001523</td>\n",
       "      <td>-0.092026</td>\n",
       "      <td>-0.162977</td>\n",
       "      <td>-0.039970</td>\n",
       "      <td>-0.210677</td>\n",
       "      <td>-0.233202</td>\n",
       "      <td>0.447961</td>\n",
       "      <td>0.058508</td>\n",
       "    </tr>\n",
       "    <tr>\n",
       "      <th>4</th>\n",
       "      <td>110065002</td>\n",
       "      <td>-0.195907</td>\n",
       "      <td>0.279292</td>\n",
       "      <td>0.105688</td>\n",
       "      <td>-0.272384</td>\n",
       "      <td>-0.062091</td>\n",
       "      <td>0.153438</td>\n",
       "      <td>-0.077466</td>\n",
       "      <td>0.207586</td>\n",
       "      <td>-0.113338</td>\n",
       "      <td>...</td>\n",
       "      <td>-0.063687</td>\n",
       "      <td>-0.026250</td>\n",
       "      <td>0.003560</td>\n",
       "      <td>-0.090671</td>\n",
       "      <td>-0.166428</td>\n",
       "      <td>-0.040449</td>\n",
       "      <td>-0.210439</td>\n",
       "      <td>-0.231230</td>\n",
       "      <td>0.450347</td>\n",
       "      <td>0.057331</td>\n",
       "    </tr>\n",
       "  </tbody>\n",
       "</table>\n",
       "<p>5 rows × 101 columns</p>\n",
       "</div>"
      ],
      "text/plain": [
       "   article_id  glove_vec0  glove_vec1  glove_vec2  glove_vec3  glove_vec4  \\\n",
       "0   108775015   -0.257479    0.259222    0.136946   -0.252332   -0.042729   \n",
       "1   108775044   -0.263314    0.246323    0.143036   -0.237211   -0.055771   \n",
       "2   108775051   -0.240929    0.239273    0.203272   -0.333558   -0.046959   \n",
       "3   110065001   -0.193816    0.283916    0.103505   -0.277805   -0.057416   \n",
       "4   110065002   -0.195907    0.279292    0.105688   -0.272384   -0.062091   \n",
       "\n",
       "   glove_vec5  glove_vec6  glove_vec7  glove_vec8  ...  glove_vec90  \\\n",
       "0    0.131018   -0.144289    0.243190   -0.137606  ...    -0.027165   \n",
       "1    0.116141   -0.137286    0.251366   -0.134056  ...    -0.040971   \n",
       "2    0.194002   -0.110387    0.294934   -0.147994  ...    -0.101759   \n",
       "3    0.158771   -0.079976    0.204655   -0.114611  ...    -0.058738   \n",
       "4    0.153438   -0.077466    0.207586   -0.113338  ...    -0.063687   \n",
       "\n",
       "   glove_vec91  glove_vec92  glove_vec93  glove_vec94  glove_vec95  \\\n",
       "0    -0.103060     0.013883    -0.020606    -0.215009     0.026647   \n",
       "1    -0.110950     0.019565    -0.016827    -0.224636     0.025311   \n",
       "2    -0.036776    -0.033154    -0.059253    -0.293986     0.071189   \n",
       "3    -0.023422     0.001523    -0.092026    -0.162977    -0.039970   \n",
       "4    -0.026250     0.003560    -0.090671    -0.166428    -0.040449   \n",
       "\n",
       "   glove_vec96  glove_vec97  glove_vec98  glove_vec99  \n",
       "0    -0.232062    -0.323622     0.576949     0.144067  \n",
       "1    -0.231398    -0.318121     0.583604     0.140784  \n",
       "2    -0.209148    -0.322547     0.592193     0.001066  \n",
       "3    -0.210677    -0.233202     0.447961     0.058508  \n",
       "4    -0.210439    -0.231230     0.450347     0.057331  \n",
       "\n",
       "[5 rows x 101 columns]"
      ]
     },
     "execution_count": 165,
     "metadata": {},
     "output_type": "execute_result"
    }
   ],
   "source": [
    "article_embedding_df = processed_df[[\"article_id\"] + glove_cols]\n",
    "article_embedding_df.head()"
   ]
  },
  {
   "cell_type": "code",
   "execution_count": 166,
   "id": "9375113b",
   "metadata": {},
   "outputs": [],
   "source": [
    "article_embedding_df.to_csv(\"/Users/sankalpapharande/Documents/2nd Semester/Applied ML/Preprocessing/article_embedding.csv\", header=True)"
   ]
  },
  {
   "cell_type": "code",
   "execution_count": 167,
   "id": "0d213e80",
   "metadata": {},
   "outputs": [
    {
     "data": {
      "text/plain": [
       "(105542, 101)"
      ]
     },
     "execution_count": 167,
     "metadata": {},
     "output_type": "execute_result"
    }
   ],
   "source": [
    "article_embedding_df.shape"
   ]
  },
  {
   "cell_type": "code",
   "execution_count": null,
   "id": "71c42874",
   "metadata": {},
   "outputs": [],
   "source": []
  }
 ],
 "metadata": {
  "kernelspec": {
   "display_name": "Python 3 (ipykernel)",
   "language": "python",
   "name": "python3"
  },
  "language_info": {
   "codemirror_mode": {
    "name": "ipython",
    "version": 3
   },
   "file_extension": ".py",
   "mimetype": "text/x-python",
   "name": "python",
   "nbconvert_exporter": "python",
   "pygments_lexer": "ipython3",
   "version": "3.9.12"
  }
 },
 "nbformat": 4,
 "nbformat_minor": 5
}