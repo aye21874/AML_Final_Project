{
 "cells": [
  {
   "cell_type": "code",
   "execution_count": 12,
   "id": "ed7ee41d",
   "metadata": {},
   "outputs": [],
   "source": [
    "import pandas as pd\n",
    "import numpy as np"
   ]
  },
  {
   "cell_type": "code",
   "execution_count": 13,
   "id": "92267627",
   "metadata": {},
   "outputs": [],
   "source": [
    "articles_data_path = r'C:\\Users\\ayush\\Documents\\Columbia MS DS\\2nd_SEM\\Applied_ML\\AML_Final_Project\\Data\\articles.csv'\n",
    "customer_data_path = r'C:\\Users\\ayush\\Documents\\Columbia MS DS\\2nd_SEM\\Applied_ML\\AML_Final_Project\\Data\\customers.csv'\n",
    "transaction_data_path = r'C:\\Users\\ayush\\Documents\\Columbia MS DS\\2nd_SEM\\Applied_ML\\AML_Final_Project\\Data\\transactions_train.csv'"
   ]
  },
  {
   "cell_type": "code",
   "execution_count": 14,
   "id": "742ae752",
   "metadata": {},
   "outputs": [],
   "source": [
    "customers_data = pd.read_csv(customer_data_path)\n",
    "transaction_data = pd.read_csv(transaction_data_path)\n",
    "articles_data = pd.read_csv(articles_data_path)\n",
    "\n"
   ]
  },
  {
   "cell_type": "markdown",
   "id": "2a9c8880",
   "metadata": {},
   "source": [
    "# Preprocessing Customer Data"
   ]
  },
  {
   "cell_type": "code",
   "execution_count": 8,
   "id": "acc1ab34",
   "metadata": {},
   "outputs": [
    {
     "name": "stderr",
     "output_type": "stream",
     "text": [
      "C:\\Users\\ayush\\AppData\\Local\\Temp/ipykernel_13124/3323159919.py:4: FutureWarning: In a future version of pandas all arguments of DataFrame.drop except for the argument 'labels' will be keyword-only\n",
      "  b=b.drop('customer_id', 1).reset_index()\n"
     ]
    },
    {
     "ename": "NameError",
     "evalue": "name 'bb' is not defined",
     "output_type": "error",
     "traceback": [
      "\u001b[1;31m---------------------------------------------------------------------------\u001b[0m",
      "\u001b[1;31mNameError\u001b[0m                                 Traceback (most recent call last)",
      "\u001b[1;32m~\\AppData\\Local\\Temp/ipykernel_13124/3323159919.py\u001b[0m in \u001b[0;36m<module>\u001b[1;34m\u001b[0m\n\u001b[0;32m      3\u001b[0m \u001b[0mb\u001b[0m\u001b[1;33m=\u001b[0m\u001b[0ma\u001b[0m\u001b[1;33m.\u001b[0m\u001b[0mapply\u001b[0m\u001b[1;33m(\u001b[0m\u001b[1;32mlambda\u001b[0m \u001b[0mx\u001b[0m\u001b[1;33m:\u001b[0m \u001b[1;33m(\u001b[0m\u001b[0mx\u001b[0m\u001b[1;33m.\u001b[0m\u001b[0mnunique\u001b[0m\u001b[1;33m(\u001b[0m\u001b[1;33m)\u001b[0m\u001b[1;33m)\u001b[0m\u001b[1;33m)\u001b[0m\u001b[1;33m\u001b[0m\u001b[1;33m\u001b[0m\u001b[0m\n\u001b[0;32m      4\u001b[0m \u001b[0mb\u001b[0m\u001b[1;33m=\u001b[0m\u001b[0mb\u001b[0m\u001b[1;33m.\u001b[0m\u001b[0mdrop\u001b[0m\u001b[1;33m(\u001b[0m\u001b[1;34m'customer_id'\u001b[0m\u001b[1;33m,\u001b[0m \u001b[1;36m1\u001b[0m\u001b[1;33m)\u001b[0m\u001b[1;33m.\u001b[0m\u001b[0mreset_index\u001b[0m\u001b[1;33m(\u001b[0m\u001b[1;33m)\u001b[0m\u001b[1;33m\u001b[0m\u001b[1;33m\u001b[0m\u001b[0m\n\u001b[1;32m----> 5\u001b[1;33m \u001b[0mbbb\u001b[0m \u001b[1;33m=\u001b[0m \u001b[0mbb\u001b[0m\u001b[1;33m.\u001b[0m\u001b[0mgroupby\u001b[0m\u001b[1;33m(\u001b[0m\u001b[0mlevel\u001b[0m\u001b[1;33m=\u001b[0m\u001b[1;36m0\u001b[0m\u001b[1;33m)\u001b[0m\u001b[1;33m.\u001b[0m\u001b[0mmax\u001b[0m\u001b[1;33m(\u001b[0m\u001b[1;33m)\u001b[0m\u001b[1;33m\u001b[0m\u001b[1;33m\u001b[0m\u001b[0m\n\u001b[0m\u001b[0;32m      6\u001b[0m \u001b[0mbbb\u001b[0m\u001b[1;33m=\u001b[0m\u001b[0mbbb\u001b[0m\u001b[1;33m.\u001b[0m\u001b[0mreset_index\u001b[0m\u001b[1;33m(\u001b[0m\u001b[1;33m)\u001b[0m\u001b[1;33m\u001b[0m\u001b[1;33m\u001b[0m\u001b[0m\n\u001b[0;32m      7\u001b[0m \u001b[0mcustomers_data\u001b[0m\u001b[1;33m=\u001b[0m\u001b[0mcustomers_data\u001b[0m\u001b[1;33m.\u001b[0m\u001b[0mmerge\u001b[0m\u001b[1;33m(\u001b[0m\u001b[0mb\u001b[0m\u001b[1;33m[\u001b[0m\u001b[1;33m[\u001b[0m\u001b[1;34m'customer_id'\u001b[0m\u001b[1;33m,\u001b[0m \u001b[1;34m'article_id'\u001b[0m\u001b[1;33m]\u001b[0m\u001b[1;33m]\u001b[0m\u001b[1;33m,\u001b[0m \u001b[0mleft_on\u001b[0m\u001b[1;33m=\u001b[0m\u001b[1;34m'customer_id'\u001b[0m\u001b[1;33m,\u001b[0m \u001b[0mright_on\u001b[0m\u001b[1;33m=\u001b[0m\u001b[1;34m'customer_id'\u001b[0m\u001b[1;33m)\u001b[0m\u001b[1;33m\u001b[0m\u001b[1;33m\u001b[0m\u001b[0m\n",
      "\u001b[1;31mNameError\u001b[0m: name 'bb' is not defined"
     ]
    }
   ],
   "source": [
    "def preprocess_1():\n",
    "    merged_data = transaction_data.join(customers_data.set_index('customer_id'), on='customer_id')\n",
    "    a=merged_data.groupby('customer_id')\n",
    "    aa=merged_data.groupby(['customer_id', 'article_id'])\n",
    "    b=a.apply(lambda x: (x.nunique()))\n",
    "    b=b.drop('customer_id', 1).reset_index()\n",
    "    bbb = bb.groupby(level=0).max()\n",
    "    bbb=bbb.reset_index()\n",
    "    customers_data=customers_data.merge(b[['customer_id', 'article_id']], left_on='customer_id', right_on='customer_id')\n",
    "    customers_data=customers_data.merge(bbb[['customer_id', 0]], left_on='customer_id', right_on='customer_id')\n",
    "    customers_data=customers_data.rename(columns = {'article_id':'total_unique_items_bought'})\n",
    "    customers_data=customers_data.rename(columns = {0:'most_freq_bought_item_count'})\n"
   ]
  },
  {
   "cell_type": "markdown",
   "id": "65402cbb",
   "metadata": {},
   "source": [
    "# Preprocessing Articles"
   ]
  },
  {
   "cell_type": "code",
   "execution_count": 4,
   "id": "f0fa244d",
   "metadata": {},
   "outputs": [],
   "source": [
    "import numpy as np\n",
    "from sklearn.feature_extraction.text import TfidfVectorizer\n",
    "    \n",
    "def preprocess_2(articles_data):\n",
    "    n = 3 # top n TF-IDF words\n",
    "\n",
    "    tfidf = TfidfVectorizer(token_pattern=r\"\\w+\") # no words are left out\n",
    "    X = tfidf.fit_transform(articles_data['detail_desc'].values.astype('U'))\n",
    "    ind = (-X.todense()).argpartition(n)[:, :n]\n",
    "    top_words = pd.Series(list(np.array(tfidf.get_feature_names())[ind]))\n",
    "\n",
    "    subset_cols = ['article_id','product_type_no','graphical_appearance_no','colour_group_code','perceived_colour_value_id','perceived_colour_master_id','department_no','index_group_no','section_no', 'garment_group_no']\n",
    "    articles_data = articles_data.loc[:,subset_cols]\n",
    "    articles_data['prod_desc'] = top_words\n",
    "    return articles_data"
   ]
  },
  {
   "cell_type": "code",
   "execution_count": 15,
   "id": "764fec49",
   "metadata": {},
   "outputs": [
    {
     "name": "stderr",
     "output_type": "stream",
     "text": [
      "C:\\Users\\ayush\\anaconda3\\lib\\site-packages\\sklearn\\utils\\deprecation.py:87: FutureWarning: Function get_feature_names is deprecated; get_feature_names is deprecated in 1.0 and will be removed in 1.2. Please use get_feature_names_out instead.\n",
      "  warnings.warn(msg, category=FutureWarning)\n"
     ]
    }
   ],
   "source": [
    "articles_data = preprocess_2(articles_data)"
   ]
  },
  {
   "cell_type": "code",
   "execution_count": 18,
   "id": "aa19d9db",
   "metadata": {},
   "outputs": [],
   "source": [
    "a_t = pd.merge(articles_data,transaction_data, on = 'article_id')\n",
    "final = pd.merge(customers_data,a_t, on ='customer_id' )"
   ]
  },
  {
   "cell_type": "code",
   "execution_count": 41,
   "id": "0d71efb9",
   "metadata": {},
   "outputs": [],
   "source": [
    "sub_sample = final.sample(frac=0.001, replace=False, random_state=1)"
   ]
  },
  {
   "cell_type": "markdown",
   "id": "ff81ac23",
   "metadata": {},
   "source": [
    "# Label Encoding"
   ]
  },
  {
   "cell_type": "code",
   "execution_count": 42,
   "id": "5bf5708c",
   "metadata": {},
   "outputs": [],
   "source": [
    "sub_sample['club_member_status'] = sub_sample.club_member_status.astype(\"category\").cat.codes\n",
    "sub_sample['fashion_news_frequency'] = sub_sample.fashion_news_frequency.astype(\"category\").cat.codes\n",
    "sub_sample['postal_code'] = sub_sample.postal_code.astype(\"category\").cat.codes"
   ]
  },
  {
   "cell_type": "markdown",
   "id": "89476d47",
   "metadata": {},
   "source": [
    "# SubSamping & Train Test Split "
   ]
  },
  {
   "cell_type": "code",
   "execution_count": 43,
   "id": "42936ef8",
   "metadata": {},
   "outputs": [],
   "source": [
    "X = sub_sample.drop(['customer_id','article_id','t_dat','prod_desc'],axis = 1)\n",
    "y = sub_sample['article_id']\n",
    "\n",
    "\n",
    "\n",
    "\n",
    "from sklearn.model_selection import train_test_split\n",
    "X_train, X_test, y_train, y_test = train_test_split(X, y, test_size=0.33, shuffle=False)\n",
    "\n",
    "from sklearn.utils import shuffle\n",
    "X_train, y_train = shuffle(X_train, y_train, random_state=0)\n",
    "X_test, y_test = shuffle(X_test, y_test, random_state=0)\n",
    "\n"
   ]
  },
  {
   "cell_type": "code",
   "execution_count": 44,
   "id": "9d15eb3c",
   "metadata": {},
   "outputs": [],
   "source": [
    "# X_train[['club_member_status']] = enc.fit_transform(X_train[['club_member_status']].values.reshape(-1,1))\n",
    "# X_train[['fashion_news_frequency']] = enc.fit_transform(X_train[['fashion_news_frequency']].values.reshape(-1,1))"
   ]
  },
  {
   "cell_type": "markdown",
   "id": "991dd459",
   "metadata": {},
   "source": [
    "# Random Forest"
   ]
  },
  {
   "cell_type": "code",
   "execution_count": 46,
   "id": "4bc9f232",
   "metadata": {},
   "outputs": [
    {
     "data": {
      "text/plain": [
       "Pipeline(steps=[('randomforestclassifier',\n",
       "                 RandomForestClassifier(max_samples=200, min_samples_split=5,\n",
       "                                        n_estimators=50, n_jobs=-1,\n",
       "                                        random_state=0))])"
      ]
     },
     "execution_count": 46,
     "metadata": {},
     "output_type": "execute_result"
    }
   ],
   "source": [
    "from sklearn.ensemble import RandomForestClassifier\n",
    "from sklearn.datasets import make_classification\n",
    "from sklearn.compose import make_column_transformer\n",
    "import sklearn\n",
    "from sklearn.metrics import accuracy_score\n",
    "\n",
    "clf2 = RandomForestClassifier(n_estimators=50, min_samples_split=5,random_state=0,max_samples=200,n_jobs=-1,bootstrap = True)\n",
    "\n",
    "\n",
    "#l=5000000\n",
    "#clf2.fit(X_train[:l], y_train[:l])\n",
    "\n",
    "# label = ['club_member_status','fashion_news_frequency']\n",
    "\n",
    "#preprocess = make_column_transformer((OrdinalEncoder(), label),\n",
    "#                                      remainder = \"passthrough\") \n",
    "\n",
    "\n",
    "pipe = sklearn.pipeline.make_pipeline(clf2)\n",
    "    \n",
    "pipe.fit(X_train.fillna(0), y_train)\n",
    "\n",
    "\n",
    "\n"
   ]
  },
  {
   "cell_type": "markdown",
   "id": "c87e4bc2",
   "metadata": {},
   "source": []
  },
  {
   "cell_type": "code",
   "execution_count": 47,
   "id": "a82f8f60",
   "metadata": {},
   "outputs": [
    {
     "data": {
      "text/plain": [
       "104"
      ]
     },
     "execution_count": 47,
     "metadata": {},
     "output_type": "execute_result"
    }
   ],
   "source": [
    "import gc\n",
    "\n",
    "# freeing up memory\n",
    "del X_train\n",
    "gc.collect()"
   ]
  },
  {
   "cell_type": "markdown",
   "id": "424afc2b",
   "metadata": {},
   "source": [
    "# Predicting"
   ]
  },
  {
   "cell_type": "code",
   "execution_count": 48,
   "id": "03dfc99d",
   "metadata": {},
   "outputs": [
    {
     "name": "stdout",
     "output_type": "stream",
     "text": [
      "0.011819654942331522\n"
     ]
    }
   ],
   "source": [
    "# X_test[['club_member_status']] = enc.transform(X_test[['club_member_status']].values.reshape(-1,1))\n",
    "# X_test[['fashion_news_frequency']] = enc.transform(X_test[['fashion_news_frequency']].values.reshape(-1,1))\n",
    "y_pred = pipe.predict(X_test.fillna(0))\n",
    "print(accuracy_score(y_test, y_pred))"
   ]
  },
  {
   "cell_type": "code",
   "execution_count": 51,
   "id": "f0689f12",
   "metadata": {},
   "outputs": [
    {
     "data": {
      "text/plain": [
       "array([[0., 0., 0., ..., 0., 0., 0.],\n",
       "       [0., 0., 0., ..., 0., 0., 0.],\n",
       "       [0., 0., 0., ..., 0., 0., 0.],\n",
       "       ...,\n",
       "       [0., 0., 0., ..., 0., 0., 0.],\n",
       "       [0., 0., 0., ..., 0., 0., 0.],\n",
       "       [0., 0., 0., ..., 0., 0., 0.]])"
      ]
     },
     "execution_count": 51,
     "metadata": {},
     "output_type": "execute_result"
    }
   ],
   "source": [
    "pipe.predict_proba(X_test.fillna(0))"
   ]
  }
 ],
 "metadata": {
  "kernelspec": {
   "display_name": "Python 3 (ipykernel)",
   "language": "python",
   "name": "python3"
  },
  "language_info": {
   "codemirror_mode": {
    "name": "ipython",
    "version": 3
   },
   "file_extension": ".py",
   "mimetype": "text/x-python",
   "name": "python",
   "nbconvert_exporter": "python",
   "pygments_lexer": "ipython3",
   "version": "3.8.5"
  }
 },
 "nbformat": 4,
 "nbformat_minor": 5
}
