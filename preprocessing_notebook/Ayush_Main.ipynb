{
 "cells": [
  {
   "cell_type": "code",
   "execution_count": 12,
   "id": "37530350",
   "metadata": {},
   "outputs": [],
   "source": [
    "import pandas as pd\n",
    "import numpy as np"
   ]
  },
  {
   "cell_type": "code",
   "execution_count": 13,
   "id": "60b34ab6",
   "metadata": {},
   "outputs": [],
   "source": [
    "articles_data_path = r'C:\\Users\\ayush\\Documents\\Columbia MS DS\\2nd_SEM\\Applied_ML\\AML_Final_Project\\Data\\articles.csv'\n",
    "customer_data_path = r'C:\\Users\\ayush\\Documents\\Columbia MS DS\\2nd_SEM\\Applied_ML\\AML_Final_Project\\Data\\customers.csv'\n",
    "transaction_data_path = r'C:\\Users\\ayush\\Documents\\Columbia MS DS\\2nd_SEM\\Applied_ML\\AML_Final_Project\\Data\\transactions_train.csv'"
   ]
  },
  {
   "cell_type": "code",
   "execution_count": 14,
   "id": "d1f580fe",
   "metadata": {},
   "outputs": [],
   "source": [
    "customers_data = pd.read_csv(customer_data_path)\n",
    "transaction_data = pd.read_csv(transaction_data_path)\n",
    "articles_data = pd.read_csv(articles_data_path)\n",
    "\n"
   ]
  },
  {
   "cell_type": "code",
   "execution_count": 273,
   "id": "cd8d8126",
   "metadata": {},
   "outputs": [
    {
     "data": {
      "text/plain": [
       "(105542, 11)"
      ]
     },
     "execution_count": 273,
     "metadata": {},
     "output_type": "execute_result"
    }
   ],
   "source": [
    "articles_data.shape"
   ]
  },
  {
   "cell_type": "markdown",
   "id": "a54f59ec",
   "metadata": {},
   "source": [
    "# reading preprocessed Data"
   ]
  },
  {
   "cell_type": "code",
   "execution_count": 53,
   "id": "a2270a2c",
   "metadata": {},
   "outputs": [],
   "source": [
    "cust_features = r\"C:\\Users\\ayush\\Documents\\Columbia MS DS\\2nd_SEM\\Applied_ML\\AML_Final_Project\\h_m_generated_features\\customer_features.csv\"\n",
    "\n",
    "customer_features = pd.read_csv(cust_features)\n",
    "recent_transactio_article_id = pd.read_csv(r\"C:\\Users\\ayush\\Documents\\Columbia MS DS\\2nd_SEM\\Applied_ML\\AML_Final_Project\\h_m_generated_features\\recent_transactio_article_id.csv\")\n",
    "frequently_bought_item_id_count = pd.read_csv(r\"C:\\Users\\ayush\\Documents\\Columbia MS DS\\2nd_SEM\\Applied_ML\\AML_Final_Project\\h_m_generated_features\\frequently_bought_item_id_count.csv\")\n",
    "time_features = pd.read_csv(r\"C:\\Users\\ayush\\Documents\\Columbia MS DS\\2nd_SEM\\Applied_ML\\AML_Final_Project\\h_m_generated_features\\time_features.csv\")\n",
    "article_embedding_df = pd.read_csv(r\"C:\\Users\\ayush\\Documents\\Columbia MS DS\\2nd_SEM\\Applied_ML\\AML_Final_Project\\h_m_generated_features\\article_embedding.csv\")"
   ]
  },
  {
   "cell_type": "code",
   "execution_count": 154,
   "id": "ee753bcf",
   "metadata": {},
   "outputs": [
    {
     "name": "stdout",
     "output_type": "stream",
     "text": [
      "Index(['Unnamed: 0', 'customer_id', 'visits', 'no_unique_items_bought',\n",
      "       'total_items_bought', 'list_of_items_bought', 'total_monetary_value',\n",
      "       'max_spent_on_item', 'recency', 'latency', 'avg_bought_per_visit'],\n",
      "      dtype='object')\n",
      "Index(['Unnamed: 0', 'customer_id', 'recent_transaction_article_id'], dtype='object')\n",
      "Index(['Unnamed: 0', 'customer_id', 'article_id', 'count', 't_dat'], dtype='object')\n",
      "Index(['customer_id', 'weekday', 'Season'], dtype='object')\n",
      "Index(['Unnamed: 0', 'article_id', 'glove_vec0', 'glove_vec1', 'glove_vec2',\n",
      "       'glove_vec3', 'glove_vec4', 'glove_vec5', 'glove_vec6', 'glove_vec7',\n",
      "       ...\n",
      "       'glove_vec90', 'glove_vec91', 'glove_vec92', 'glove_vec93',\n",
      "       'glove_vec94', 'glove_vec95', 'glove_vec96', 'glove_vec97',\n",
      "       'glove_vec98', 'glove_vec99'],\n",
      "      dtype='object', length=102)\n"
     ]
    }
   ],
   "source": [
    "print(customer_features.columns)\n",
    "print(recent_transactio_article_id.columns)\n",
    "print(frequently_bought_item_id_count.columns)\n",
    "print(time_features.columns)\n",
    "print(article_embedding_df.columns)"
   ]
  },
  {
   "cell_type": "markdown",
   "id": "92a369e3",
   "metadata": {},
   "source": [
    "# Merging features"
   ]
  },
  {
   "cell_type": "code",
   "execution_count": 159,
   "id": "9f215955",
   "metadata": {},
   "outputs": [],
   "source": [
    "temp_1 = pd.merge(customer_features.drop('Unnamed: 0',axis = 1 ),recent_transactio_article_id.drop('Unnamed: 0',axis = 1), on = 'customer_id')\n",
    "temp_2 = pd.merge(frequently_bought_item_id_count.drop('Unnamed: 0',axis = 1 ),temp_1, on = ['customer_id'])\n",
    "temp_3 = pd.merge(temp_2,time_features, on = ['customer_id'])\n",
    "features = pd.merge(temp_3, article_embedding_df, on = ['article_id'])"
   ]
  },
  {
   "cell_type": "code",
   "execution_count": 160,
   "id": "0f02679a",
   "metadata": {},
   "outputs": [
    {
     "data": {
      "text/plain": [
       "182"
      ]
     },
     "execution_count": 160,
     "metadata": {},
     "output_type": "execute_result"
    }
   ],
   "source": [
    "import gc\n",
    "\n",
    "# freeing up memory\n",
    "del temp_1\n",
    "del temp_2\n",
    "del temp_3\n",
    "gc.collect()"
   ]
  },
  {
   "cell_type": "code",
   "execution_count": 161,
   "id": "4a54753e",
   "metadata": {},
   "outputs": [],
   "source": [
    "features.drop('Unnamed: 0',axis = 1, inplace = True)"
   ]
  },
  {
   "cell_type": "code",
   "execution_count": 163,
   "id": "a2f28f71",
   "metadata": {},
   "outputs": [],
   "source": [
    "features['mean_glove'] = features.iloc[:,-1:-101:-1].mean(axis = 1)"
   ]
  },
  {
   "cell_type": "code",
   "execution_count": 164,
   "id": "5812695a",
   "metadata": {},
   "outputs": [],
   "source": [
    "features.drop(list(features.columns[-2:-102:-1]),axis = 1,inplace = True)"
   ]
  },
  {
   "cell_type": "code",
   "execution_count": 170,
   "id": "ae5cd815",
   "metadata": {},
   "outputs": [
    {
     "data": {
      "text/html": [
       "<div>\n",
       "<style scoped>\n",
       "    .dataframe tbody tr th:only-of-type {\n",
       "        vertical-align: middle;\n",
       "    }\n",
       "\n",
       "    .dataframe tbody tr th {\n",
       "        vertical-align: top;\n",
       "    }\n",
       "\n",
       "    .dataframe thead th {\n",
       "        text-align: right;\n",
       "    }\n",
       "</style>\n",
       "<table border=\"1\" class=\"dataframe\">\n",
       "  <thead>\n",
       "    <tr style=\"text-align: right;\">\n",
       "      <th></th>\n",
       "      <th>customer_id</th>\n",
       "      <th>article_id</th>\n",
       "      <th>count</th>\n",
       "      <th>t_dat</th>\n",
       "      <th>visits</th>\n",
       "      <th>no_unique_items_bought</th>\n",
       "      <th>total_items_bought</th>\n",
       "      <th>list_of_items_bought</th>\n",
       "      <th>total_monetary_value</th>\n",
       "      <th>max_spent_on_item</th>\n",
       "      <th>recency</th>\n",
       "      <th>latency</th>\n",
       "      <th>avg_bought_per_visit</th>\n",
       "      <th>recent_transaction_article_id</th>\n",
       "      <th>weekday</th>\n",
       "      <th>Season</th>\n",
       "      <th>mean_glove</th>\n",
       "    </tr>\n",
       "  </thead>\n",
       "  <tbody>\n",
       "    <tr>\n",
       "      <th>0</th>\n",
       "      <td>00000dbacae5abe5e23885899a1fa44253a17956c6d1c3...</td>\n",
       "      <td>797065001</td>\n",
       "      <td>2</td>\n",
       "      <td>2019-09-28</td>\n",
       "      <td>10</td>\n",
       "      <td>19</td>\n",
       "      <td>21</td>\n",
       "      <td>[625548001, 176209023, 627759010, 697138006, 5...</td>\n",
       "      <td>0.648983</td>\n",
       "      <td>0.054220</td>\n",
       "      <td>17</td>\n",
       "      <td>68.666667</td>\n",
       "      <td>2.100000</td>\n",
       "      <td>568601043</td>\n",
       "      <td>Saturday</td>\n",
       "      <td>Spring</td>\n",
       "      <td>0.010994</td>\n",
       "    </tr>\n",
       "    <tr>\n",
       "      <th>1</th>\n",
       "      <td>02c53384a09864305de849cb7f2238ce8d652e624142cb...</td>\n",
       "      <td>797065001</td>\n",
       "      <td>2</td>\n",
       "      <td>2019-10-07</td>\n",
       "      <td>4</td>\n",
       "      <td>13</td>\n",
       "      <td>14</td>\n",
       "      <td>[799365003, 757903001, 758226001, 631744004, 7...</td>\n",
       "      <td>0.559729</td>\n",
       "      <td>0.067780</td>\n",
       "      <td>351</td>\n",
       "      <td>10.333333</td>\n",
       "      <td>3.500000</td>\n",
       "      <td>797065001</td>\n",
       "      <td>Friday</td>\n",
       "      <td>Fall</td>\n",
       "      <td>0.010994</td>\n",
       "    </tr>\n",
       "    <tr>\n",
       "      <th>2</th>\n",
       "      <td>083cc398f74528df2c2f3d45a56f2f73b57a47cd4fac30...</td>\n",
       "      <td>797065001</td>\n",
       "      <td>1</td>\n",
       "      <td>2019-09-09</td>\n",
       "      <td>1</td>\n",
       "      <td>1</td>\n",
       "      <td>1</td>\n",
       "      <td>[797065001]</td>\n",
       "      <td>0.067780</td>\n",
       "      <td>0.067780</td>\n",
       "      <td>379</td>\n",
       "      <td>0.000000</td>\n",
       "      <td>1.000000</td>\n",
       "      <td>797065001</td>\n",
       "      <td>Monday</td>\n",
       "      <td>Fall</td>\n",
       "      <td>0.010994</td>\n",
       "    </tr>\n",
       "    <tr>\n",
       "      <th>3</th>\n",
       "      <td>08a8ed4aef457ee131546695aa1d7e01c9237bfeb1dfab...</td>\n",
       "      <td>797065001</td>\n",
       "      <td>1</td>\n",
       "      <td>2019-10-02</td>\n",
       "      <td>3</td>\n",
       "      <td>4</td>\n",
       "      <td>4</td>\n",
       "      <td>[694124003, 721388005, 626442021, 797065001]</td>\n",
       "      <td>0.126797</td>\n",
       "      <td>0.067780</td>\n",
       "      <td>356</td>\n",
       "      <td>111.500000</td>\n",
       "      <td>1.333333</td>\n",
       "      <td>797065001</td>\n",
       "      <td>Thursday</td>\n",
       "      <td>Winter</td>\n",
       "      <td>0.010994</td>\n",
       "    </tr>\n",
       "    <tr>\n",
       "      <th>4</th>\n",
       "      <td>103709a80acb9e3dc4d95298dd31c39b5ce72ba26fcacf...</td>\n",
       "      <td>797065001</td>\n",
       "      <td>1</td>\n",
       "      <td>2019-11-02</td>\n",
       "      <td>1</td>\n",
       "      <td>1</td>\n",
       "      <td>1</td>\n",
       "      <td>[797065001]</td>\n",
       "      <td>0.061000</td>\n",
       "      <td>0.061000</td>\n",
       "      <td>325</td>\n",
       "      <td>0.000000</td>\n",
       "      <td>1.000000</td>\n",
       "      <td>797065001</td>\n",
       "      <td>Saturday</td>\n",
       "      <td>Fall</td>\n",
       "      <td>0.010994</td>\n",
       "    </tr>\n",
       "    <tr>\n",
       "      <th>...</th>\n",
       "      <td>...</td>\n",
       "      <td>...</td>\n",
       "      <td>...</td>\n",
       "      <td>...</td>\n",
       "      <td>...</td>\n",
       "      <td>...</td>\n",
       "      <td>...</td>\n",
       "      <td>...</td>\n",
       "      <td>...</td>\n",
       "      <td>...</td>\n",
       "      <td>...</td>\n",
       "      <td>...</td>\n",
       "      <td>...</td>\n",
       "      <td>...</td>\n",
       "      <td>...</td>\n",
       "      <td>...</td>\n",
       "      <td>...</td>\n",
       "    </tr>\n",
       "    <tr>\n",
       "      <th>1362276</th>\n",
       "      <td>ffe701895a1475c53d88e2a4656724ffc20fd69b0ee5bb...</td>\n",
       "      <td>802598005</td>\n",
       "      <td>1</td>\n",
       "      <td>2020-06-10</td>\n",
       "      <td>2</td>\n",
       "      <td>2</td>\n",
       "      <td>2</td>\n",
       "      <td>[888024001, 802598005]</td>\n",
       "      <td>0.152508</td>\n",
       "      <td>0.084729</td>\n",
       "      <td>104</td>\n",
       "      <td>28.000000</td>\n",
       "      <td>1.000000</td>\n",
       "      <td>802598005</td>\n",
       "      <td>Wednesday</td>\n",
       "      <td>Spring</td>\n",
       "      <td>0.014058</td>\n",
       "    </tr>\n",
       "    <tr>\n",
       "      <th>1362277</th>\n",
       "      <td>ffe782e2c7bef7695ef26a06452d7118941e1b5b9811e8...</td>\n",
       "      <td>788928001</td>\n",
       "      <td>3</td>\n",
       "      <td>2019-12-09</td>\n",
       "      <td>9</td>\n",
       "      <td>35</td>\n",
       "      <td>48</td>\n",
       "      <td>[627762005, 659053002, 633785015, 683787002, 6...</td>\n",
       "      <td>1.631390</td>\n",
       "      <td>0.084729</td>\n",
       "      <td>22</td>\n",
       "      <td>85.250000</td>\n",
       "      <td>5.333333</td>\n",
       "      <td>819520008</td>\n",
       "      <td>Monday</td>\n",
       "      <td>Winter</td>\n",
       "      <td>0.009875</td>\n",
       "    </tr>\n",
       "    <tr>\n",
       "      <th>1362278</th>\n",
       "      <td>ffeb9d72ceb9850a485875f390cd0b4e7790580198686b...</td>\n",
       "      <td>750769002</td>\n",
       "      <td>1</td>\n",
       "      <td>2020-01-20</td>\n",
       "      <td>1</td>\n",
       "      <td>5</td>\n",
       "      <td>5</td>\n",
       "      <td>[599580049, 685605009, 625178001, 590928022, 7...</td>\n",
       "      <td>0.099915</td>\n",
       "      <td>0.030492</td>\n",
       "      <td>246</td>\n",
       "      <td>0.000000</td>\n",
       "      <td>5.000000</td>\n",
       "      <td>599580049</td>\n",
       "      <td>Monday</td>\n",
       "      <td>Winter</td>\n",
       "      <td>0.015850</td>\n",
       "    </tr>\n",
       "    <tr>\n",
       "      <th>1362279</th>\n",
       "      <td>ffedc92bc0daea38ca7283ec2dd3b30f475766dbbe3fc4...</td>\n",
       "      <td>832441001</td>\n",
       "      <td>1</td>\n",
       "      <td>2020-05-14</td>\n",
       "      <td>1</td>\n",
       "      <td>3</td>\n",
       "      <td>3</td>\n",
       "      <td>[863561002, 832441001, 770352006]</td>\n",
       "      <td>0.164695</td>\n",
       "      <td>0.106763</td>\n",
       "      <td>131</td>\n",
       "      <td>0.000000</td>\n",
       "      <td>3.000000</td>\n",
       "      <td>770352006</td>\n",
       "      <td>Thursday</td>\n",
       "      <td>Spring</td>\n",
       "      <td>0.005863</td>\n",
       "    </tr>\n",
       "    <tr>\n",
       "      <th>1362280</th>\n",
       "      <td>ffefe95a1c711b634023279e0bc7180d5991d4558fa036...</td>\n",
       "      <td>623434014</td>\n",
       "      <td>3</td>\n",
       "      <td>2018-10-02</td>\n",
       "      <td>4</td>\n",
       "      <td>4</td>\n",
       "      <td>6</td>\n",
       "      <td>[623434014, 524825010, 628930008, 628930001, 6...</td>\n",
       "      <td>0.194814</td>\n",
       "      <td>0.042356</td>\n",
       "      <td>721</td>\n",
       "      <td>4.000000</td>\n",
       "      <td>1.500000</td>\n",
       "      <td>623434014</td>\n",
       "      <td>Tuesday</td>\n",
       "      <td>Fall</td>\n",
       "      <td>0.005136</td>\n",
       "    </tr>\n",
       "  </tbody>\n",
       "</table>\n",
       "<p>1362281 rows × 17 columns</p>\n",
       "</div>"
      ],
      "text/plain": [
       "                                               customer_id  article_id  count  \\\n",
       "0        00000dbacae5abe5e23885899a1fa44253a17956c6d1c3...   797065001      2   \n",
       "1        02c53384a09864305de849cb7f2238ce8d652e624142cb...   797065001      2   \n",
       "2        083cc398f74528df2c2f3d45a56f2f73b57a47cd4fac30...   797065001      1   \n",
       "3        08a8ed4aef457ee131546695aa1d7e01c9237bfeb1dfab...   797065001      1   \n",
       "4        103709a80acb9e3dc4d95298dd31c39b5ce72ba26fcacf...   797065001      1   \n",
       "...                                                    ...         ...    ...   \n",
       "1362276  ffe701895a1475c53d88e2a4656724ffc20fd69b0ee5bb...   802598005      1   \n",
       "1362277  ffe782e2c7bef7695ef26a06452d7118941e1b5b9811e8...   788928001      3   \n",
       "1362278  ffeb9d72ceb9850a485875f390cd0b4e7790580198686b...   750769002      1   \n",
       "1362279  ffedc92bc0daea38ca7283ec2dd3b30f475766dbbe3fc4...   832441001      1   \n",
       "1362280  ffefe95a1c711b634023279e0bc7180d5991d4558fa036...   623434014      3   \n",
       "\n",
       "              t_dat  visits  no_unique_items_bought  total_items_bought  \\\n",
       "0        2019-09-28      10                      19                  21   \n",
       "1        2019-10-07       4                      13                  14   \n",
       "2        2019-09-09       1                       1                   1   \n",
       "3        2019-10-02       3                       4                   4   \n",
       "4        2019-11-02       1                       1                   1   \n",
       "...             ...     ...                     ...                 ...   \n",
       "1362276  2020-06-10       2                       2                   2   \n",
       "1362277  2019-12-09       9                      35                  48   \n",
       "1362278  2020-01-20       1                       5                   5   \n",
       "1362279  2020-05-14       1                       3                   3   \n",
       "1362280  2018-10-02       4                       4                   6   \n",
       "\n",
       "                                      list_of_items_bought  \\\n",
       "0        [625548001, 176209023, 627759010, 697138006, 5...   \n",
       "1        [799365003, 757903001, 758226001, 631744004, 7...   \n",
       "2                                              [797065001]   \n",
       "3             [694124003, 721388005, 626442021, 797065001]   \n",
       "4                                              [797065001]   \n",
       "...                                                    ...   \n",
       "1362276                             [888024001, 802598005]   \n",
       "1362277  [627762005, 659053002, 633785015, 683787002, 6...   \n",
       "1362278  [599580049, 685605009, 625178001, 590928022, 7...   \n",
       "1362279                  [863561002, 832441001, 770352006]   \n",
       "1362280  [623434014, 524825010, 628930008, 628930001, 6...   \n",
       "\n",
       "         total_monetary_value  max_spent_on_item  recency     latency  \\\n",
       "0                    0.648983           0.054220       17   68.666667   \n",
       "1                    0.559729           0.067780      351   10.333333   \n",
       "2                    0.067780           0.067780      379    0.000000   \n",
       "3                    0.126797           0.067780      356  111.500000   \n",
       "4                    0.061000           0.061000      325    0.000000   \n",
       "...                       ...                ...      ...         ...   \n",
       "1362276              0.152508           0.084729      104   28.000000   \n",
       "1362277              1.631390           0.084729       22   85.250000   \n",
       "1362278              0.099915           0.030492      246    0.000000   \n",
       "1362279              0.164695           0.106763      131    0.000000   \n",
       "1362280              0.194814           0.042356      721    4.000000   \n",
       "\n",
       "         avg_bought_per_visit  recent_transaction_article_id    weekday  \\\n",
       "0                    2.100000                      568601043   Saturday   \n",
       "1                    3.500000                      797065001     Friday   \n",
       "2                    1.000000                      797065001     Monday   \n",
       "3                    1.333333                      797065001   Thursday   \n",
       "4                    1.000000                      797065001   Saturday   \n",
       "...                       ...                            ...        ...   \n",
       "1362276              1.000000                      802598005  Wednesday   \n",
       "1362277              5.333333                      819520008     Monday   \n",
       "1362278              5.000000                      599580049     Monday   \n",
       "1362279              3.000000                      770352006   Thursday   \n",
       "1362280              1.500000                      623434014    Tuesday   \n",
       "\n",
       "         Season  mean_glove  \n",
       "0        Spring    0.010994  \n",
       "1          Fall    0.010994  \n",
       "2          Fall    0.010994  \n",
       "3        Winter    0.010994  \n",
       "4          Fall    0.010994  \n",
       "...         ...         ...  \n",
       "1362276  Spring    0.014058  \n",
       "1362277  Winter    0.009875  \n",
       "1362278  Winter    0.015850  \n",
       "1362279  Spring    0.005863  \n",
       "1362280    Fall    0.005136  \n",
       "\n",
       "[1362281 rows x 17 columns]"
      ]
     },
     "execution_count": 170,
     "metadata": {},
     "output_type": "execute_result"
    }
   ],
   "source": [
    "features"
   ]
  },
  {
   "cell_type": "markdown",
   "id": "e0f88beb",
   "metadata": {},
   "source": [
    "# Trying K means Clustering"
   ]
  },
  {
   "cell_type": "code",
   "execution_count": 242,
   "id": "bba9c620",
   "metadata": {},
   "outputs": [],
   "source": [
    "from sklearn.cluster import KMeans\n",
    "from sklearn.decomposition import PCA\n",
    "from sklearn.pipeline import Pipeline\n",
    "from sklearn.preprocessing import LabelEncoder, MinMaxScaler, StandardScaler\n",
    "from sklearn.model_selection import RandomizedSearchCV"
   ]
  },
  {
   "cell_type": "code",
   "execution_count": 248,
   "id": "581d5729",
   "metadata": {},
   "outputs": [],
   "source": [
    "num_features = list( features.columns[2:-3].append(features.columns[[-1]]))\n",
    "num_features.remove('list_of_items_bought')\n",
    "num_features.remove('t_dat')\n",
    "\n",
    "preprocess = make_column_transformer((StandardScaler(), num_features))\n",
    "\n",
    "clusterer = Pipeline(\n",
    "       [\n",
    "           (\n",
    "               \"kmeans\",\n",
    "               KMeans(\n",
    "                   n_clusters=1,\n",
    "                   init=\"k-means++\",\n",
    "                   n_init=50,\n",
    "                   max_iter=500,\n",
    "                   random_state=42,\n",
    "               ),\n",
    "           ),\n",
    "       ]\n",
    "    )"
   ]
  },
  {
   "cell_type": "code",
   "execution_count": 268,
   "id": "2e14cc38",
   "metadata": {},
   "outputs": [],
   "source": [
    "param_dist = {\n",
    "          'kmeans__n_clusters': [2,3,4,5]\n",
    "}\n",
    "\n",
    "\n",
    "pipe = sklearn.pipeline.make_pipeline(preprocess,PCA(n_components=3, random_state=42),KMeans(n_clusters=1,init=\"k-means++\",n_init=50,max_iter=500,random_state=42))\n",
    "\n",
    "\n"
   ]
  },
  {
   "cell_type": "code",
   "execution_count": 270,
   "id": "3f63b2cc",
   "metadata": {
    "collapsed": true
   },
   "outputs": [
    {
     "name": "stderr",
     "output_type": "stream",
     "text": [
      "C:\\Users\\ayush\\anaconda3\\lib\\site-packages\\sklearn\\model_selection\\_search.py:292: UserWarning: The total space of parameters 4 is smaller than n_iter=10. Running 4 iterations. For exhaustive searches, use GridSearchCV.\n",
      "  warnings.warn(\n"
     ]
    },
    {
     "ename": "KeyboardInterrupt",
     "evalue": "",
     "output_type": "error",
     "traceback": [
      "\u001b[1;31m---------------------------------------------------------------------------\u001b[0m",
      "\u001b[1;31mKeyboardInterrupt\u001b[0m                         Traceback (most recent call last)",
      "\u001b[1;32m<__array_function__ internals>\u001b[0m in \u001b[0;36mwhere\u001b[1;34m(*args, **kwargs)\u001b[0m\n",
      "\u001b[1;31mKeyboardInterrupt\u001b[0m: "
     ]
    },
    {
     "name": "stderr",
     "output_type": "stream",
     "text": [
      "Exception ignored in: 'sklearn.cluster._k_means_common._relocate_empty_clusters_dense'\n",
      "Traceback (most recent call last):\n",
      "  File \"<__array_function__ internals>\", line 2, in where\n",
      "KeyboardInterrupt: \n"
     ]
    },
    {
     "ename": "KeyboardInterrupt",
     "evalue": "",
     "output_type": "error",
     "traceback": [
      "\u001b[1;31m---------------------------------------------------------------------------\u001b[0m",
      "\u001b[1;31mKeyboardInterrupt\u001b[0m                         Traceback (most recent call last)",
      "\u001b[1;32m~\\AppData\\Local\\Temp/ipykernel_26868/1009267979.py\u001b[0m in \u001b[0;36m<module>\u001b[1;34m\u001b[0m\n\u001b[0;32m      1\u001b[0m \u001b[0msearch\u001b[0m \u001b[1;33m=\u001b[0m \u001b[0mRandomizedSearchCV\u001b[0m\u001b[1;33m(\u001b[0m\u001b[0mpipe\u001b[0m\u001b[1;33m,\u001b[0m \u001b[0mparam_distributions\u001b[0m \u001b[1;33m=\u001b[0m \u001b[0mparam_dist\u001b[0m\u001b[1;33m)\u001b[0m\u001b[1;33m\u001b[0m\u001b[1;33m\u001b[0m\u001b[0m\n\u001b[1;32m----> 2\u001b[1;33m \u001b[0msearch\u001b[0m\u001b[1;33m.\u001b[0m\u001b[0mfit\u001b[0m\u001b[1;33m(\u001b[0m\u001b[0mfeatures\u001b[0m\u001b[1;33m)\u001b[0m\u001b[1;33m\u001b[0m\u001b[1;33m\u001b[0m\u001b[0m\n\u001b[0m",
      "\u001b[1;32m~\\anaconda3\\lib\\site-packages\\sklearn\\model_selection\\_search.py\u001b[0m in \u001b[0;36mfit\u001b[1;34m(self, X, y, groups, **fit_params)\u001b[0m\n\u001b[0;32m    889\u001b[0m                 \u001b[1;32mreturn\u001b[0m \u001b[0mresults\u001b[0m\u001b[1;33m\u001b[0m\u001b[1;33m\u001b[0m\u001b[0m\n\u001b[0;32m    890\u001b[0m \u001b[1;33m\u001b[0m\u001b[0m\n\u001b[1;32m--> 891\u001b[1;33m             \u001b[0mself\u001b[0m\u001b[1;33m.\u001b[0m\u001b[0m_run_search\u001b[0m\u001b[1;33m(\u001b[0m\u001b[0mevaluate_candidates\u001b[0m\u001b[1;33m)\u001b[0m\u001b[1;33m\u001b[0m\u001b[1;33m\u001b[0m\u001b[0m\n\u001b[0m\u001b[0;32m    892\u001b[0m \u001b[1;33m\u001b[0m\u001b[0m\n\u001b[0;32m    893\u001b[0m             \u001b[1;31m# multimetric is determined here because in the case of a callable\u001b[0m\u001b[1;33m\u001b[0m\u001b[1;33m\u001b[0m\u001b[1;33m\u001b[0m\u001b[0m\n",
      "\u001b[1;32m~\\anaconda3\\lib\\site-packages\\sklearn\\model_selection\\_search.py\u001b[0m in \u001b[0;36m_run_search\u001b[1;34m(self, evaluate_candidates)\u001b[0m\n\u001b[0;32m   1764\u001b[0m     \u001b[1;32mdef\u001b[0m \u001b[0m_run_search\u001b[0m\u001b[1;33m(\u001b[0m\u001b[0mself\u001b[0m\u001b[1;33m,\u001b[0m \u001b[0mevaluate_candidates\u001b[0m\u001b[1;33m)\u001b[0m\u001b[1;33m:\u001b[0m\u001b[1;33m\u001b[0m\u001b[1;33m\u001b[0m\u001b[0m\n\u001b[0;32m   1765\u001b[0m         \u001b[1;34m\"\"\"Search n_iter candidates from param_distributions\"\"\"\u001b[0m\u001b[1;33m\u001b[0m\u001b[1;33m\u001b[0m\u001b[0m\n\u001b[1;32m-> 1766\u001b[1;33m         evaluate_candidates(\n\u001b[0m\u001b[0;32m   1767\u001b[0m             ParameterSampler(\n\u001b[0;32m   1768\u001b[0m                 \u001b[0mself\u001b[0m\u001b[1;33m.\u001b[0m\u001b[0mparam_distributions\u001b[0m\u001b[1;33m,\u001b[0m \u001b[0mself\u001b[0m\u001b[1;33m.\u001b[0m\u001b[0mn_iter\u001b[0m\u001b[1;33m,\u001b[0m \u001b[0mrandom_state\u001b[0m\u001b[1;33m=\u001b[0m\u001b[0mself\u001b[0m\u001b[1;33m.\u001b[0m\u001b[0mrandom_state\u001b[0m\u001b[1;33m\u001b[0m\u001b[1;33m\u001b[0m\u001b[0m\n",
      "\u001b[1;32m~\\anaconda3\\lib\\site-packages\\sklearn\\model_selection\\_search.py\u001b[0m in \u001b[0;36mevaluate_candidates\u001b[1;34m(candidate_params, cv, more_results)\u001b[0m\n\u001b[0;32m    836\u001b[0m                     )\n\u001b[0;32m    837\u001b[0m \u001b[1;33m\u001b[0m\u001b[0m\n\u001b[1;32m--> 838\u001b[1;33m                 out = parallel(\n\u001b[0m\u001b[0;32m    839\u001b[0m                     delayed(_fit_and_score)(\n\u001b[0;32m    840\u001b[0m                         \u001b[0mclone\u001b[0m\u001b[1;33m(\u001b[0m\u001b[0mbase_estimator\u001b[0m\u001b[1;33m)\u001b[0m\u001b[1;33m,\u001b[0m\u001b[1;33m\u001b[0m\u001b[1;33m\u001b[0m\u001b[0m\n",
      "\u001b[1;32m~\\anaconda3\\lib\\site-packages\\joblib\\parallel.py\u001b[0m in \u001b[0;36m__call__\u001b[1;34m(self, iterable)\u001b[0m\n\u001b[0;32m   1044\u001b[0m                 \u001b[0mself\u001b[0m\u001b[1;33m.\u001b[0m\u001b[0m_iterating\u001b[0m \u001b[1;33m=\u001b[0m \u001b[0mself\u001b[0m\u001b[1;33m.\u001b[0m\u001b[0m_original_iterator\u001b[0m \u001b[1;32mis\u001b[0m \u001b[1;32mnot\u001b[0m \u001b[1;32mNone\u001b[0m\u001b[1;33m\u001b[0m\u001b[1;33m\u001b[0m\u001b[0m\n\u001b[0;32m   1045\u001b[0m \u001b[1;33m\u001b[0m\u001b[0m\n\u001b[1;32m-> 1046\u001b[1;33m             \u001b[1;32mwhile\u001b[0m \u001b[0mself\u001b[0m\u001b[1;33m.\u001b[0m\u001b[0mdispatch_one_batch\u001b[0m\u001b[1;33m(\u001b[0m\u001b[0miterator\u001b[0m\u001b[1;33m)\u001b[0m\u001b[1;33m:\u001b[0m\u001b[1;33m\u001b[0m\u001b[1;33m\u001b[0m\u001b[0m\n\u001b[0m\u001b[0;32m   1047\u001b[0m                 \u001b[1;32mpass\u001b[0m\u001b[1;33m\u001b[0m\u001b[1;33m\u001b[0m\u001b[0m\n\u001b[0;32m   1048\u001b[0m \u001b[1;33m\u001b[0m\u001b[0m\n",
      "\u001b[1;32m~\\anaconda3\\lib\\site-packages\\joblib\\parallel.py\u001b[0m in \u001b[0;36mdispatch_one_batch\u001b[1;34m(self, iterator)\u001b[0m\n\u001b[0;32m    859\u001b[0m                 \u001b[1;32mreturn\u001b[0m \u001b[1;32mFalse\u001b[0m\u001b[1;33m\u001b[0m\u001b[1;33m\u001b[0m\u001b[0m\n\u001b[0;32m    860\u001b[0m             \u001b[1;32melse\u001b[0m\u001b[1;33m:\u001b[0m\u001b[1;33m\u001b[0m\u001b[1;33m\u001b[0m\u001b[0m\n\u001b[1;32m--> 861\u001b[1;33m                 \u001b[0mself\u001b[0m\u001b[1;33m.\u001b[0m\u001b[0m_dispatch\u001b[0m\u001b[1;33m(\u001b[0m\u001b[0mtasks\u001b[0m\u001b[1;33m)\u001b[0m\u001b[1;33m\u001b[0m\u001b[1;33m\u001b[0m\u001b[0m\n\u001b[0m\u001b[0;32m    862\u001b[0m                 \u001b[1;32mreturn\u001b[0m \u001b[1;32mTrue\u001b[0m\u001b[1;33m\u001b[0m\u001b[1;33m\u001b[0m\u001b[0m\n\u001b[0;32m    863\u001b[0m \u001b[1;33m\u001b[0m\u001b[0m\n",
      "\u001b[1;32m~\\anaconda3\\lib\\site-packages\\joblib\\parallel.py\u001b[0m in \u001b[0;36m_dispatch\u001b[1;34m(self, batch)\u001b[0m\n\u001b[0;32m    777\u001b[0m         \u001b[1;32mwith\u001b[0m \u001b[0mself\u001b[0m\u001b[1;33m.\u001b[0m\u001b[0m_lock\u001b[0m\u001b[1;33m:\u001b[0m\u001b[1;33m\u001b[0m\u001b[1;33m\u001b[0m\u001b[0m\n\u001b[0;32m    778\u001b[0m             \u001b[0mjob_idx\u001b[0m \u001b[1;33m=\u001b[0m \u001b[0mlen\u001b[0m\u001b[1;33m(\u001b[0m\u001b[0mself\u001b[0m\u001b[1;33m.\u001b[0m\u001b[0m_jobs\u001b[0m\u001b[1;33m)\u001b[0m\u001b[1;33m\u001b[0m\u001b[1;33m\u001b[0m\u001b[0m\n\u001b[1;32m--> 779\u001b[1;33m             \u001b[0mjob\u001b[0m \u001b[1;33m=\u001b[0m \u001b[0mself\u001b[0m\u001b[1;33m.\u001b[0m\u001b[0m_backend\u001b[0m\u001b[1;33m.\u001b[0m\u001b[0mapply_async\u001b[0m\u001b[1;33m(\u001b[0m\u001b[0mbatch\u001b[0m\u001b[1;33m,\u001b[0m \u001b[0mcallback\u001b[0m\u001b[1;33m=\u001b[0m\u001b[0mcb\u001b[0m\u001b[1;33m)\u001b[0m\u001b[1;33m\u001b[0m\u001b[1;33m\u001b[0m\u001b[0m\n\u001b[0m\u001b[0;32m    780\u001b[0m             \u001b[1;31m# A job can complete so quickly than its callback is\u001b[0m\u001b[1;33m\u001b[0m\u001b[1;33m\u001b[0m\u001b[1;33m\u001b[0m\u001b[0m\n\u001b[0;32m    781\u001b[0m             \u001b[1;31m# called before we get here, causing self._jobs to\u001b[0m\u001b[1;33m\u001b[0m\u001b[1;33m\u001b[0m\u001b[1;33m\u001b[0m\u001b[0m\n",
      "\u001b[1;32m~\\anaconda3\\lib\\site-packages\\joblib\\_parallel_backends.py\u001b[0m in \u001b[0;36mapply_async\u001b[1;34m(self, func, callback)\u001b[0m\n\u001b[0;32m    206\u001b[0m     \u001b[1;32mdef\u001b[0m \u001b[0mapply_async\u001b[0m\u001b[1;33m(\u001b[0m\u001b[0mself\u001b[0m\u001b[1;33m,\u001b[0m \u001b[0mfunc\u001b[0m\u001b[1;33m,\u001b[0m \u001b[0mcallback\u001b[0m\u001b[1;33m=\u001b[0m\u001b[1;32mNone\u001b[0m\u001b[1;33m)\u001b[0m\u001b[1;33m:\u001b[0m\u001b[1;33m\u001b[0m\u001b[1;33m\u001b[0m\u001b[0m\n\u001b[0;32m    207\u001b[0m         \u001b[1;34m\"\"\"Schedule a func to be run\"\"\"\u001b[0m\u001b[1;33m\u001b[0m\u001b[1;33m\u001b[0m\u001b[0m\n\u001b[1;32m--> 208\u001b[1;33m         \u001b[0mresult\u001b[0m \u001b[1;33m=\u001b[0m \u001b[0mImmediateResult\u001b[0m\u001b[1;33m(\u001b[0m\u001b[0mfunc\u001b[0m\u001b[1;33m)\u001b[0m\u001b[1;33m\u001b[0m\u001b[1;33m\u001b[0m\u001b[0m\n\u001b[0m\u001b[0;32m    209\u001b[0m         \u001b[1;32mif\u001b[0m \u001b[0mcallback\u001b[0m\u001b[1;33m:\u001b[0m\u001b[1;33m\u001b[0m\u001b[1;33m\u001b[0m\u001b[0m\n\u001b[0;32m    210\u001b[0m             \u001b[0mcallback\u001b[0m\u001b[1;33m(\u001b[0m\u001b[0mresult\u001b[0m\u001b[1;33m)\u001b[0m\u001b[1;33m\u001b[0m\u001b[1;33m\u001b[0m\u001b[0m\n",
      "\u001b[1;32m~\\anaconda3\\lib\\site-packages\\joblib\\_parallel_backends.py\u001b[0m in \u001b[0;36m__init__\u001b[1;34m(self, batch)\u001b[0m\n\u001b[0;32m    570\u001b[0m         \u001b[1;31m# Don't delay the application, to avoid keeping the input\u001b[0m\u001b[1;33m\u001b[0m\u001b[1;33m\u001b[0m\u001b[1;33m\u001b[0m\u001b[0m\n\u001b[0;32m    571\u001b[0m         \u001b[1;31m# arguments in memory\u001b[0m\u001b[1;33m\u001b[0m\u001b[1;33m\u001b[0m\u001b[1;33m\u001b[0m\u001b[0m\n\u001b[1;32m--> 572\u001b[1;33m         \u001b[0mself\u001b[0m\u001b[1;33m.\u001b[0m\u001b[0mresults\u001b[0m \u001b[1;33m=\u001b[0m \u001b[0mbatch\u001b[0m\u001b[1;33m(\u001b[0m\u001b[1;33m)\u001b[0m\u001b[1;33m\u001b[0m\u001b[1;33m\u001b[0m\u001b[0m\n\u001b[0m\u001b[0;32m    573\u001b[0m \u001b[1;33m\u001b[0m\u001b[0m\n\u001b[0;32m    574\u001b[0m     \u001b[1;32mdef\u001b[0m \u001b[0mget\u001b[0m\u001b[1;33m(\u001b[0m\u001b[0mself\u001b[0m\u001b[1;33m)\u001b[0m\u001b[1;33m:\u001b[0m\u001b[1;33m\u001b[0m\u001b[1;33m\u001b[0m\u001b[0m\n",
      "\u001b[1;32m~\\anaconda3\\lib\\site-packages\\joblib\\parallel.py\u001b[0m in \u001b[0;36m__call__\u001b[1;34m(self)\u001b[0m\n\u001b[0;32m    260\u001b[0m         \u001b[1;31m# change the default number of processes to -1\u001b[0m\u001b[1;33m\u001b[0m\u001b[1;33m\u001b[0m\u001b[1;33m\u001b[0m\u001b[0m\n\u001b[0;32m    261\u001b[0m         \u001b[1;32mwith\u001b[0m \u001b[0mparallel_backend\u001b[0m\u001b[1;33m(\u001b[0m\u001b[0mself\u001b[0m\u001b[1;33m.\u001b[0m\u001b[0m_backend\u001b[0m\u001b[1;33m,\u001b[0m \u001b[0mn_jobs\u001b[0m\u001b[1;33m=\u001b[0m\u001b[0mself\u001b[0m\u001b[1;33m.\u001b[0m\u001b[0m_n_jobs\u001b[0m\u001b[1;33m)\u001b[0m\u001b[1;33m:\u001b[0m\u001b[1;33m\u001b[0m\u001b[1;33m\u001b[0m\u001b[0m\n\u001b[1;32m--> 262\u001b[1;33m             return [func(*args, **kwargs)\n\u001b[0m\u001b[0;32m    263\u001b[0m                     for func, args, kwargs in self.items]\n\u001b[0;32m    264\u001b[0m \u001b[1;33m\u001b[0m\u001b[0m\n",
      "\u001b[1;32m~\\anaconda3\\lib\\site-packages\\joblib\\parallel.py\u001b[0m in \u001b[0;36m<listcomp>\u001b[1;34m(.0)\u001b[0m\n\u001b[0;32m    260\u001b[0m         \u001b[1;31m# change the default number of processes to -1\u001b[0m\u001b[1;33m\u001b[0m\u001b[1;33m\u001b[0m\u001b[1;33m\u001b[0m\u001b[0m\n\u001b[0;32m    261\u001b[0m         \u001b[1;32mwith\u001b[0m \u001b[0mparallel_backend\u001b[0m\u001b[1;33m(\u001b[0m\u001b[0mself\u001b[0m\u001b[1;33m.\u001b[0m\u001b[0m_backend\u001b[0m\u001b[1;33m,\u001b[0m \u001b[0mn_jobs\u001b[0m\u001b[1;33m=\u001b[0m\u001b[0mself\u001b[0m\u001b[1;33m.\u001b[0m\u001b[0m_n_jobs\u001b[0m\u001b[1;33m)\u001b[0m\u001b[1;33m:\u001b[0m\u001b[1;33m\u001b[0m\u001b[1;33m\u001b[0m\u001b[0m\n\u001b[1;32m--> 262\u001b[1;33m             return [func(*args, **kwargs)\n\u001b[0m\u001b[0;32m    263\u001b[0m                     for func, args, kwargs in self.items]\n\u001b[0;32m    264\u001b[0m \u001b[1;33m\u001b[0m\u001b[0m\n",
      "\u001b[1;32m~\\anaconda3\\lib\\site-packages\\sklearn\\utils\\fixes.py\u001b[0m in \u001b[0;36m__call__\u001b[1;34m(self, *args, **kwargs)\u001b[0m\n\u001b[0;32m    214\u001b[0m     \u001b[1;32mdef\u001b[0m \u001b[0m__call__\u001b[0m\u001b[1;33m(\u001b[0m\u001b[0mself\u001b[0m\u001b[1;33m,\u001b[0m \u001b[1;33m*\u001b[0m\u001b[0margs\u001b[0m\u001b[1;33m,\u001b[0m \u001b[1;33m**\u001b[0m\u001b[0mkwargs\u001b[0m\u001b[1;33m)\u001b[0m\u001b[1;33m:\u001b[0m\u001b[1;33m\u001b[0m\u001b[1;33m\u001b[0m\u001b[0m\n\u001b[0;32m    215\u001b[0m         \u001b[1;32mwith\u001b[0m \u001b[0mconfig_context\u001b[0m\u001b[1;33m(\u001b[0m\u001b[1;33m**\u001b[0m\u001b[0mself\u001b[0m\u001b[1;33m.\u001b[0m\u001b[0mconfig\u001b[0m\u001b[1;33m)\u001b[0m\u001b[1;33m:\u001b[0m\u001b[1;33m\u001b[0m\u001b[1;33m\u001b[0m\u001b[0m\n\u001b[1;32m--> 216\u001b[1;33m             \u001b[1;32mreturn\u001b[0m \u001b[0mself\u001b[0m\u001b[1;33m.\u001b[0m\u001b[0mfunction\u001b[0m\u001b[1;33m(\u001b[0m\u001b[1;33m*\u001b[0m\u001b[0margs\u001b[0m\u001b[1;33m,\u001b[0m \u001b[1;33m**\u001b[0m\u001b[0mkwargs\u001b[0m\u001b[1;33m)\u001b[0m\u001b[1;33m\u001b[0m\u001b[1;33m\u001b[0m\u001b[0m\n\u001b[0m\u001b[0;32m    217\u001b[0m \u001b[1;33m\u001b[0m\u001b[0m\n\u001b[0;32m    218\u001b[0m \u001b[1;33m\u001b[0m\u001b[0m\n",
      "\u001b[1;32m~\\anaconda3\\lib\\site-packages\\sklearn\\model_selection\\_validation.py\u001b[0m in \u001b[0;36m_fit_and_score\u001b[1;34m(estimator, X, y, scorer, train, test, verbose, parameters, fit_params, return_train_score, return_parameters, return_n_test_samples, return_times, return_estimator, split_progress, candidate_progress, error_score)\u001b[0m\n\u001b[0;32m    676\u001b[0m     \u001b[1;32mtry\u001b[0m\u001b[1;33m:\u001b[0m\u001b[1;33m\u001b[0m\u001b[1;33m\u001b[0m\u001b[0m\n\u001b[0;32m    677\u001b[0m         \u001b[1;32mif\u001b[0m \u001b[0my_train\u001b[0m \u001b[1;32mis\u001b[0m \u001b[1;32mNone\u001b[0m\u001b[1;33m:\u001b[0m\u001b[1;33m\u001b[0m\u001b[1;33m\u001b[0m\u001b[0m\n\u001b[1;32m--> 678\u001b[1;33m             \u001b[0mestimator\u001b[0m\u001b[1;33m.\u001b[0m\u001b[0mfit\u001b[0m\u001b[1;33m(\u001b[0m\u001b[0mX_train\u001b[0m\u001b[1;33m,\u001b[0m \u001b[1;33m**\u001b[0m\u001b[0mfit_params\u001b[0m\u001b[1;33m)\u001b[0m\u001b[1;33m\u001b[0m\u001b[1;33m\u001b[0m\u001b[0m\n\u001b[0m\u001b[0;32m    679\u001b[0m         \u001b[1;32melse\u001b[0m\u001b[1;33m:\u001b[0m\u001b[1;33m\u001b[0m\u001b[1;33m\u001b[0m\u001b[0m\n\u001b[0;32m    680\u001b[0m             \u001b[0mestimator\u001b[0m\u001b[1;33m.\u001b[0m\u001b[0mfit\u001b[0m\u001b[1;33m(\u001b[0m\u001b[0mX_train\u001b[0m\u001b[1;33m,\u001b[0m \u001b[0my_train\u001b[0m\u001b[1;33m,\u001b[0m \u001b[1;33m**\u001b[0m\u001b[0mfit_params\u001b[0m\u001b[1;33m)\u001b[0m\u001b[1;33m\u001b[0m\u001b[1;33m\u001b[0m\u001b[0m\n",
      "\u001b[1;32m~\\anaconda3\\lib\\site-packages\\sklearn\\pipeline.py\u001b[0m in \u001b[0;36mfit\u001b[1;34m(self, X, y, **fit_params)\u001b[0m\n\u001b[0;32m    392\u001b[0m             \u001b[1;32mif\u001b[0m \u001b[0mself\u001b[0m\u001b[1;33m.\u001b[0m\u001b[0m_final_estimator\u001b[0m \u001b[1;33m!=\u001b[0m \u001b[1;34m\"passthrough\"\u001b[0m\u001b[1;33m:\u001b[0m\u001b[1;33m\u001b[0m\u001b[1;33m\u001b[0m\u001b[0m\n\u001b[0;32m    393\u001b[0m                 \u001b[0mfit_params_last_step\u001b[0m \u001b[1;33m=\u001b[0m \u001b[0mfit_params_steps\u001b[0m\u001b[1;33m[\u001b[0m\u001b[0mself\u001b[0m\u001b[1;33m.\u001b[0m\u001b[0msteps\u001b[0m\u001b[1;33m[\u001b[0m\u001b[1;33m-\u001b[0m\u001b[1;36m1\u001b[0m\u001b[1;33m]\u001b[0m\u001b[1;33m[\u001b[0m\u001b[1;36m0\u001b[0m\u001b[1;33m]\u001b[0m\u001b[1;33m]\u001b[0m\u001b[1;33m\u001b[0m\u001b[1;33m\u001b[0m\u001b[0m\n\u001b[1;32m--> 394\u001b[1;33m                 \u001b[0mself\u001b[0m\u001b[1;33m.\u001b[0m\u001b[0m_final_estimator\u001b[0m\u001b[1;33m.\u001b[0m\u001b[0mfit\u001b[0m\u001b[1;33m(\u001b[0m\u001b[0mXt\u001b[0m\u001b[1;33m,\u001b[0m \u001b[0my\u001b[0m\u001b[1;33m,\u001b[0m \u001b[1;33m**\u001b[0m\u001b[0mfit_params_last_step\u001b[0m\u001b[1;33m)\u001b[0m\u001b[1;33m\u001b[0m\u001b[1;33m\u001b[0m\u001b[0m\n\u001b[0m\u001b[0;32m    395\u001b[0m \u001b[1;33m\u001b[0m\u001b[0m\n\u001b[0;32m    396\u001b[0m         \u001b[1;32mreturn\u001b[0m \u001b[0mself\u001b[0m\u001b[1;33m\u001b[0m\u001b[1;33m\u001b[0m\u001b[0m\n",
      "\u001b[1;32m~\\anaconda3\\lib\\site-packages\\sklearn\\cluster\\_kmeans.py\u001b[0m in \u001b[0;36mfit\u001b[1;34m(self, X, y, sample_weight)\u001b[0m\n\u001b[0;32m   1184\u001b[0m \u001b[1;33m\u001b[0m\u001b[0m\n\u001b[0;32m   1185\u001b[0m             \u001b[1;31m# run a k-means once\u001b[0m\u001b[1;33m\u001b[0m\u001b[1;33m\u001b[0m\u001b[1;33m\u001b[0m\u001b[0m\n\u001b[1;32m-> 1186\u001b[1;33m             labels, inertia, centers, n_iter_ = kmeans_single(\n\u001b[0m\u001b[0;32m   1187\u001b[0m                 \u001b[0mX\u001b[0m\u001b[1;33m,\u001b[0m\u001b[1;33m\u001b[0m\u001b[1;33m\u001b[0m\u001b[0m\n\u001b[0;32m   1188\u001b[0m                 \u001b[0msample_weight\u001b[0m\u001b[1;33m,\u001b[0m\u001b[1;33m\u001b[0m\u001b[1;33m\u001b[0m\u001b[0m\n",
      "\u001b[1;32m~\\anaconda3\\lib\\site-packages\\sklearn\\cluster\\_kmeans.py\u001b[0m in \u001b[0;36m_kmeans_single_elkan\u001b[1;34m(X, sample_weight, centers_init, max_iter, verbose, x_squared_norms, tol, n_threads)\u001b[0m\n\u001b[0;32m    500\u001b[0m         \u001b[0mcenters\u001b[0m\u001b[1;33m,\u001b[0m \u001b[0mcenters_new\u001b[0m \u001b[1;33m=\u001b[0m \u001b[0mcenters_new\u001b[0m\u001b[1;33m,\u001b[0m \u001b[0mcenters\u001b[0m\u001b[1;33m\u001b[0m\u001b[1;33m\u001b[0m\u001b[0m\n\u001b[0;32m    501\u001b[0m \u001b[1;33m\u001b[0m\u001b[0m\n\u001b[1;32m--> 502\u001b[1;33m         \u001b[1;32mif\u001b[0m \u001b[0mnp\u001b[0m\u001b[1;33m.\u001b[0m\u001b[0marray_equal\u001b[0m\u001b[1;33m(\u001b[0m\u001b[0mlabels\u001b[0m\u001b[1;33m,\u001b[0m \u001b[0mlabels_old\u001b[0m\u001b[1;33m)\u001b[0m\u001b[1;33m:\u001b[0m\u001b[1;33m\u001b[0m\u001b[1;33m\u001b[0m\u001b[0m\n\u001b[0m\u001b[0;32m    503\u001b[0m             \u001b[1;31m# First check the labels for strict convergence.\u001b[0m\u001b[1;33m\u001b[0m\u001b[1;33m\u001b[0m\u001b[1;33m\u001b[0m\u001b[0m\n\u001b[0;32m    504\u001b[0m             \u001b[1;32mif\u001b[0m \u001b[0mverbose\u001b[0m\u001b[1;33m:\u001b[0m\u001b[1;33m\u001b[0m\u001b[1;33m\u001b[0m\u001b[0m\n",
      "\u001b[1;32m<__array_function__ internals>\u001b[0m in \u001b[0;36marray_equal\u001b[1;34m(*args, **kwargs)\u001b[0m\n",
      "\u001b[1;32m~\\anaconda3\\lib\\site-packages\\numpy\\core\\numeric.py\u001b[0m in \u001b[0;36marray_equal\u001b[1;34m(a1, a2, equal_nan)\u001b[0m\n\u001b[0;32m   2444\u001b[0m         \u001b[1;32mreturn\u001b[0m \u001b[1;32mFalse\u001b[0m\u001b[1;33m\u001b[0m\u001b[1;33m\u001b[0m\u001b[0m\n\u001b[0;32m   2445\u001b[0m     \u001b[1;32mif\u001b[0m \u001b[1;32mnot\u001b[0m \u001b[0mequal_nan\u001b[0m\u001b[1;33m:\u001b[0m\u001b[1;33m\u001b[0m\u001b[1;33m\u001b[0m\u001b[0m\n\u001b[1;32m-> 2446\u001b[1;33m         \u001b[1;32mreturn\u001b[0m \u001b[0mbool\u001b[0m\u001b[1;33m(\u001b[0m\u001b[0masarray\u001b[0m\u001b[1;33m(\u001b[0m\u001b[0ma1\u001b[0m \u001b[1;33m==\u001b[0m \u001b[0ma2\u001b[0m\u001b[1;33m)\u001b[0m\u001b[1;33m.\u001b[0m\u001b[0mall\u001b[0m\u001b[1;33m(\u001b[0m\u001b[1;33m)\u001b[0m\u001b[1;33m)\u001b[0m\u001b[1;33m\u001b[0m\u001b[1;33m\u001b[0m\u001b[0m\n\u001b[0m\u001b[0;32m   2447\u001b[0m     \u001b[1;31m# Handling NaN values if equal_nan is True\u001b[0m\u001b[1;33m\u001b[0m\u001b[1;33m\u001b[0m\u001b[1;33m\u001b[0m\u001b[0m\n\u001b[0;32m   2448\u001b[0m     \u001b[0ma1nan\u001b[0m\u001b[1;33m,\u001b[0m \u001b[0ma2nan\u001b[0m \u001b[1;33m=\u001b[0m \u001b[0misnan\u001b[0m\u001b[1;33m(\u001b[0m\u001b[0ma1\u001b[0m\u001b[1;33m)\u001b[0m\u001b[1;33m,\u001b[0m \u001b[0misnan\u001b[0m\u001b[1;33m(\u001b[0m\u001b[0ma2\u001b[0m\u001b[1;33m)\u001b[0m\u001b[1;33m\u001b[0m\u001b[1;33m\u001b[0m\u001b[0m\n",
      "\u001b[1;31mKeyboardInterrupt\u001b[0m: "
     ]
    }
   ],
   "source": [
    "# Doing randomized search on the models\n",
    "\n",
    "search = RandomizedSearchCV(pipe, param_distributions = param_dist)\n",
    "search.fit(features)"
   ]
  },
  {
   "cell_type": "code",
   "execution_count": null,
   "id": "3ab3c1b0",
   "metadata": {},
   "outputs": [],
   "source": [
    "search.best_params_"
   ]
  },
  {
   "cell_type": "code",
   "execution_count": null,
   "id": "fd7cdd77",
   "metadata": {},
   "outputs": [],
   "source": [
    "#checking if taking first 3 components makes sense\n",
    "print(pipe['pca'].explained_variance_ratio_)"
   ]
  },
  {
   "cell_type": "code",
   "execution_count": 258,
   "id": "1fdee3a8",
   "metadata": {},
   "outputs": [
    {
     "data": {
      "text/plain": [
       "9699384.244318962"
      ]
     },
     "execution_count": 258,
     "metadata": {},
     "output_type": "execute_result"
    }
   ],
   "source": [
    "# SSE\n",
    "pipe['kmeans'].inertia_"
   ]
  },
  {
   "cell_type": "code",
   "execution_count": 234,
   "id": "aac35920",
   "metadata": {},
   "outputs": [
    {
     "data": {
      "text/plain": [
       "1836050.1822210508"
      ]
     },
     "execution_count": 234,
     "metadata": {},
     "output_type": "execute_result"
    }
   ],
   "source": [
    "# Printing SSE for 3 dimensions\n",
    "pipe['pipeline']['kmeans'].inertia_"
   ]
  },
  {
   "cell_type": "code",
   "execution_count": 213,
   "id": "d3c86aa4",
   "metadata": {},
   "outputs": [
    {
     "data": {
      "text/plain": [
       "array([1, 9, 5, ..., 5, 8, 3])"
      ]
     },
     "execution_count": 213,
     "metadata": {},
     "output_type": "execute_result"
    }
   ],
   "source": [
    "# Predicted Labels\n",
    "pipe['pipeline']['kmeans'].labels_"
   ]
  },
  {
   "cell_type": "code",
   "execution_count": 230,
   "id": "5c3fa3ca",
   "metadata": {},
   "outputs": [
    {
     "data": {
      "text/plain": [
       "array([0.41408227, 0.13178738, 0.10139931, 0.08974505, 0.07388963,\n",
       "       0.0666591 , 0.06055119, 0.04117373, 0.01530884, 0.00458151])"
      ]
     },
     "execution_count": 230,
     "metadata": {},
     "output_type": "execute_result"
    }
   ],
   "source": []
  },
  {
   "cell_type": "code",
   "execution_count": 274,
   "id": "63b997dd",
   "metadata": {
    "collapsed": true
   },
   "outputs": [
    {
     "ename": "NotFittedError",
     "evalue": "This PCA instance is not fitted yet. Call 'fit' with appropriate arguments before using this estimator.",
     "output_type": "error",
     "traceback": [
      "\u001b[1;31m---------------------------------------------------------------------------\u001b[0m",
      "\u001b[1;31mNotFittedError\u001b[0m                            Traceback (most recent call last)",
      "\u001b[1;32m~\\AppData\\Local\\Temp/ipykernel_26868/64728302.py\u001b[0m in \u001b[0;36m<module>\u001b[1;34m\u001b[0m\n\u001b[0;32m      3\u001b[0m \u001b[1;33m\u001b[0m\u001b[0m\n\u001b[0;32m      4\u001b[0m pcadf = pd.DataFrame(\n\u001b[1;32m----> 5\u001b[1;33m     \u001b[0mpipe\u001b[0m\u001b[1;33m[\u001b[0m\u001b[1;34m'pca'\u001b[0m\u001b[1;33m]\u001b[0m\u001b[1;33m.\u001b[0m\u001b[0mtransform\u001b[0m\u001b[1;33m(\u001b[0m\u001b[0mpipe\u001b[0m\u001b[1;33m[\u001b[0m\u001b[1;34m'columntransformer'\u001b[0m\u001b[1;33m]\u001b[0m\u001b[1;33m.\u001b[0m\u001b[0mtransform\u001b[0m\u001b[1;33m(\u001b[0m\u001b[0mfeatures\u001b[0m\u001b[1;33m)\u001b[0m\u001b[1;33m)\u001b[0m\u001b[1;33m,\u001b[0m\u001b[1;33m\u001b[0m\u001b[1;33m\u001b[0m\u001b[0m\n\u001b[0m\u001b[0;32m      6\u001b[0m     \u001b[0mcolumns\u001b[0m\u001b[1;33m=\u001b[0m\u001b[1;33m[\u001b[0m\u001b[1;34m\"component_1\"\u001b[0m\u001b[1;33m,\u001b[0m \u001b[1;34m\"component_2\"\u001b[0m\u001b[1;33m]\u001b[0m\u001b[1;33m,\u001b[0m\u001b[1;33m\u001b[0m\u001b[1;33m\u001b[0m\u001b[0m\n\u001b[0;32m      7\u001b[0m )\n",
      "\u001b[1;32m~\\anaconda3\\lib\\site-packages\\sklearn\\decomposition\\_base.py\u001b[0m in \u001b[0;36mtransform\u001b[1;34m(self, X)\u001b[0m\n\u001b[0;32m    113\u001b[0m             \u001b[1;32mis\u001b[0m \u001b[0mthe\u001b[0m \u001b[0mnumber\u001b[0m \u001b[0mof\u001b[0m \u001b[0msamples\u001b[0m \u001b[1;32mand\u001b[0m\u001b[0;31m \u001b[0m\u001b[0;31m`\u001b[0m\u001b[0mn_components\u001b[0m\u001b[0;31m`\u001b[0m \u001b[1;32mis\u001b[0m \u001b[0mthe\u001b[0m \u001b[0mnumber\u001b[0m \u001b[0mof\u001b[0m \u001b[0mthe\u001b[0m \u001b[0mcomponents\u001b[0m\u001b[1;33m.\u001b[0m\u001b[1;33m\u001b[0m\u001b[1;33m\u001b[0m\u001b[0m\n\u001b[0;32m    114\u001b[0m         \"\"\"\n\u001b[1;32m--> 115\u001b[1;33m         \u001b[0mcheck_is_fitted\u001b[0m\u001b[1;33m(\u001b[0m\u001b[0mself\u001b[0m\u001b[1;33m)\u001b[0m\u001b[1;33m\u001b[0m\u001b[1;33m\u001b[0m\u001b[0m\n\u001b[0m\u001b[0;32m    116\u001b[0m \u001b[1;33m\u001b[0m\u001b[0m\n\u001b[0;32m    117\u001b[0m         \u001b[0mX\u001b[0m \u001b[1;33m=\u001b[0m \u001b[0mself\u001b[0m\u001b[1;33m.\u001b[0m\u001b[0m_validate_data\u001b[0m\u001b[1;33m(\u001b[0m\u001b[0mX\u001b[0m\u001b[1;33m,\u001b[0m \u001b[0mdtype\u001b[0m\u001b[1;33m=\u001b[0m\u001b[1;33m[\u001b[0m\u001b[0mnp\u001b[0m\u001b[1;33m.\u001b[0m\u001b[0mfloat64\u001b[0m\u001b[1;33m,\u001b[0m \u001b[0mnp\u001b[0m\u001b[1;33m.\u001b[0m\u001b[0mfloat32\u001b[0m\u001b[1;33m]\u001b[0m\u001b[1;33m,\u001b[0m \u001b[0mreset\u001b[0m\u001b[1;33m=\u001b[0m\u001b[1;32mFalse\u001b[0m\u001b[1;33m)\u001b[0m\u001b[1;33m\u001b[0m\u001b[1;33m\u001b[0m\u001b[0m\n",
      "\u001b[1;32m~\\anaconda3\\lib\\site-packages\\sklearn\\utils\\validation.py\u001b[0m in \u001b[0;36mcheck_is_fitted\u001b[1;34m(estimator, attributes, msg, all_or_any)\u001b[0m\n\u001b[0;32m   1220\u001b[0m \u001b[1;33m\u001b[0m\u001b[0m\n\u001b[0;32m   1221\u001b[0m     \u001b[1;32mif\u001b[0m \u001b[1;32mnot\u001b[0m \u001b[0mfitted\u001b[0m\u001b[1;33m:\u001b[0m\u001b[1;33m\u001b[0m\u001b[1;33m\u001b[0m\u001b[0m\n\u001b[1;32m-> 1222\u001b[1;33m         \u001b[1;32mraise\u001b[0m \u001b[0mNotFittedError\u001b[0m\u001b[1;33m(\u001b[0m\u001b[0mmsg\u001b[0m \u001b[1;33m%\u001b[0m \u001b[1;33m{\u001b[0m\u001b[1;34m\"name\"\u001b[0m\u001b[1;33m:\u001b[0m \u001b[0mtype\u001b[0m\u001b[1;33m(\u001b[0m\u001b[0mestimator\u001b[0m\u001b[1;33m)\u001b[0m\u001b[1;33m.\u001b[0m\u001b[0m__name__\u001b[0m\u001b[1;33m}\u001b[0m\u001b[1;33m)\u001b[0m\u001b[1;33m\u001b[0m\u001b[1;33m\u001b[0m\u001b[0m\n\u001b[0m\u001b[0;32m   1223\u001b[0m \u001b[1;33m\u001b[0m\u001b[0m\n\u001b[0;32m   1224\u001b[0m \u001b[1;33m\u001b[0m\u001b[0m\n",
      "\u001b[1;31mNotFittedError\u001b[0m: This PCA instance is not fitted yet. Call 'fit' with appropriate arguments before using this estimator."
     ]
    }
   ],
   "source": [
    "#visualizing the kmeans plot\n",
    "\n",
    "import matplotlib.pyplot as plt\n",
    "import seaborn as sns\n",
    "\n",
    "pcadf = pd.DataFrame(\n",
    "    pipe['pca'].transform(pipe['columntransformer'].transform(features)),\n",
    "    columns=[\"component_1\", \"component_2\"],\n",
    ")\n",
    "\n",
    "\n",
    "plt.style.use(\"fivethirtyeight\")\n",
    "plt.figure(figsize=(8, 8))\n",
    "\n",
    "scat = sns.scatterplot(\n",
    "    \"component_1\",\n",
    "    \"component_2\",\n",
    "    s=50,\n",
    "    data=pcadf,\n",
    "    palette=\"Set2\",\n",
    ")\n",
    "\n",
    "scat.set_title('H&M predictions')\n",
    "plt.legend(bbox_to_anchor=(1.05, 1), loc=2, borderaxespad=0.0)\n",
    "\n",
    "plt.show()"
   ]
  },
  {
   "cell_type": "markdown",
   "id": "ab72bd9e",
   "metadata": {},
   "source": [
    "# Preprocessing Articles"
   ]
  },
  {
   "cell_type": "code",
   "execution_count": 4,
   "id": "64649bf2",
   "metadata": {},
   "outputs": [],
   "source": [
    "import numpy as np\n",
    "from sklearn.feature_extraction.text import TfidfVectorizer\n",
    "    \n",
    "def preprocess_2(articles_data):\n",
    "    n = 3 # top n TF-IDF words\n",
    "\n",
    "    tfidf = TfidfVectorizer(token_pattern=r\"\\w+\") # no words are left out\n",
    "    X = tfidf.fit_transform(articles_data['detail_desc'].values.astype('U'))\n",
    "    ind = (-X.todense()).argpartition(n)[:, :n]\n",
    "    top_words = pd.Series(list(np.array(tfidf.get_feature_names())[ind]))\n",
    "\n",
    "    subset_cols = ['article_id','product_type_no','graphical_appearance_no','colour_group_code','perceived_colour_value_id','perceived_colour_master_id','department_no','index_group_no','section_no', 'garment_group_no']\n",
    "    articles_data = articles_data.loc[:,subset_cols]\n",
    "    articles_data['prod_desc'] = top_words\n",
    "    return articles_data"
   ]
  },
  {
   "cell_type": "code",
   "execution_count": 15,
   "id": "ac2a6991",
   "metadata": {},
   "outputs": [
    {
     "name": "stderr",
     "output_type": "stream",
     "text": [
      "C:\\Users\\ayush\\anaconda3\\lib\\site-packages\\sklearn\\utils\\deprecation.py:87: FutureWarning: Function get_feature_names is deprecated; get_feature_names is deprecated in 1.0 and will be removed in 1.2. Please use get_feature_names_out instead.\n",
      "  warnings.warn(msg, category=FutureWarning)\n"
     ]
    }
   ],
   "source": [
    "articles_data = preprocess_2(articles_data)"
   ]
  },
  {
   "cell_type": "code",
   "execution_count": 18,
   "id": "40ca4d9e",
   "metadata": {},
   "outputs": [],
   "source": [
    "a_t = pd.merge(articles_data,transaction_data, on = 'article_id')\n",
    "final = pd.merge(customers_data,a_t, on ='customer_id' )"
   ]
  },
  {
   "cell_type": "code",
   "execution_count": 41,
   "id": "b725b165",
   "metadata": {},
   "outputs": [],
   "source": [
    "sub_sample = final.sample(frac=0.001, replace=False, random_state=1)"
   ]
  },
  {
   "cell_type": "markdown",
   "id": "513ad9f2",
   "metadata": {},
   "source": [
    "# Label Encoding"
   ]
  },
  {
   "cell_type": "code",
   "execution_count": 42,
   "id": "0f417743",
   "metadata": {},
   "outputs": [],
   "source": [
    "sub_sample['club_member_status'] = sub_sample.club_member_status.astype(\"category\").cat.codes\n",
    "sub_sample['fashion_news_frequency'] = sub_sample.fashion_news_frequency.astype(\"category\").cat.codes\n",
    "sub_sample['postal_code'] = sub_sample.postal_code.astype(\"category\").cat.codes"
   ]
  },
  {
   "cell_type": "markdown",
   "id": "db856da7",
   "metadata": {},
   "source": [
    "# SubSamping & Train Test Split "
   ]
  },
  {
   "cell_type": "code",
   "execution_count": 43,
   "id": "428df3ce",
   "metadata": {},
   "outputs": [],
   "source": [
    "X = sub_sample.drop(['customer_id','article_id','t_dat','prod_desc'],axis = 1)\n",
    "y = sub_sample['article_id']\n",
    "\n",
    "\n",
    "\n",
    "\n",
    "from sklearn.model_selection import train_test_split\n",
    "X_train, X_test, y_train, y_test = train_test_split(X, y, test_size=0.33, shuffle=False)\n",
    "\n",
    "from sklearn.utils import shuffle\n",
    "X_train, y_train = shuffle(X_train, y_train, random_state=0)\n",
    "X_test, y_test = shuffle(X_test, y_test, random_state=0)\n",
    "\n"
   ]
  },
  {
   "cell_type": "code",
   "execution_count": 44,
   "id": "e994889e",
   "metadata": {},
   "outputs": [],
   "source": [
    "# X_train[['club_member_status']] = enc.fit_transform(X_train[['club_member_status']].values.reshape(-1,1))\n",
    "# X_train[['fashion_news_frequency']] = enc.fit_transform(X_train[['fashion_news_frequency']].values.reshape(-1,1))"
   ]
  },
  {
   "cell_type": "markdown",
   "id": "9346a84d",
   "metadata": {},
   "source": [
    "# Random Forest"
   ]
  },
  {
   "cell_type": "code",
   "execution_count": 46,
   "id": "7ae8457e",
   "metadata": {},
   "outputs": [
    {
     "data": {
      "text/plain": [
       "Pipeline(steps=[('randomforestclassifier',\n",
       "                 RandomForestClassifier(max_samples=200, min_samples_split=5,\n",
       "                                        n_estimators=50, n_jobs=-1,\n",
       "                                        random_state=0))])"
      ]
     },
     "execution_count": 46,
     "metadata": {},
     "output_type": "execute_result"
    }
   ],
   "source": [
    "from sklearn.ensemble import RandomForestClassifier\n",
    "from sklearn.datasets import make_classification\n",
    "from sklearn.compose import make_column_transformer\n",
    "import sklearn\n",
    "from sklearn.metrics import accuracy_score\n",
    "\n",
    "clf2 = RandomForestClassifier(n_estimators=50, min_samples_split=5,random_state=0,max_samples=200,n_jobs=-1,bootstrap = True)\n",
    "\n",
    "\n",
    "#l=5000000\n",
    "#clf2.fit(X_train[:l], y_train[:l])\n",
    "\n",
    "# label = ['club_member_status','fashion_news_frequency']\n",
    "\n",
    "#preprocess = make_column_transformer((OrdinalEncoder(), label),\n",
    "#                                      remainder = \"passthrough\") \n",
    "\n",
    "\n",
    "pipe = sklearn.pipeline.make_pipeline(clf2)\n",
    "    \n",
    "pipe.fit(X_train.fillna(0), y_train)\n",
    "\n",
    "\n",
    "\n"
   ]
  },
  {
   "cell_type": "markdown",
   "id": "40972885",
   "metadata": {},
   "source": []
  },
  {
   "cell_type": "code",
   "execution_count": 47,
   "id": "4027df05",
   "metadata": {},
   "outputs": [
    {
     "data": {
      "text/plain": [
       "104"
      ]
     },
     "execution_count": 47,
     "metadata": {},
     "output_type": "execute_result"
    }
   ],
   "source": [
    "import gc\n",
    "\n",
    "# freeing up memory\n",
    "del X_train\n",
    "gc.collect()"
   ]
  },
  {
   "cell_type": "markdown",
   "id": "3a794660",
   "metadata": {},
   "source": [
    "# Predicting"
   ]
  },
  {
   "cell_type": "code",
   "execution_count": 48,
   "id": "c2e2c4b2",
   "metadata": {},
   "outputs": [
    {
     "name": "stdout",
     "output_type": "stream",
     "text": [
      "0.011819654942331522\n"
     ]
    }
   ],
   "source": [
    "# X_test[['club_member_status']] = enc.transform(X_test[['club_member_status']].values.reshape(-1,1))\n",
    "# X_test[['fashion_news_frequency']] = enc.transform(X_test[['fashion_news_frequency']].values.reshape(-1,1))\n",
    "y_pred = pipe.predict(X_test.fillna(0))\n",
    "print(accuracy_score(y_test, y_pred))"
   ]
  },
  {
   "cell_type": "code",
   "execution_count": 51,
   "id": "793e1661",
   "metadata": {},
   "outputs": [
    {
     "data": {
      "text/plain": [
       "array([[0., 0., 0., ..., 0., 0., 0.],\n",
       "       [0., 0., 0., ..., 0., 0., 0.],\n",
       "       [0., 0., 0., ..., 0., 0., 0.],\n",
       "       ...,\n",
       "       [0., 0., 0., ..., 0., 0., 0.],\n",
       "       [0., 0., 0., ..., 0., 0., 0.],\n",
       "       [0., 0., 0., ..., 0., 0., 0.]])"
      ]
     },
     "execution_count": 51,
     "metadata": {},
     "output_type": "execute_result"
    }
   ],
   "source": [
    "pipe.predict_proba(X_test.fillna(0))"
   ]
  }
 ],
 "metadata": {
  "kernelspec": {
   "display_name": "Python 3 (ipykernel)",
   "language": "python",
   "name": "python3"
  },
  "language_info": {
   "codemirror_mode": {
    "name": "ipython",
    "version": 3
   },
   "file_extension": ".py",
   "mimetype": "text/x-python",
   "name": "python",
   "nbconvert_exporter": "python",
   "pygments_lexer": "ipython3",
   "version": "3.8.5"
  }
 },
 "nbformat": 4,
 "nbformat_minor": 5
}
