{
 "cells": [
  {
   "cell_type": "code",
   "execution_count": 1,
   "id": "8180a84a",
   "metadata": {},
   "outputs": [],
   "source": [
    "import pandas as pd;\n",
    "import numpy as np;\n",
    "import csv"
   ]
  },
  {
   "cell_type": "code",
   "execution_count": 2,
   "id": "ab2af321",
   "metadata": {},
   "outputs": [],
   "source": [
    "# read in dataset\n",
    "\n",
    "transaction=pd.read_csv(\"/Users/wenxinzhang/Desktop/graduate/course/2nd_semester/AML/proj/h-and-m-personalized-fashion-recommendations/transactions_train.csv\")\n",
    "transaction.head()\n"
   ]
  },
  {
   "cell_type": "code",
   "execution_count": 3,
   "id": "d3d13147",
   "metadata": {},
   "outputs": [
    {
     "data": {
      "text/html": [
       "<div>\n",
       "<style scoped>\n",
       "    .dataframe tbody tr th:only-of-type {\n",
       "        vertical-align: middle;\n",
       "    }\n",
       "\n",
       "    .dataframe tbody tr th {\n",
       "        vertical-align: top;\n",
       "    }\n",
       "\n",
       "    .dataframe thead th {\n",
       "        text-align: right;\n",
       "    }\n",
       "</style>\n",
       "<table border=\"1\" class=\"dataframe\">\n",
       "  <thead>\n",
       "    <tr style=\"text-align: right;\">\n",
       "      <th></th>\n",
       "      <th>t_dat</th>\n",
       "      <th>customer_id</th>\n",
       "      <th>article_id</th>\n",
       "      <th>price</th>\n",
       "      <th>sales_channel_id</th>\n",
       "    </tr>\n",
       "  </thead>\n",
       "  <tbody>\n",
       "    <tr>\n",
       "      <th>0</th>\n",
       "      <td>2018-09-20</td>\n",
       "      <td>000058a12d5b43e67d225668fa1f8d618c13dc232df0ca...</td>\n",
       "      <td>663713001</td>\n",
       "      <td>0.050831</td>\n",
       "      <td>2</td>\n",
       "    </tr>\n",
       "    <tr>\n",
       "      <th>1</th>\n",
       "      <td>2018-09-20</td>\n",
       "      <td>000058a12d5b43e67d225668fa1f8d618c13dc232df0ca...</td>\n",
       "      <td>541518023</td>\n",
       "      <td>0.030492</td>\n",
       "      <td>2</td>\n",
       "    </tr>\n",
       "    <tr>\n",
       "      <th>2</th>\n",
       "      <td>2018-09-20</td>\n",
       "      <td>00007d2de826758b65a93dd24ce629ed66842531df6699...</td>\n",
       "      <td>505221004</td>\n",
       "      <td>0.015237</td>\n",
       "      <td>2</td>\n",
       "    </tr>\n",
       "    <tr>\n",
       "      <th>3</th>\n",
       "      <td>2018-09-20</td>\n",
       "      <td>00007d2de826758b65a93dd24ce629ed66842531df6699...</td>\n",
       "      <td>685687003</td>\n",
       "      <td>0.016932</td>\n",
       "      <td>2</td>\n",
       "    </tr>\n",
       "    <tr>\n",
       "      <th>4</th>\n",
       "      <td>2018-09-20</td>\n",
       "      <td>00007d2de826758b65a93dd24ce629ed66842531df6699...</td>\n",
       "      <td>685687004</td>\n",
       "      <td>0.016932</td>\n",
       "      <td>2</td>\n",
       "    </tr>\n",
       "  </tbody>\n",
       "</table>\n",
       "</div>"
      ],
      "text/plain": [
       "        t_dat                                        customer_id  article_id  \\\n",
       "0  2018-09-20  000058a12d5b43e67d225668fa1f8d618c13dc232df0ca...   663713001   \n",
       "1  2018-09-20  000058a12d5b43e67d225668fa1f8d618c13dc232df0ca...   541518023   \n",
       "2  2018-09-20  00007d2de826758b65a93dd24ce629ed66842531df6699...   505221004   \n",
       "3  2018-09-20  00007d2de826758b65a93dd24ce629ed66842531df6699...   685687003   \n",
       "4  2018-09-20  00007d2de826758b65a93dd24ce629ed66842531df6699...   685687004   \n",
       "\n",
       "      price  sales_channel_id  \n",
       "0  0.050831                 2  \n",
       "1  0.030492                 2  \n",
       "2  0.015237                 2  \n",
       "3  0.016932                 2  \n",
       "4  0.016932                 2  "
      ]
     },
     "execution_count": 3,
     "metadata": {},
     "output_type": "execute_result"
    }
   ],
   "source": [
    "transaction.head()"
   ]
  },
  {
   "cell_type": "code",
   "execution_count": 372,
   "id": "85c76192",
   "metadata": {},
   "outputs": [
    {
     "data": {
      "text/plain": [
       "1362281"
      ]
     },
     "execution_count": 372,
     "metadata": {},
     "output_type": "execute_result"
    }
   ],
   "source": [
    "len(set(transaction['customer_id']))"
   ]
  },
  {
   "cell_type": "code",
   "execution_count": 347,
   "id": "3d7a5f22",
   "metadata": {},
   "outputs": [
    {
     "data": {
      "text/html": [
       "<div>\n",
       "<style scoped>\n",
       "    .dataframe tbody tr th:only-of-type {\n",
       "        vertical-align: middle;\n",
       "    }\n",
       "\n",
       "    .dataframe tbody tr th {\n",
       "        vertical-align: top;\n",
       "    }\n",
       "\n",
       "    .dataframe thead th {\n",
       "        text-align: right;\n",
       "    }\n",
       "</style>\n",
       "<table border=\"1\" class=\"dataframe\">\n",
       "  <thead>\n",
       "    <tr style=\"text-align: right;\">\n",
       "      <th></th>\n",
       "      <th>t_dat</th>\n",
       "      <th>customer_id</th>\n",
       "      <th>article_id</th>\n",
       "      <th>price</th>\n",
       "      <th>sales_channel_id</th>\n",
       "      <th>year</th>\n",
       "      <th>month</th>\n",
       "    </tr>\n",
       "  </thead>\n",
       "  <tbody>\n",
       "    <tr>\n",
       "      <th>0</th>\n",
       "      <td>2018-09-20</td>\n",
       "      <td>000058a12d5b43e67d225668fa1f8d618c13dc232df0ca...</td>\n",
       "      <td>663713001</td>\n",
       "      <td>0.050831</td>\n",
       "      <td>2</td>\n",
       "      <td>2018</td>\n",
       "      <td>9</td>\n",
       "    </tr>\n",
       "    <tr>\n",
       "      <th>1</th>\n",
       "      <td>2018-09-20</td>\n",
       "      <td>000058a12d5b43e67d225668fa1f8d618c13dc232df0ca...</td>\n",
       "      <td>541518023</td>\n",
       "      <td>0.030492</td>\n",
       "      <td>2</td>\n",
       "      <td>2018</td>\n",
       "      <td>9</td>\n",
       "    </tr>\n",
       "    <tr>\n",
       "      <th>2</th>\n",
       "      <td>2018-09-20</td>\n",
       "      <td>00007d2de826758b65a93dd24ce629ed66842531df6699...</td>\n",
       "      <td>505221004</td>\n",
       "      <td>0.015237</td>\n",
       "      <td>2</td>\n",
       "      <td>2018</td>\n",
       "      <td>9</td>\n",
       "    </tr>\n",
       "    <tr>\n",
       "      <th>3</th>\n",
       "      <td>2018-09-20</td>\n",
       "      <td>00007d2de826758b65a93dd24ce629ed66842531df6699...</td>\n",
       "      <td>685687003</td>\n",
       "      <td>0.016932</td>\n",
       "      <td>2</td>\n",
       "      <td>2018</td>\n",
       "      <td>9</td>\n",
       "    </tr>\n",
       "    <tr>\n",
       "      <th>4</th>\n",
       "      <td>2018-09-20</td>\n",
       "      <td>00007d2de826758b65a93dd24ce629ed66842531df6699...</td>\n",
       "      <td>685687004</td>\n",
       "      <td>0.016932</td>\n",
       "      <td>2</td>\n",
       "      <td>2018</td>\n",
       "      <td>9</td>\n",
       "    </tr>\n",
       "  </tbody>\n",
       "</table>\n",
       "</div>"
      ],
      "text/plain": [
       "       t_dat                                        customer_id  article_id  \\\n",
       "0 2018-09-20  000058a12d5b43e67d225668fa1f8d618c13dc232df0ca...   663713001   \n",
       "1 2018-09-20  000058a12d5b43e67d225668fa1f8d618c13dc232df0ca...   541518023   \n",
       "2 2018-09-20  00007d2de826758b65a93dd24ce629ed66842531df6699...   505221004   \n",
       "3 2018-09-20  00007d2de826758b65a93dd24ce629ed66842531df6699...   685687003   \n",
       "4 2018-09-20  00007d2de826758b65a93dd24ce629ed66842531df6699...   685687004   \n",
       "\n",
       "      price  sales_channel_id  year  month  \n",
       "0  0.050831                 2  2018      9  \n",
       "1  0.030492                 2  2018      9  \n",
       "2  0.015237                 2  2018      9  \n",
       "3  0.016932                 2  2018      9  \n",
       "4  0.016932                 2  2018      9  "
      ]
     },
     "execution_count": 347,
     "metadata": {},
     "output_type": "execute_result"
    }
   ],
   "source": [
    "df=transaction\n",
    "df['t_dat']=pd.to_datetime(df['t_dat'])\n",
    "df['year']=df['t_dat'].dt.year\n",
    "df['month']=df['t_dat'].dt.month\n",
    "df.head()"
   ]
  },
  {
   "cell_type": "markdown",
   "id": "ae68952c",
   "metadata": {},
   "source": [
    "## generate subset of transactions according to the transaction time"
   ]
  },
  {
   "cell_type": "code",
   "execution_count": 348,
   "id": "7c078435",
   "metadata": {},
   "outputs": [],
   "source": [
    "df_18_09=df.loc[(df.year== 2018) & (df.month == 9)]\n",
    "df_18_10=df.loc[(df.year== 2018) & (df.month == 10)]\n",
    "df_18_11=df.loc[(df.year== 2018) & (df.month == 11)]\n",
    "df_18_12=df.loc[(df.year== 2018) & (df.month == 12)]\n",
    "df_19_01=df.loc[(df.year== 2019) & (df.month == 1)]\n",
    "df_19_02=df.loc[(df.year== 2019) & (df.month == 2)]\n",
    "df_19_03=df.loc[(df.year== 2019) & (df.month == 3)]\n",
    "df_19_04=df.loc[(df.year== 2019) & (df.month == 4)]\n",
    "df_19_05=df.loc[(df.year== 2019) & (df.month == 5)]\n",
    "df_19_06=df.loc[(df.year== 2019) & (df.month == 6)]\n",
    "df_19_07=df.loc[(df.year== 2019) & (df.month == 7)]\n",
    "df_19_08=df.loc[(df.year== 2019) & (df.month == 8)]\n",
    "df_19_09=df.loc[(df.year== 2019) & (df.month == 9)]\n",
    "df_19_10=df.loc[(df.year== 2019) & (df.month == 10)]\n",
    "df_19_11=df.loc[(df.year== 2019) & (df.month == 11)]\n",
    "df_19_12=df.loc[(df.year== 2019) & (df.month == 12)]\n",
    "df_20_01=df.loc[(df.year== 2020) & (df.month == 1)]\n",
    "df_20_02=df.loc[(df.year== 2020) & (df.month == 2)]\n",
    "df_20_03=df.loc[(df.year== 2020) & (df.month == 3)]\n",
    "df_20_04=df.loc[(df.year== 2020) & (df.month == 4)]\n",
    "df_20_05=df.loc[(df.year== 2020) & (df.month == 5)]\n",
    "df_20_06=df.loc[(df.year== 2020) & (df.month == 6)]\n",
    "df_20_07=df.loc[(df.year== 2020) & (df.month == 7)]\n",
    "df_20_08=df.loc[(df.year== 2020) & (df.month == 8)]\n",
    "df_20_09=df.loc[(df.year== 2020) & (df.month == 9)]"
   ]
  },
  {
   "cell_type": "markdown",
   "id": "cc0fb8af",
   "metadata": {},
   "source": [
    "## Define Functions"
   ]
  },
  {
   "cell_type": "code",
   "execution_count": 349,
   "id": "8e8c7ef9",
   "metadata": {},
   "outputs": [],
   "source": [
    "# get unique customer_id for each year and sort them\n",
    "def get_customer_id(id_list):\n",
    "    df= pd.DataFrame(set(id_list),columns=['customer_id'])\n",
    "    df=df.sort_values(by='customer_id' , ascending=False) \n",
    "    df=df.reset_index(drop=True)\n",
    "    return df\n",
    "\n",
    "# sort the transaction info according to customer_id\n",
    "def sort_transaction(df):\n",
    "    df=df.sort_values(by='customer_id' , ascending=False) \n",
    "    df=df.reset_index(drop=True)\n",
    "    return df\n",
    "\n",
    "# get the purchasing list for each customer\n",
    "def purchasing_list(df_id, df_trans):\n",
    "    # both of df_id and df_trans are ordered by the customer ID\n",
    "    total_purchasing_list=[]\n",
    "    \n",
    "    for i in range(len(df_id)):\n",
    "        current_id=df_id['customer_id'][i]\n",
    "        current_list=[]\n",
    "        for j in range(len(df_trans)):\n",
    "            if current_id==df_trans['customer_id'][j]:\n",
    "                current_list.append(df_trans['article_id'][j])\n",
    "                drop_rows=j+1\n",
    "            else: break \n",
    "        df_trans.drop(df_trans.head(drop_rows).index,inplace=True) \n",
    "        df_trans=df_trans.reset_index(drop=True)\n",
    "        total_purchasing_list.append(current_list)\n",
    "    return total_purchasing_list\n",
    "\n",
    "# get the unique purchasing list for each customer\n",
    "def remove_duplicate(purchasing_list):\n",
    "    unique_list=purchasing_list.copy()\n",
    "    for i in range(len(unique_list)):\n",
    "        unique_list[i]=list(set(unique_list[i]))\n",
    "    return unique_list\n",
    "\n",
    "# get the most frequent purchasing item for each customer\n",
    "def most_frequent_per_id(item_list):\n",
    "    max_ocur = max([item_list.count(i) for i in item_list])\n",
    "    if max_ocur>=2:\n",
    "        return [i for i in set(item_list) if item_list.count(i) == max_ocur]\n",
    "    # NA indicates no special preference for the purchasing items\n",
    "\n",
    "# Combine most frequent purchasing item for all customer\n",
    "def most_frequent(purchasing_list):\n",
    "    most_frequent_list=[]\n",
    "    for i in range(len(purchasing_list)):\n",
    "        item=most_frequent_per_id(purchasing_list[i])\n",
    "        most_frequent_list.append(item)\n",
    "    return most_frequent_list\n",
    "\n",
    "# write seperate file to csv\n",
    "def write_to_csv(df,purch_list,file_name):\n",
    "    list_column=[\"customer_id\",\"purchasing_list\"]\n",
    "    column_A= df[\"customer_id\"]\n",
    "    column_B= purch_list\n",
    "    list_row=[]\n",
    "\n",
    "    #to create a list full of rows as the writerow function reads data row-wise\n",
    "    for i in range(len(column_A)):\n",
    "        list_temp=[column_A[i],column_B[i]]\n",
    "        list_row.append(list_temp)\n",
    "\n",
    "\n",
    "    with open (file_name, 'w', newline=\"\") as entry:\n",
    "        writer=csv.writer(entry)\n",
    "        writer.writerow(list_column)\n",
    "        writer.writerows(list_row)\n",
    "\n",
    "        entry.close()\n",
    "        \n",
    "# Merge files  (start from second merge)\n",
    "def merge_dataset(df1,df2):\n",
    "    df=pd.merge(df1,df2,on='customer_id',how='outer')\n",
    "    df['purchasing_list']=\"\"\n",
    "    df=df.fillna(\"\")\n",
    "    for i in range(len(df)):\n",
    "        if len(df['purchasing_list_x'][i])==0:\n",
    "            df['purchasing_list'][i]=df['purchasing_list_y'][i][1:-1]\n",
    "        elif len(df['purchasing_list_y'][i])==0:\n",
    "            df['purchasing_list'][i]=df['purchasing_list_x'][i]\n",
    "        else:\n",
    "            df['purchasing_list'][i]=df['purchasing_list_x'][i]+', '+df['purchasing_list_y'][i][1:-1]\n",
    "    df=df.drop(['purchasing_list_x','purchasing_list_y'], axis=1)\n",
    "    return df\n",
    "\n",
    "\n",
    "\n",
    "\n"
   ]
  },
  {
   "cell_type": "markdown",
   "id": "5ce3ac4c",
   "metadata": {},
   "source": [
    "## generate seperate datasets and write to csv"
   ]
  },
  {
   "cell_type": "code",
   "execution_count": 143,
   "id": "6ccadc79",
   "metadata": {},
   "outputs": [],
   "source": [
    "df_18_09_id=get_customer_id(df_18_09.customer_id)\n",
    "df_18_09_trans=sort_transaction(df_18_09)\n",
    "purchasing_18_09=purchasing_list(df_18_09_id, df_18_09_trans)\n",
    "write_to_csv(df_18_09_id,purchasing_18_09,'2018-09.csv')"
   ]
  },
  {
   "cell_type": "code",
   "execution_count": null,
   "id": "f8d2f8ef",
   "metadata": {},
   "outputs": [],
   "source": [
    "df_18_10_id=get_customer_id(df_18_10.customer_id)\n",
    "df_18_10_trans=sort_transaction(df_18_10)\n",
    "purchasing_18_10=purchasing_list(df_18_10_id, df_18_10_trans)\n",
    "write_to_csv(df_18_10_id,purchasing_18_10,'2018-10.csv')"
   ]
  },
  {
   "cell_type": "code",
   "execution_count": null,
   "id": "74033e9a",
   "metadata": {},
   "outputs": [],
   "source": [
    "df_18_11_id=get_customer_id(df_18_11.customer_id)\n",
    "df_18_11_trans=sort_transaction(df_18_11)\n",
    "purchasing_18_11=purchasing_list(df_18_11_id, df_18_11_trans)\n",
    "write_to_csv(df_18_11_id,purchasing_18_11,'2018-11.csv')"
   ]
  },
  {
   "cell_type": "code",
   "execution_count": null,
   "id": "542fb157",
   "metadata": {},
   "outputs": [],
   "source": [
    "df_18_12_id=get_customer_id(df_18_12.customer_id)\n",
    "df_18_12_trans=sort_transaction(df_18_12)\n",
    "purchasing_18_12=purchasing_list(df_18_12_id, df_18_12_trans)\n",
    "write_to_csv(df_18_12_id,purchasing_18_12,'2018-12.csv')"
   ]
  },
  {
   "cell_type": "code",
   "execution_count": null,
   "id": "3742f698",
   "metadata": {},
   "outputs": [],
   "source": [
    "df_19_01_id=get_customer_id(df_19_01.customer_id)\n",
    "df_19_01_trans=sort_transaction(df_19_01)\n",
    "purchasing_19_01=purchasing_list(df_19_01_id, df_19_01_trans)\n",
    "write_to_csv(df_19_01_id,purchasing_19_01,'2019-01.csv')"
   ]
  },
  {
   "cell_type": "code",
   "execution_count": null,
   "id": "83335a1a",
   "metadata": {},
   "outputs": [],
   "source": [
    "df_19_02_id=get_customer_id(df_19_02.customer_id)\n",
    "df_19_02_trans=sort_transaction(df_19_02)\n",
    "purchasing_19_02=purchasing_list(df_19_02_id, df_19_02_trans)\n",
    "write_to_csv(df_19_02_id,purchasing_19_02,'2019-02.csv')"
   ]
  },
  {
   "cell_type": "code",
   "execution_count": null,
   "id": "8148d9cc",
   "metadata": {},
   "outputs": [],
   "source": [
    "df_19_03_id=get_customer_id(df_19_03.customer_id)\n",
    "df_19_03_trans=sort_transaction(df_19_03)\n",
    "purchasing_19_03=purchasing_list(df_19_03_id, df_19_03_trans)\n",
    "write_to_csv(df_19_03_id,purchasing_19_03,'2019-03.csv')"
   ]
  },
  {
   "cell_type": "code",
   "execution_count": null,
   "id": "dec41462",
   "metadata": {},
   "outputs": [],
   "source": [
    "df_19_04_id=get_customer_id(df_19_04.customer_id)\n",
    "df_19_04_trans=sort_transaction(df_19_04)\n",
    "purchasing_19_04=purchasing_list(df_19_04_id, df_19_04_trans)\n",
    "write_to_csv(df_19_04_id,purchasing_19_04,'2019-04.csv')"
   ]
  },
  {
   "cell_type": "code",
   "execution_count": 350,
   "id": "380b71ae",
   "metadata": {},
   "outputs": [],
   "source": [
    "df_19_05_id=get_customer_id(df_19_05.customer_id)\n",
    "df_19_05_trans=sort_transaction(df_19_05)\n",
    "purchasing_19_05=purchasing_list(df_19_05_id, df_19_05_trans)\n",
    "write_to_csv(df_19_05_id,purchasing_19_05,'2019-05.csv')"
   ]
  },
  {
   "cell_type": "code",
   "execution_count": 351,
   "id": "8975c661",
   "metadata": {},
   "outputs": [],
   "source": [
    "df_19_06_id=get_customer_id(df_19_06.customer_id)\n",
    "df_19_06_trans=sort_transaction(df_19_06)\n",
    "purchasing_19_06=purchasing_list(df_19_06_id, df_19_06_trans)\n",
    "write_to_csv(df_19_06_id,purchasing_19_06,'2019-06.csv')"
   ]
  },
  {
   "cell_type": "code",
   "execution_count": 352,
   "id": "b19232ef",
   "metadata": {},
   "outputs": [],
   "source": [
    "df_19_07_id=get_customer_id(df_19_07.customer_id)\n",
    "df_19_07_trans=sort_transaction(df_19_07)\n",
    "purchasing_19_07=purchasing_list(df_19_07_id, df_19_07_trans)\n",
    "write_to_csv(df_19_07_id,purchasing_19_07,'2019-07.csv')"
   ]
  },
  {
   "cell_type": "code",
   "execution_count": 353,
   "id": "0bac41cf",
   "metadata": {},
   "outputs": [],
   "source": [
    "write_to_csv(df_19_05_id,purchasing_19_05,'2019-05.csv')\n",
    "write_to_csv(df_19_06_id,purchasing_19_06,'2019-06.csv')\n",
    "write_to_csv(df_19_07_id,purchasing_19_07,'2019-07.csv')"
   ]
  },
  {
   "cell_type": "code",
   "execution_count": 354,
   "id": "d85a95fc",
   "metadata": {},
   "outputs": [],
   "source": [
    "df_19_08_id=get_customer_id(df_19_08.customer_id)\n",
    "df_19_08_trans=sort_transaction(df_19_08)\n",
    "purchasing_19_08=purchasing_list(df_19_08_id, df_19_08_trans)\n",
    "write_to_csv(df_19_08_id,purchasing_19_08,'2019-08.csv')"
   ]
  },
  {
   "cell_type": "code",
   "execution_count": 355,
   "id": "7f92cd4c",
   "metadata": {},
   "outputs": [],
   "source": [
    "df_19_09_id=get_customer_id(df_19_09.customer_id)\n",
    "df_19_09_trans=sort_transaction(df_19_09)\n",
    "purchasing_19_09=purchasing_list(df_19_09_id, df_19_09_trans)\n",
    "write_to_csv(df_19_09_id,purchasing_19_09,'2019-09.csv')"
   ]
  },
  {
   "cell_type": "code",
   "execution_count": 356,
   "id": "1ada104f",
   "metadata": {},
   "outputs": [],
   "source": [
    "df_19_10_id=get_customer_id(df_19_10.customer_id)90\n",
    "df_19_10_trans=sort_transaction(df_19_10)\n",
    "purchasing_19_10=purchasing_list(df_19_10_id, df_19_10_trans)\n",
    "write_to_csv(df_19_10_id,purchasing_19_10,'2019-10.csv')"
   ]
  },
  {
   "cell_type": "code",
   "execution_count": 357,
   "id": "b3961127",
   "metadata": {},
   "outputs": [],
   "source": [
    "df_19_11_id=get_customer_id(df_19_11.customer_id)\n",
    "df_19_11_trans=sort_transaction(df_19_11)\n",
    "purchasing_19_11=purchasing_list(df_19_11_id, df_19_11_trans)\n",
    "write_to_csv(df_19_11_id,purchasing_19_11,'2019-11.csv')"
   ]
  },
  {
   "cell_type": "code",
   "execution_count": 358,
   "id": "4273f4b8",
   "metadata": {},
   "outputs": [],
   "source": [
    "df_19_12_id=get_customer_id(df_19_12.customer_id)\n",
    "df_19_12_trans=sort_transaction(df_19_12)\n",
    "purchasing_19_12=purchasing_list(df_19_12_id, df_19_12_trans)\n",
    "write_to_csv(df_19_12_id,purchasing_19_12,'2019-12.csv')"
   ]
  },
  {
   "cell_type": "code",
   "execution_count": 360,
   "id": "63b33597",
   "metadata": {},
   "outputs": [],
   "source": [
    "df_20_01_id=get_customer_id(df_20_01.customer_id)\n",
    "df_20_01_trans=sort_transaction(df_20_01)\n",
    "purchasing_20_01=purchasing_list(df_20_01_id, df_20_01_trans)\n",
    "write_to_csv(df_20_01_id,purchasing_20_01,'2020-01.csv')"
   ]
  },
  {
   "cell_type": "code",
   "execution_count": 361,
   "id": "1c42e420",
   "metadata": {},
   "outputs": [],
   "source": [
    "df_20_02_id=get_customer_id(df_20_02.customer_id)\n",
    "df_20_02_trans=sort_transaction(df_20_02)\n",
    "purchasing_20_02=purchasing_list(df_20_02_id, df_20_02_trans)\n",
    "write_to_csv(df_20_02_id,purchasing_20_02,'2020-02.csv')"
   ]
  },
  {
   "cell_type": "code",
   "execution_count": 362,
   "id": "5e25ca82",
   "metadata": {},
   "outputs": [],
   "source": [
    "df_20_03_id=get_customer_id(df_20_03.customer_id)\n",
    "df_20_03_trans=sort_transaction(df_20_03)\n",
    "purchasing_20_03=purchasing_list(df_20_03_id, df_20_03_trans)\n",
    "write_to_csv(df_20_03_id,purchasing_20_03,'2020-03.csv')"
   ]
  },
  {
   "cell_type": "code",
   "execution_count": 363,
   "id": "39c77202",
   "metadata": {},
   "outputs": [],
   "source": [
    "df_20_04_id=get_customer_id(df_20_04.customer_id)\n",
    "df_20_04_trans=sort_transaction(df_20_04)\n",
    "purchasing_20_04=purchasing_list(df_20_04_id, df_20_04_trans)\n",
    "write_to_csv(df_20_04_id,purchasing_20_04,'2020-04.csv')"
   ]
  },
  {
   "cell_type": "code",
   "execution_count": 364,
   "id": "9125e028",
   "metadata": {},
   "outputs": [],
   "source": [
    "df_20_05_id=get_customer_id(df_20_05.customer_id)\n",
    "df_20_05_trans=sort_transaction(df_20_05)\n",
    "purchasing_20_05=purchasing_list(df_20_05_id, df_20_05_trans)\n",
    "write_to_csv(df_20_05_id,purchasing_20_05,'2020-05.csv')"
   ]
  },
  {
   "cell_type": "code",
   "execution_count": 365,
   "id": "469510f4",
   "metadata": {},
   "outputs": [],
   "source": [
    "df_20_06_id=get_customer_id(df_20_06.customer_id)\n",
    "df_20_06_trans=sort_transaction(df_20_06)\n",
    "purchasing_20_06=purchasing_list(df_20_06_id, df_20_06_trans)\n",
    "write_to_csv(df_20_06_id,purchasing_20_06,'2020-06.csv')"
   ]
  },
  {
   "cell_type": "code",
   "execution_count": 366,
   "id": "21edb5c2",
   "metadata": {},
   "outputs": [],
   "source": [
    "df_20_07_id=get_customer_id(df_20_07.customer_id)\n",
    "df_20_07_trans=sort_transaction(df_20_07)\n",
    "purchasing_20_07=purchasing_list(df_20_07_id, df_20_07_trans)\n",
    "write_to_csv(df_20_07_id,purchasing_20_07,'2020-07.csv')"
   ]
  },
  {
   "cell_type": "code",
   "execution_count": 367,
   "id": "5f4724a6",
   "metadata": {},
   "outputs": [],
   "source": [
    "df_20_08_id=get_customer_id(df_20_08.customer_id)\n",
    "df_20_08_trans=sort_transaction(df_20_08)\n",
    "purchasing_20_08=purchasing_list(df_20_08_id, df_20_08_trans)\n",
    "write_to_csv(df_20_08_id,purchasing_20_08,'2020-08.csv')"
   ]
  },
  {
   "cell_type": "code",
   "execution_count": 368,
   "id": "a1adad31",
   "metadata": {},
   "outputs": [],
   "source": [
    "df_20_09_id=get_customer_id(df_20_09.customer_id)\n",
    "df_20_09_trans=sort_transaction(df_20_09)\n",
    "purchasing_20_09=purchasing_list(df_20_09_id, df_20_09_trans)\n",
    "write_to_csv(df_20_09_id,purchasing_20_09,'2020-09.csv')"
   ]
  },
  {
   "cell_type": "markdown",
   "id": "a46ffe07",
   "metadata": {},
   "source": [
    "## read in seperate datasets"
   ]
  },
  {
   "cell_type": "code",
   "execution_count": 369,
   "id": "7c8f1474",
   "metadata": {},
   "outputs": [],
   "source": [
    "df_2018_09=pd.read_csv(\"2018-09.csv\")\n",
    "df_2018_10=pd.read_csv(\"2018-10.csv\")\n",
    "df_2018_11=pd.read_csv(\"2018-11.csv\")\n",
    "df_2018_12=pd.read_csv(\"2018-12.csv\")\n",
    "df_2019_01=pd.read_csv(\"2019-01.csv\")\n",
    "df_2019_02=pd.read_csv(\"2019-02.csv\")\n",
    "df_2019_03=pd.read_csv(\"2019-03.csv\")\n",
    "df_2019_04=pd.read_csv(\"2019-04.csv\")\n",
    "df_2019_05=pd.read_csv(\"2019-05.csv\")\n",
    "df_2019_06=pd.read_csv(\"2019-06.csv\")\n",
    "df_2019_07=pd.read_csv(\"2019-07.csv\")\n",
    "df_2019_08=pd.read_csv(\"2019-08.csv\")\n",
    "df_2019_09=pd.read_csv(\"2019-09.csv\")\n",
    "df_2019_10=pd.read_csv(\"2019-10.csv\")\n",
    "df_2019_11=pd.read_csv(\"2019-11.csv\")\n",
    "df_2019_12=pd.read_csv(\"2019-12.csv\")\n",
    "df_2020_01=pd.read_csv(\"2020-01.csv\")\n",
    "df_2020_02=pd.read_csv(\"2020-02.csv\")\n",
    "df_2020_03=pd.read_csv(\"2020-03.csv\")\n",
    "df_2020_04=pd.read_csv(\"2020-04.csv\")\n",
    "df_2020_05=pd.read_csv(\"2020-05.csv\")\n",
    "df_2020_06=pd.read_csv(\"2020-06.csv\")\n",
    "df_2020_07=pd.read_csv(\"2020-07.csv\")\n",
    "df_2020_08=pd.read_csv(\"2020-08.csv\")\n",
    "df_2020_09=pd.read_csv(\"2020-09.csv\")"
   ]
  },
  {
   "cell_type": "markdown",
   "id": "8cf2aa95",
   "metadata": {},
   "source": [
    "## Merge the datasets"
   ]
  },
  {
   "cell_type": "markdown",
   "id": "11ebe7a6",
   "metadata": {},
   "source": [
    "##### First Merge"
   ]
  },
  {
   "cell_type": "code",
   "execution_count": 263,
   "id": "506f6847",
   "metadata": {},
   "outputs": [],
   "source": [
    "df_merge1=pd.merge(df_2018_09,df_2018_10,on='customer_id',how='outer')"
   ]
  },
  {
   "cell_type": "code",
   "execution_count": 264,
   "id": "129952a3",
   "metadata": {},
   "outputs": [
    {
     "data": {
      "text/html": [
       "<div>\n",
       "<style scoped>\n",
       "    .dataframe tbody tr th:only-of-type {\n",
       "        vertical-align: middle;\n",
       "    }\n",
       "\n",
       "    .dataframe tbody tr th {\n",
       "        vertical-align: top;\n",
       "    }\n",
       "\n",
       "    .dataframe thead th {\n",
       "        text-align: right;\n",
       "    }\n",
       "</style>\n",
       "<table border=\"1\" class=\"dataframe\">\n",
       "  <thead>\n",
       "    <tr style=\"text-align: right;\">\n",
       "      <th></th>\n",
       "      <th>customer_id</th>\n",
       "      <th>purchasing_list_x</th>\n",
       "      <th>purchasing_list_y</th>\n",
       "      <th>purchasing_list</th>\n",
       "    </tr>\n",
       "  </thead>\n",
       "  <tbody>\n",
       "    <tr>\n",
       "      <th>0</th>\n",
       "      <td>ffffcf35913a0bee60e8741cb2b4e78b8a98ee5ff2e6a1...</td>\n",
       "      <td>[568597019]</td>\n",
       "      <td>[484398001, 484398001]</td>\n",
       "      <td></td>\n",
       "    </tr>\n",
       "    <tr>\n",
       "      <th>1</th>\n",
       "      <td>ffffcd5046a6143d29a04fb8c424ce494a76e5cdf4fab5...</td>\n",
       "      <td>[671695001]</td>\n",
       "      <td>NaN</td>\n",
       "      <td></td>\n",
       "    </tr>\n",
       "    <tr>\n",
       "      <th>2</th>\n",
       "      <td>fffed13f041cc91f74dc6ec4e3267d7bb71bc833d53b7d...</td>\n",
       "      <td>[661435002]</td>\n",
       "      <td>NaN</td>\n",
       "      <td></td>\n",
       "    </tr>\n",
       "    <tr>\n",
       "      <th>3</th>\n",
       "      <td>fffec3dbcc87c78300f37f62cfca4274f1ea6ef59dba10...</td>\n",
       "      <td>[559645001, 657097001]</td>\n",
       "      <td>[694153001]</td>\n",
       "      <td></td>\n",
       "    </tr>\n",
       "    <tr>\n",
       "      <th>4</th>\n",
       "      <td>fffe7116f9f68e8ad287fd7b6e33aad4871d7080e77d2d...</td>\n",
       "      <td>[580770002, 496111013, 548467001]</td>\n",
       "      <td>[523642005, 618480001, 548657001, 573856024, 6...</td>\n",
       "      <td></td>\n",
       "    </tr>\n",
       "  </tbody>\n",
       "</table>\n",
       "</div>"
      ],
      "text/plain": [
       "                                         customer_id  \\\n",
       "0  ffffcf35913a0bee60e8741cb2b4e78b8a98ee5ff2e6a1...   \n",
       "1  ffffcd5046a6143d29a04fb8c424ce494a76e5cdf4fab5...   \n",
       "2  fffed13f041cc91f74dc6ec4e3267d7bb71bc833d53b7d...   \n",
       "3  fffec3dbcc87c78300f37f62cfca4274f1ea6ef59dba10...   \n",
       "4  fffe7116f9f68e8ad287fd7b6e33aad4871d7080e77d2d...   \n",
       "\n",
       "                   purchasing_list_x  \\\n",
       "0                        [568597019]   \n",
       "1                        [671695001]   \n",
       "2                        [661435002]   \n",
       "3             [559645001, 657097001]   \n",
       "4  [580770002, 496111013, 548467001]   \n",
       "\n",
       "                                   purchasing_list_y purchasing_list  \n",
       "0                             [484398001, 484398001]                  \n",
       "1                                                NaN                  \n",
       "2                                                NaN                  \n",
       "3                                        [694153001]                  \n",
       "4  [523642005, 618480001, 548657001, 573856024, 6...                  "
      ]
     },
     "execution_count": 264,
     "metadata": {},
     "output_type": "execute_result"
    }
   ],
   "source": [
    "df_merge1['purchasing_list']=\"\"\n",
    "df_merge1.head()"
   ]
  },
  {
   "cell_type": "code",
   "execution_count": 265,
   "id": "169b9143",
   "metadata": {},
   "outputs": [],
   "source": [
    "df_merge1=df_merge1.fillna(\"\")"
   ]
  },
  {
   "cell_type": "code",
   "execution_count": 266,
   "id": "a7f07c3e",
   "metadata": {},
   "outputs": [],
   "source": [
    "for i in range(len(df_merge1)):\n",
    "    if len(df_merge1['purchasing_list_x'][i])==0:\n",
    "        df_merge1['purchasing_list'][i]=df_merge1['purchasing_list_y'][i][1:-1]\n",
    "    elif len(df_merge1['purchasing_list_y'][i])==0:\n",
    "        df_merge1['purchasing_list'][i]=df_merge1['purchasing_list_x'][i][1:-1]\n",
    "    else:\n",
    "        df_merge1['purchasing_list'][i]=df_merge1['purchasing_list_x'][i][1:-1]+', '+df_merge1['purchasing_list_y'][i][1:-1]\n"
   ]
  },
  {
   "cell_type": "code",
   "execution_count": 272,
   "id": "aabcabf4",
   "metadata": {},
   "outputs": [],
   "source": [
    "df_merge1=df_merge1.drop(['purchasing_list_x','purchasing_list_y'], axis=1)\n"
   ]
  },
  {
   "cell_type": "markdown",
   "id": "76ec20cc",
   "metadata": {},
   "source": [
    "##### Rest merge"
   ]
  },
  {
   "cell_type": "code",
   "execution_count": 303,
   "id": "2e535d17",
   "metadata": {},
   "outputs": [],
   "source": []
  },
  {
   "cell_type": "code",
   "execution_count": null,
   "id": "cae5876c",
   "metadata": {},
   "outputs": [],
   "source": [
    "df_merge2=merge_dataset(df_merge1,df_2018_11)\n",
    "df_merge3=merge_dataset(df_merge2,df_2018_12)\n",
    "df_merge4=merge_dataset(df_merge3,df_2019_01)\n",
    "df_merge5=merge_dataset(df_merge4,df_2019_02)\n",
    "df_merge6=merge_dataset(df_merge5,df_2019_03)\n",
    "df_merge7=merge_dataset(df_merge6,df_2019_04)\n",
    "df_merge8=merge_dataset(df_merge7,df_2019_05)\n",
    "df_merge9=merge_dataset(df_merge8,df_2019_06)\n",
    "df_merge10=merge_dataset(df_merge9,df_2019_07)\n",
    "df_merge11=merge_dataset(df_merge10,df_2019_08)\n",
    "df_merge12=merge_dataset(df_merge11,df_2019_09)\n",
    "df_merge13=merge_dataset(df_merge12,df_2019_10)\n",
    "df_merge14=merge_dataset(df_merge13,df_2019_11)\n",
    "df_merge15=merge_dataset(df_merge14,df_2019_12)\n",
    "df_merge16=merge_dataset(df_merge15,df_2020_01)\n",
    "df_merge17=merge_dataset(df_merge16,df_2020_02)\n",
    "df_merge18=merge_dataset(df_merge17,df_2020_03)\n",
    "df_merge19=merge_dataset(df_merge18,df_2020_04)\n",
    "df_merge20=merge_dataset(df_merge19,df_2020_05)\n",
    "df_merge21=merge_dataset(df_merge20,df_2020_06)\n",
    "df_merge22=merge_dataset(df_merge21,df_2020_07)\n",
    "df_merge23=merge_dataset(df_merge22,df_2020_08)\n",
    "df_merge24=merge_dataset(df_merge23,df_2020_09)"
   ]
  },
  {
   "cell_type": "markdown",
   "id": "0c4bbc36",
   "metadata": {},
   "source": [
    "## Convert str in df to list"
   ]
  },
  {
   "cell_type": "code",
   "execution_count": 321,
   "id": "a1bf7446",
   "metadata": {},
   "outputs": [],
   "source": [
    "def convert_to_str(df):\n",
    "    purchasing_list=[]\n",
    "    for i in range(len(df)):\n",
    "        a=df['purchasing_list'][i].split(\", \")\n",
    "        purchasing_list.append(a)\n",
    "    return purchasing_list"
   ]
  },
  {
   "cell_type": "code",
   "execution_count": 333,
   "id": "e103f5ca",
   "metadata": {},
   "outputs": [],
   "source": [
    "purchasing_freq_list=convert_to_str(df_merge24)"
   ]
  },
  {
   "cell_type": "code",
   "execution_count": 342,
   "id": "86af54e4",
   "metadata": {},
   "outputs": [],
   "source": [
    "# unique purchasing record for each customer_id\n",
    "purchasing_unique=remove_duplicate(purchasing_freq_list)\n",
    "\n",
    "# most frequent item\n",
    "most_frequent_item=most_frequent(purchasing_freq_list)"
   ]
  },
  {
   "cell_type": "markdown",
   "id": "238b4315",
   "metadata": {},
   "source": [
    "## Final output to csv"
   ]
  },
  {
   "cell_type": "code",
   "execution_count": 345,
   "id": "18c8444b",
   "metadata": {},
   "outputs": [],
   "source": [
    "list_column=[\"customer_id\",\"purchasing_list\",\"most_frequent\"]\n",
    "column_A= df_merge24[\"customer_id\"]\n",
    "column_B= purchasing_unique\n",
    "column_C=most_frequent_item\n",
    "list_row=[]\n",
    "\n",
    "    #to create a list full of rows as the writerow function reads data row-wise\n",
    "for i in range(len(column_A)):\n",
    "    list_temp=[column_A[i],column_B[i],column_C[i]]\n",
    "    list_row.append(list_temp)\n",
    "\n",
    "\n",
    "with open ('final_coutput.csv', 'w', newline=\"\") as entry:\n",
    "    writer=csv.writer(entry)\n",
    "    writer.writerow(list_column)\n",
    "    writer.writerows(list_row)\n",
    "\n",
    "    entry.close()\n",
    "        "
   ]
  },
  {
   "cell_type": "code",
   "execution_count": null,
   "id": "9d13be96",
   "metadata": {},
   "outputs": [],
   "source": []
  }
 ],
 "metadata": {
  "kernelspec": {
   "display_name": "Python 3 (ipykernel)",
   "language": "python",
   "name": "python3"
  },
  "language_info": {
   "codemirror_mode": {
    "name": "ipython",
    "version": 3
   },
   "file_extension": ".py",
   "mimetype": "text/x-python",
   "name": "python",
   "nbconvert_exporter": "python",
   "pygments_lexer": "ipython3",
   "version": "3.9.11"
  }
 },
 "nbformat": 4,
 "nbformat_minor": 5
}
